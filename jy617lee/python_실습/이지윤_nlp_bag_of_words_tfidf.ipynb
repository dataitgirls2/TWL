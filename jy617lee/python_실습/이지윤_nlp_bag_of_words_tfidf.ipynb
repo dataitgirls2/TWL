{
  "nbformat": 4,
  "nbformat_minor": 0,
  "metadata": {
    "colab": {
      "name": "이지윤_nlp_bag_of_words_tfidf",
      "version": "0.3.2",
      "views": {},
      "default_view": {},
      "provenance": [
        {
          "file_id": "17GoxNfFlVQqr5RObRgnVGEFlTWy-SdX8",
          "timestamp": 1532323034863
        },
        {
          "file_id": "1wVWeDBdmSOdzDM2ZmeDUmbEEnC5d9aK2",
          "timestamp": 1532253479497
        }
      ],
      "collapsed_sections": []
    },
    "kernelspec": {
      "display_name": "Python 3",
      "language": "python",
      "name": "python3"
    }
  },
  "cells": [
    {
      "metadata": {
        "id": "xJf52GxibCRc",
        "colab_type": "text"
      },
      "cell_type": "markdown",
      "source": [
        "# 단어 벡터화 하기"
      ]
    },
    {
      "metadata": {
        "id": "b0wGwqcybCRd",
        "colab_type": "code",
        "colab": {
          "autoexec": {
            "startup": false,
            "wait_interval": 0
          },
          "base_uri": "https://localhost:8080/",
          "height": 319
        },
        "outputId": "825a56f0-10b1-4a91-9154-01cc7866ebcd",
        "executionInfo": {
          "status": "ok",
          "timestamp": 1532326494337,
          "user_tz": -540,
          "elapsed": 4480,
          "user": {
            "displayName": "jeeyun lee",
            "photoUrl": "https://lh3.googleusercontent.com/a/default-user=s128",
            "userId": "106132043570557958485"
          }
        }
      },
      "cell_type": "code",
      "source": [
        "!pip install soynlp\n",
        "!pip show soynlp"
      ],
      "execution_count": 55,
      "outputs": [
        {
          "output_type": "stream",
          "text": [
            "Requirement already satisfied: soynlp in /usr/local/lib/python3.6/dist-packages (0.0.46)\r\n",
            "Requirement already satisfied: numpy>=1.12.1 in /usr/local/lib/python3.6/dist-packages (from soynlp) (1.14.5)\r\n",
            "Requirement already satisfied: psutil>=5.0.1 in /usr/local/lib/python3.6/dist-packages (from soynlp) (5.4.6)\n",
            "\u001b[33mYou are using pip version 10.0.1, however version 18.0 is available.\n",
            "You should consider upgrading via the 'pip install --upgrade pip' command.\u001b[0m\n",
            "Name: soynlp\n",
            "Version: 0.0.46\n",
            "Summary: Unsupervised Korean Natural Language Processing Toolkits\n",
            "Home-page: https://github.com/lovit/soynlp\n",
            "Author: Lovit\n",
            "Author-email: soy.lovit@gmail.com\n",
            "License: UNKNOWN\n",
            "Location: /usr/local/lib/python3.6/dist-packages\n",
            "Requires: numpy, psutil\n",
            "Required-by: \n",
            "\u001b[33mYou are using pip version 10.0.1, however version 18.0 is available.\n",
            "You should consider upgrading via the 'pip install --upgrade pip' command.\u001b[0m\n"
          ],
          "name": "stdout"
        }
      ]
    },
    {
      "metadata": {
        "id": "m6NyRoTNbCRi",
        "colab_type": "code",
        "colab": {
          "autoexec": {
            "startup": false,
            "wait_interval": 0
          },
          "base_uri": "https://localhost:8080/",
          "height": 284
        },
        "outputId": "9190f70d-04e6-4f05-c125-dea96bcaeba0",
        "executionInfo": {
          "status": "ok",
          "timestamp": 1532326499606,
          "user_tz": -540,
          "elapsed": 5189,
          "user": {
            "displayName": "jeeyun lee",
            "photoUrl": "https://lh3.googleusercontent.com/a/default-user=s128",
            "userId": "106132043570557958485"
          }
        }
      },
      "cell_type": "code",
      "source": [
        "!pip install -U scikit-learn\n",
        "!pip show scikit-learn"
      ],
      "execution_count": 56,
      "outputs": [
        {
          "output_type": "stream",
          "text": [
            "Requirement already up-to-date: scikit-learn in /usr/local/lib/python3.6/dist-packages (0.19.2)\n",
            "\u001b[33mYou are using pip version 10.0.1, however version 18.0 is available.\n",
            "You should consider upgrading via the 'pip install --upgrade pip' command.\u001b[0m\n",
            "Name: scikit-learn\n",
            "Version: 0.19.2\n",
            "Summary: A set of python modules for machine learning and data mining\n",
            "Home-page: http://scikit-learn.org\n",
            "Author: None\n",
            "Author-email: None\n",
            "License: new BSD\n",
            "Location: /usr/local/lib/python3.6/dist-packages\n",
            "Requires: \n",
            "Required-by: \n",
            "\u001b[33mYou are using pip version 10.0.1, however version 18.0 is available.\n",
            "You should consider upgrading via the 'pip install --upgrade pip' command.\u001b[0m\n"
          ],
          "name": "stdout"
        }
      ]
    },
    {
      "metadata": {
        "id": "KryTSNY8bCRm",
        "colab_type": "text"
      },
      "cell_type": "markdown",
      "source": [
        "# 데이터 불러오기"
      ]
    },
    {
      "metadata": {
        "id": "kPDyqywSbCRm",
        "colab_type": "code",
        "colab": {
          "autoexec": {
            "startup": false,
            "wait_interval": 0
          }
        }
      },
      "cell_type": "code",
      "source": [
        "import pandas as pd\n",
        "import numpy as np\n",
        "import re"
      ],
      "execution_count": 0,
      "outputs": []
    },
    {
      "metadata": {
        "id": "TGGi7dJ9bCRo",
        "colab_type": "code",
        "colab": {
          "autoexec": {
            "startup": false,
            "wait_interval": 0
          }
        }
      },
      "cell_type": "code",
      "source": [
        "df = pd.read_csv('https://s3.ap-northeast-2.amazonaws.com/data10902/petition/petition.csv', \n",
        "                 parse_dates=['start', 'end'])"
      ],
      "execution_count": 0,
      "outputs": []
    },
    {
      "metadata": {
        "id": "XXidIY0ibCRr",
        "colab_type": "code",
        "colab": {
          "autoexec": {
            "startup": false,
            "wait_interval": 0
          },
          "base_uri": "https://localhost:8080/",
          "height": 35
        },
        "outputId": "b43754d5-e714-4688-afad-38d0d45d486a",
        "executionInfo": {
          "status": "ok",
          "timestamp": 1532326539735,
          "user_tz": -540,
          "elapsed": 2886,
          "user": {
            "displayName": "jeeyun lee",
            "photoUrl": "https://lh3.googleusercontent.com/a/default-user=s128",
            "userId": "106132043570557958485"
          }
        }
      },
      "cell_type": "code",
      "source": [
        "# 관심사별로 텍스트 데이터를 학습시키기 위한 목적도 있지만 전체 텍스트를 돌렸을 때 빠르게 결과를 얻기 위해서 샘플링 하려는 의도도 있습니다.\n",
        "p = r'.*(공기질|미세먼지).*'\n",
        "air = df[df['title'].str.match(p) |\n",
        "           df['content'].str.match(p, flags=re.MULTILINE)]\n",
        "air.shape"
      ],
      "execution_count": 59,
      "outputs": [
        {
          "output_type": "execute_result",
          "data": {
            "text/plain": [
              "(3867, 8)"
            ]
          },
          "metadata": {
            "tags": []
          },
          "execution_count": 59
        }
      ]
    },
    {
      "metadata": {
        "id": "7QPcSnG1bCRu",
        "colab_type": "code",
        "colab": {
          "autoexec": {
            "startup": false,
            "wait_interval": 0
          },
          "base_uri": "https://localhost:8080/",
          "height": 285
        },
        "outputId": "18018d77-0d3a-4a65-fdb7-c9466708baca",
        "executionInfo": {
          "status": "ok",
          "timestamp": 1532326540509,
          "user_tz": -540,
          "elapsed": 711,
          "user": {
            "displayName": "jeeyun lee",
            "photoUrl": "https://lh3.googleusercontent.com/a/default-user=s128",
            "userId": "106132043570557958485"
          }
        }
      },
      "cell_type": "code",
      "source": [
        "air.head()"
      ],
      "execution_count": 60,
      "outputs": [
        {
          "output_type": "execute_result",
          "data": {
            "text/html": [
              "<div>\n",
              "<style scoped>\n",
              "    .dataframe tbody tr th:only-of-type {\n",
              "        vertical-align: middle;\n",
              "    }\n",
              "\n",
              "    .dataframe tbody tr th {\n",
              "        vertical-align: top;\n",
              "    }\n",
              "\n",
              "    .dataframe thead th {\n",
              "        text-align: right;\n",
              "    }\n",
              "</style>\n",
              "<table border=\"1\" class=\"dataframe\">\n",
              "  <thead>\n",
              "    <tr style=\"text-align: right;\">\n",
              "      <th></th>\n",
              "      <th>article_id</th>\n",
              "      <th>start</th>\n",
              "      <th>end</th>\n",
              "      <th>answered</th>\n",
              "      <th>votes</th>\n",
              "      <th>category</th>\n",
              "      <th>title</th>\n",
              "      <th>content</th>\n",
              "    </tr>\n",
              "  </thead>\n",
              "  <tbody>\n",
              "    <tr>\n",
              "      <th>322</th>\n",
              "      <td>348</td>\n",
              "      <td>2017-08-23</td>\n",
              "      <td>2017-11-21</td>\n",
              "      <td>0</td>\n",
              "      <td>393</td>\n",
              "      <td>안전/환경</td>\n",
              "      <td>미세먼지의 주범 바이오매스 발전소 건립을 반대합니다</td>\n",
              "      <td>안녕하세요 전남 순천에 사는 시민입니다. 지금 전남 광양에 친환경 발전이라는 이름 ...</td>\n",
              "    </tr>\n",
              "    <tr>\n",
              "      <th>403</th>\n",
              "      <td>431</td>\n",
              "      <td>2017-08-24</td>\n",
              "      <td>2017-08-31</td>\n",
              "      <td>0</td>\n",
              "      <td>1</td>\n",
              "      <td>안전/환경</td>\n",
              "      <td>미세먼지 대책방안 및 국민건강 개선대책 방안 제안입니다.</td>\n",
              "      <td>미세먼지 대책방안 및 국민건강 개선대책 방안 제안입니다.\\n미세먼지의 주요 원이 무...</td>\n",
              "    </tr>\n",
              "    <tr>\n",
              "      <th>645</th>\n",
              "      <td>673</td>\n",
              "      <td>2017-08-27</td>\n",
              "      <td>2017-09-03</td>\n",
              "      <td>0</td>\n",
              "      <td>616</td>\n",
              "      <td>육아/교육</td>\n",
              "      <td>초등학교 엉터리 석면공사에도 대책없는 교육청, 바로잡아 주세요!!!</td>\n",
              "      <td>경기도 교육청에서 이번 여름방학중 진행한 과천 관문초등학교 천장 석면텍스교체공사에서...</td>\n",
              "    </tr>\n",
              "    <tr>\n",
              "      <th>659</th>\n",
              "      <td>687</td>\n",
              "      <td>2017-08-27</td>\n",
              "      <td>2017-09-26</td>\n",
              "      <td>0</td>\n",
              "      <td>258</td>\n",
              "      <td>안전/환경</td>\n",
              "      <td>수원SKC화학공장, 주거지역에 24시간60DB소음발생</td>\n",
              "      <td>존경하는 우리 문재인 대통령님께.\\n대통령님, 안녕하세요?\\n저는 경기도 수원시 장...</td>\n",
              "    </tr>\n",
              "    <tr>\n",
              "      <th>670</th>\n",
              "      <td>698</td>\n",
              "      <td>2017-08-28</td>\n",
              "      <td>2017-09-04</td>\n",
              "      <td>0</td>\n",
              "      <td>0</td>\n",
              "      <td>외교/통일/국방</td>\n",
              "      <td>문재인대통령님과 문재인정부는 외교력을 완벽하게 강화해야하고,발휘해야합니다</td>\n",
              "      <td>지금\\n그간 줄기차게 비난해 온 UFG 연습에 대해 그냥 넘어가기 어려운 상황에서 ...</td>\n",
              "    </tr>\n",
              "  </tbody>\n",
              "</table>\n",
              "</div>"
            ],
            "text/plain": [
              "     article_id      start        end  answered  votes  category  \\\n",
              "322         348 2017-08-23 2017-11-21         0    393     안전/환경   \n",
              "403         431 2017-08-24 2017-08-31         0      1     안전/환경   \n",
              "645         673 2017-08-27 2017-09-03         0    616     육아/교육   \n",
              "659         687 2017-08-27 2017-09-26         0    258     안전/환경   \n",
              "670         698 2017-08-28 2017-09-04         0      0  외교/통일/국방   \n",
              "\n",
              "                                        title  \\\n",
              "322              미세먼지의 주범 바이오매스 발전소 건립을 반대합니다   \n",
              "403           미세먼지 대책방안 및 국민건강 개선대책 방안 제안입니다.   \n",
              "645     초등학교 엉터리 석면공사에도 대책없는 교육청, 바로잡아 주세요!!!   \n",
              "659             수원SKC화학공장, 주거지역에 24시간60DB소음발생   \n",
              "670  문재인대통령님과 문재인정부는 외교력을 완벽하게 강화해야하고,발휘해야합니다   \n",
              "\n",
              "                                               content  \n",
              "322  안녕하세요 전남 순천에 사는 시민입니다. 지금 전남 광양에 친환경 발전이라는 이름 ...  \n",
              "403  미세먼지 대책방안 및 국민건강 개선대책 방안 제안입니다.\\n미세먼지의 주요 원이 무...  \n",
              "645  경기도 교육청에서 이번 여름방학중 진행한 과천 관문초등학교 천장 석면텍스교체공사에서...  \n",
              "659  존경하는 우리 문재인 대통령님께.\\n대통령님, 안녕하세요?\\n저는 경기도 수원시 장...  \n",
              "670  지금\\n그간 줄기차게 비난해 온 UFG 연습에 대해 그냥 넘어가기 어려운 상황에서 ...  "
            ]
          },
          "metadata": {
            "tags": []
          },
          "execution_count": 60
        }
      ]
    },
    {
      "metadata": {
        "id": "FIL9mCTAbCRw",
        "colab_type": "code",
        "colab": {
          "autoexec": {
            "startup": false,
            "wait_interval": 0
          },
          "base_uri": "https://localhost:8080/",
          "height": 285
        },
        "outputId": "4962136e-053e-4974-d6a1-edd65f7831d5",
        "executionInfo": {
          "status": "ok",
          "timestamp": 1532326541277,
          "user_tz": -540,
          "elapsed": 659,
          "user": {
            "displayName": "jeeyun lee",
            "photoUrl": "https://lh3.googleusercontent.com/a/default-user=s128",
            "userId": "106132043570557958485"
          }
        }
      },
      "cell_type": "code",
      "source": [
        "air.tail()"
      ],
      "execution_count": 61,
      "outputs": [
        {
          "output_type": "execute_result",
          "data": {
            "text/html": [
              "<div>\n",
              "<style scoped>\n",
              "    .dataframe tbody tr th:only-of-type {\n",
              "        vertical-align: middle;\n",
              "    }\n",
              "\n",
              "    .dataframe tbody tr th {\n",
              "        vertical-align: top;\n",
              "    }\n",
              "\n",
              "    .dataframe thead th {\n",
              "        text-align: right;\n",
              "    }\n",
              "</style>\n",
              "<table border=\"1\" class=\"dataframe\">\n",
              "  <thead>\n",
              "    <tr style=\"text-align: right;\">\n",
              "      <th></th>\n",
              "      <th>article_id</th>\n",
              "      <th>start</th>\n",
              "      <th>end</th>\n",
              "      <th>answered</th>\n",
              "      <th>votes</th>\n",
              "      <th>category</th>\n",
              "      <th>title</th>\n",
              "      <th>content</th>\n",
              "    </tr>\n",
              "  </thead>\n",
              "  <tbody>\n",
              "    <tr>\n",
              "      <th>214528</th>\n",
              "      <td>277208</td>\n",
              "      <td>2018-06-20</td>\n",
              "      <td>2018-07-20</td>\n",
              "      <td>0</td>\n",
              "      <td>4</td>\n",
              "      <td>일자리</td>\n",
              "      <td>물가좀내려주세여</td>\n",
              "      <td>난민이고 나발이고 먹고살기힘듭니다. 일하고싶어도일자리가업습니다. 배고파서 해먹으려고...</td>\n",
              "    </tr>\n",
              "    <tr>\n",
              "      <th>214754</th>\n",
              "      <td>277515</td>\n",
              "      <td>2018-06-20</td>\n",
              "      <td>2018-07-20</td>\n",
              "      <td>0</td>\n",
              "      <td>7</td>\n",
              "      <td>안전/환경</td>\n",
              "      <td>2차가습기 대한민국 라돈공포시대</td>\n",
              "      <td>문제는 발생할수 있습니다\\n그러나 왜 처리는 국민들이 모든 과정을 여러곳을\\n거쳐가...</td>\n",
              "    </tr>\n",
              "    <tr>\n",
              "      <th>215059</th>\n",
              "      <td>277927</td>\n",
              "      <td>2018-06-20</td>\n",
              "      <td>2018-07-20</td>\n",
              "      <td>0</td>\n",
              "      <td>5</td>\n",
              "      <td>안전/환경</td>\n",
              "      <td>미세먼지. 강력한 방안마련 해주세요!</td>\n",
              "      <td>한중일 연구도 중국측의 반대로 무기 연기되었고\\n중국측과 체결한 집진장치 설치도 거...</td>\n",
              "    </tr>\n",
              "    <tr>\n",
              "      <th>215088</th>\n",
              "      <td>277965</td>\n",
              "      <td>2018-06-20</td>\n",
              "      <td>2018-07-20</td>\n",
              "      <td>0</td>\n",
              "      <td>77</td>\n",
              "      <td>안전/환경</td>\n",
              "      <td>중국발 (초)미세먼지에 대해 중국에 강력하게 항의하고 근본적인 대책을 요구합니다.</td>\n",
              "      <td>안녕하세요.\\n저는 미세먼지와 관련해 중국에 항의하는 지난 국민청원에 동의했던 국민...</td>\n",
              "    </tr>\n",
              "    <tr>\n",
              "      <th>215142</th>\n",
              "      <td>278031</td>\n",
              "      <td>2018-06-20</td>\n",
              "      <td>2018-07-20</td>\n",
              "      <td>0</td>\n",
              "      <td>3396</td>\n",
              "      <td>성장동력</td>\n",
              "      <td>탈 원전 정책 반대 합니다</td>\n",
              "      <td>대선 공약이라도\\n잘 못된 선택이라 판단되면 철회 하는 용기도 필요 합니다\\n우리나...</td>\n",
              "    </tr>\n",
              "  </tbody>\n",
              "</table>\n",
              "</div>"
            ],
            "text/plain": [
              "        article_id      start        end  answered  votes category  \\\n",
              "214528      277208 2018-06-20 2018-07-20         0      4      일자리   \n",
              "214754      277515 2018-06-20 2018-07-20         0      7    안전/환경   \n",
              "215059      277927 2018-06-20 2018-07-20         0      5    안전/환경   \n",
              "215088      277965 2018-06-20 2018-07-20         0     77    안전/환경   \n",
              "215142      278031 2018-06-20 2018-07-20         0   3396     성장동력   \n",
              "\n",
              "                                                title  \\\n",
              "214528                                       물가좀내려주세여   \n",
              "214754                              2차가습기 대한민국 라돈공포시대   \n",
              "215059                           미세먼지. 강력한 방안마련 해주세요!   \n",
              "215088  중국발 (초)미세먼지에 대해 중국에 강력하게 항의하고 근본적인 대책을 요구합니다.   \n",
              "215142                                 탈 원전 정책 반대 합니다   \n",
              "\n",
              "                                                  content  \n",
              "214528  난민이고 나발이고 먹고살기힘듭니다. 일하고싶어도일자리가업습니다. 배고파서 해먹으려고...  \n",
              "214754  문제는 발생할수 있습니다\\n그러나 왜 처리는 국민들이 모든 과정을 여러곳을\\n거쳐가...  \n",
              "215059  한중일 연구도 중국측의 반대로 무기 연기되었고\\n중국측과 체결한 집진장치 설치도 거...  \n",
              "215088  안녕하세요.\\n저는 미세먼지와 관련해 중국에 항의하는 지난 국민청원에 동의했던 국민...  \n",
              "215142  대선 공약이라도\\n잘 못된 선택이라 판단되면 철회 하는 용기도 필요 합니다\\n우리나...  "
            ]
          },
          "metadata": {
            "tags": []
          },
          "execution_count": 61
        }
      ]
    },
    {
      "metadata": {
        "id": "9I7q_kVLbCR0",
        "colab_type": "text"
      },
      "cell_type": "markdown",
      "source": [
        "# 일부 텍스트 데이터 보기\n",
        "* 어떤 데이터에 대한 전처리가 필요할지 봅니다."
      ]
    },
    {
      "metadata": {
        "id": "GiLXeoQcbCR0",
        "colab_type": "code",
        "colab": {
          "autoexec": {
            "startup": false,
            "wait_interval": 0
          }
        }
      },
      "cell_type": "code",
      "source": [
        "# 샘플로 보고 싶은 인덱스의 번호를 넣어주세요.\n",
        "sample_index = 403"
      ],
      "execution_count": 0,
      "outputs": []
    },
    {
      "metadata": {
        "id": "80sX96vXbCR3",
        "colab_type": "code",
        "colab": {
          "autoexec": {
            "startup": false,
            "wait_interval": 0
          },
          "base_uri": "https://localhost:8080/",
          "height": 36
        },
        "outputId": "04d7349e-8a25-4dc2-f4c1-e9a26f794b51",
        "executionInfo": {
          "status": "ok",
          "timestamp": 1532326653642,
          "user_tz": -540,
          "elapsed": 958,
          "user": {
            "displayName": "jeeyun lee",
            "photoUrl": "https://lh3.googleusercontent.com/a/default-user=s128",
            "userId": "106132043570557958485"
          }
        }
      },
      "cell_type": "code",
      "source": [
        "sample_title = air['title'][sample_index]\n",
        "sample_title"
      ],
      "execution_count": 76,
      "outputs": [
        {
          "output_type": "execute_result",
          "data": {
            "text/plain": [
              "'미세먼지 대책방안 및 국민건강 개선대책 방안 제안입니다.'"
            ]
          },
          "metadata": {
            "tags": []
          },
          "execution_count": 76
        }
      ]
    },
    {
      "metadata": {
        "id": "04_2NAe3bCR-",
        "colab_type": "code",
        "colab": {
          "autoexec": {
            "startup": false,
            "wait_interval": 0
          }
        }
      },
      "cell_type": "code",
      "source": [
        "sample_content = air['content'][sample_index]\n"
      ],
      "execution_count": 0,
      "outputs": []
    },
    {
      "metadata": {
        "id": "-BI_DAIKbCSC",
        "colab_type": "text"
      },
      "cell_type": "markdown",
      "source": [
        "# 텍스트 데이터 전처리 \n",
        "기계가 텍스트를 이해할 수 있도록 텍스트를 정제해 줍니다.\n",
        "\n",
        "신호와 소음을 구분합니다. 아웃라이어데이터로 인한 오버피팅을 방지합니다.\n",
        "\n",
        "\n",
        "## 텍스트 데이터 전처리 이해하기\n",
        "\n",
        "(출처 : [트위터 한국어 형태소 분석기](https://github.com/twitter/twitter-korean-text))\n",
        "\n",
        "**정규화 normalization (입니닼ㅋㅋ -> 입니다 ㅋㅋ, 샤릉해 -> 사랑해)**\n",
        "\n",
        "* 한국어를 처리하는 예시입니닼ㅋㅋㅋㅋㅋ -> 한국어를 처리하는 예시입니다 ㅋㅋ\n",
        "\n",
        "**토큰화 tokenization**\n",
        "\n",
        "* 한국어를 처리하는 예시입니다 ㅋㅋ -> 한국어Noun, 를Josa, 처리Noun, 하는Verb, 예시Noun, 입Adjective, 니다Eomi ㅋㅋKoreanParticle\n",
        "\n",
        "**어근화 stemming (입니다 -> 이다)**\n",
        "\n",
        "* 한국어를 처리하는 예시입니다 ㅋㅋ -> 한국어Noun, 를Josa, 처리Noun, 하다Verb, 예시Noun, 이다Adjective, ㅋㅋKoreanParticle\n",
        "\n",
        "\n",
        "**어구 추출 phrase extraction** \n",
        "\n",
        "* 한국어를 처리하는 예시입니다 ㅋㅋ -> 한국어, 처리, 예시, 처리하는 예시\n",
        "\n",
        "Introductory Presentation: [Google Slides](https://docs.google.com/presentation/d/10CZj8ry03oCk_Jqw879HFELzOLjJZ0EOi4KJbtRSIeU/)\n",
        "\n",
        "# 불용어 Stopwords\n",
        "\n",
        "* word2vec으로 금융관련 키워드로 가장 빈번하게 등장하는 단어를 추출해 보니 다음과 같은 단어들이 나왔습니다다.\n",
        "* 한국어 불용어는 정리된 라이브러리는 없는 편입니다. 상황에 따라 필요한 단어가 있을 수도 있고 불용어가 문맥에 따라 의미를 필요로 할때도 있기 때문입니다. \n",
        "\n",
        "['수', '있는', '있습니다', '그', '년', '합니다', '하는', '및', '제', '할', '하고', '더', '대한', '한', '그리고', '월', '저는', '없는', '것입니다', '등', '일', '많은', '이런', '것은', '왜', '같은', '없습니다', '위해', '한다']"
      ]
    },
    {
      "metadata": {
        "id": "Ac-LglNjbCSC",
        "colab_type": "code",
        "colab": {
          "autoexec": {
            "startup": false,
            "wait_interval": 0
          }
        }
      },
      "cell_type": "code",
      "source": [
        "def preprocessing(text):\n",
        "    # 개행문자 제거\n",
        "    text = re.sub('\\\\\\\\n', ' ', text)\n",
        "    # 특수문자 제거\n",
        "    # 특수문자나 이모티콘 등은 때로는 의미를 갖기도 하지만 여기에서는 제거했습니다.\n",
        "    # text = re.sub('[?.,;:|\\)*~`’!^\\-_+<>@\\#$%&-=#}※]', '', text)\n",
        "    # 한글, 영문, 숫자만 남기고 모두 제거하도록 합니다.\n",
        "    # text = re.sub('[^가-힣ㄱ-ㅎㅏ-ㅣa-zA-Z0-9]', ' ', text)\n",
        "    # 한글, 영문만 남기고 모두 제거하도록 합니다.\n",
        "    text = re.sub('[^가-힣ㄱ-ㅎㅏ-ㅣa-zA-Z]', ' ', text)\n",
        "    return text"
      ],
      "execution_count": 0,
      "outputs": []
    },
    {
      "metadata": {
        "id": "mVLwnqxWbCSF",
        "colab_type": "code",
        "colab": {
          "autoexec": {
            "startup": false,
            "wait_interval": 0
          }
        }
      },
      "cell_type": "code",
      "source": [
        "def remove_stopwords(text):\n",
        "    stops = ['이후', '수', '있는', '있습니다', '그', '년도', '에', '합니다', '하는', '및', '제', '할', '하고', '더', '대한', '한', '그리고', '월', '저는', '없는', '것입니다', '등', '일', '많은', '이런', '것은', '왜', '같은', '없습니다', '위해', '한다']\n",
        "    # Stopwords 불용어 제거\n",
        "    meaningful_words = [w for w in text if not w in stops]\n",
        "    return ' '.join(meaningful_words)"
      ],
      "execution_count": 0,
      "outputs": []
    },
    {
      "metadata": {
        "id": "d2fv7vFFbCSH",
        "colab_type": "code",
        "colab": {
          "autoexec": {
            "startup": false,
            "wait_interval": 0
          },
          "base_uri": "https://localhost:8080/",
          "height": 55
        },
        "outputId": "def13131-5c06-4c84-fc6c-e300f2df8a08",
        "executionInfo": {
          "status": "ok",
          "timestamp": 1532326779810,
          "user_tz": -540,
          "elapsed": 1239,
          "user": {
            "displayName": "jeeyun lee",
            "photoUrl": "https://lh3.googleusercontent.com/a/default-user=s128",
            "userId": "106132043570557958485"
          }
        }
      },
      "cell_type": "code",
      "source": [
        "# 샘플을 하나 가져와 전처리를 적용해 봅니다.\n",
        "sample_content = preprocessing(sample_content)\n",
        "sample_content[:1000]"
      ],
      "execution_count": 89,
      "outputs": [
        {
          "output_type": "execute_result",
          "data": {
            "text/plain": [
              "'미세먼지 대책방안 및 국민건강 개선대책 방안 제안입니다  미세먼지의 주요 원이 무엇이라 생각하십니까 물론 중국의 미세먼지가 주요원인이기는 하지만 도로위의 자동차매연이 더 큰 원인이라 저는 판단합니다  그래서 제안드립니다  도로차선 중 가장자리 차선을 자전거우선도로로 만들어 주십시오  도로교통법상 자전거는 차로 되어 있습니다  하지만 한국의 운전자들 인식에 도로위의 자전거는 불법이라는 인식이 강합니다  지난 이명박정부때 자전거사업을 하였지만 미흡할 실정이라 판단됩니다  유럽의 선진국 특히 네덜란드의 경우를 검토하시어 정책을 마련해 주시면 고맙겠습니다 '"
            ]
          },
          "metadata": {
            "tags": []
          },
          "execution_count": 89
        }
      ]
    },
    {
      "metadata": {
        "id": "FKjLzk0OoBbJ",
        "colab_type": "code",
        "colab": {
          "autoexec": {
            "startup": false,
            "wait_interval": 0
          }
        }
      },
      "cell_type": "code",
      "source": [
        "# 토큰화하기\n",
        "tokens = sample_content = sample_content.split(' ')"
      ],
      "execution_count": 0,
      "outputs": []
    },
    {
      "metadata": {
        "id": "HW3nHU4abCSJ",
        "colab_type": "code",
        "colab": {
          "autoexec": {
            "startup": false,
            "wait_interval": 0
          },
          "base_uri": "https://localhost:8080/",
          "height": 55
        },
        "outputId": "b7d6d39c-4bfa-44fc-99c9-bc150aecdb19",
        "executionInfo": {
          "status": "ok",
          "timestamp": 1532326783461,
          "user_tz": -540,
          "elapsed": 652,
          "user": {
            "displayName": "jeeyun lee",
            "photoUrl": "https://lh3.googleusercontent.com/a/default-user=s128",
            "userId": "106132043570557958485"
          }
        }
      },
      "cell_type": "code",
      "source": [
        "# 샘플텍스트를 가져와 불용어를 제거해 봅니다. \n",
        "stop_content = remove_stopwords(tokens)\n",
        "stop_content[:1000]"
      ],
      "execution_count": 91,
      "outputs": [
        {
          "output_type": "execute_result",
          "data": {
            "text/plain": [
              "'미세먼지 대책방안 국민건강 개선대책 방안 제안입니다  미세먼지의 주요 원이 무엇이라 생각하십니까 물론 중국의 미세먼지가 주요원인이기는 하지만 도로위의 자동차매연이 큰 원인이라 판단합니다  그래서 제안드립니다  도로차선 중 가장자리 차선을 자전거우선도로로 만들어 주십시오  도로교통법상 자전거는 차로 되어  하지만 한국의 운전자들 인식에 도로위의 자전거는 불법이라는 인식이 강합니다  지난 이명박정부때 자전거사업을 하였지만 미흡할 실정이라 판단됩니다  유럽의 선진국 특히 네덜란드의 경우를 검토하시어 정책을 마련해 주시면 고맙겠습니다 '"
            ]
          },
          "metadata": {
            "tags": []
          },
          "execution_count": 91
        }
      ]
    },
    {
      "metadata": {
        "id": "bAxybsFpbCSN",
        "colab_type": "code",
        "colab": {
          "autoexec": {
            "startup": false,
            "wait_interval": 0
          },
          "base_uri": "https://localhost:8080/",
          "height": 177
        },
        "outputId": "0eaa8f7f-e057-4d68-ff25-5c14ebfd9d4a",
        "executionInfo": {
          "status": "ok",
          "timestamp": 1532327019231,
          "user_tz": -540,
          "elapsed": 1219,
          "user": {
            "displayName": "jeeyun lee",
            "photoUrl": "https://lh3.googleusercontent.com/a/default-user=s128",
            "userId": "106132043570557958485"
          }
        }
      },
      "cell_type": "code",
      "source": [
        "# %time을 찍어주면 해당 코드를 실행할 때 걸리는 시간을 출력해 줍니다\n",
        "%time air['content_preprocessing'] = air['content'].apply(preprocessing)\n",
        "sentences = air['content_preprocessing']\n",
        "sentences.shape\n"
      ],
      "execution_count": 106,
      "outputs": [
        {
          "output_type": "stream",
          "text": [
            "CPU times: user 572 ms, sys: 996 µs, total: 573 ms\n",
            "Wall time: 576 ms\n"
          ],
          "name": "stdout"
        },
        {
          "output_type": "stream",
          "text": [
            "/usr/local/lib/python3.6/dist-packages/ipykernel_launcher.py:1: SettingWithCopyWarning: \n",
            "A value is trying to be set on a copy of a slice from a DataFrame.\n",
            "Try using .loc[row_indexer,col_indexer] = value instead\n",
            "\n",
            "See the caveats in the documentation: http://pandas.pydata.org/pandas-docs/stable/indexing.html#indexing-view-versus-copy\n",
            "  \"\"\"Entry point for launching an IPython kernel.\n"
          ],
          "name": "stderr"
        },
        {
          "output_type": "execute_result",
          "data": {
            "text/plain": [
              "(3867,)"
            ]
          },
          "metadata": {
            "tags": []
          },
          "execution_count": 106
        }
      ]
    },
    {
      "metadata": {
        "id": "vbeIQ9nQbCSR",
        "colab_type": "code",
        "colab": {
          "autoexec": {
            "startup": false,
            "wait_interval": 0
          },
          "base_uri": "https://localhost:8080/",
          "height": 55
        },
        "outputId": "6f7508c2-2a0e-4d7d-e0dd-9ba1239ac49a",
        "executionInfo": {
          "status": "ok",
          "timestamp": 1532327037671,
          "user_tz": -540,
          "elapsed": 659,
          "user": {
            "displayName": "jeeyun lee",
            "photoUrl": "https://lh3.googleusercontent.com/a/default-user=s128",
            "userId": "106132043570557958485"
          }
        }
      },
      "cell_type": "code",
      "source": [
        "air['content_preprocessing'][sample_index]"
      ],
      "execution_count": 108,
      "outputs": [
        {
          "output_type": "execute_result",
          "data": {
            "text/plain": [
              "'미세먼지 대책방안 및 국민건강 개선대책 방안 제안입니다  미세먼지의 주요 원이 무엇이라 생각하십니까 물론 중국의 미세먼지가 주요원인이기는 하지만 도로위의 자동차매연이 더 큰 원인이라 저는 판단합니다  그래서 제안드립니다  도로차선 중 가장자리 차선을 자전거우선도로로 만들어 주십시오  도로교통법상 자전거는 차로 되어 있습니다  하지만 한국의 운전자들 인식에 도로위의 자전거는 불법이라는 인식이 강합니다  지난 이명박정부때 자전거사업을 하였지만 미흡할 실정이라 판단됩니다  유럽의 선진국 특히 네덜란드의 경우를 검토하시어 정책을 마련해 주시면 고맙겠습니다 '"
            ]
          },
          "metadata": {
            "tags": []
          },
          "execution_count": 108
        }
      ]
    },
    {
      "metadata": {
        "id": "gWR6r1pZbCSU",
        "colab_type": "text"
      },
      "cell_type": "markdown",
      "source": [
        "# BOW(bag of words)\n",
        "* 가장 간단하지만 효과적이라 널리쓰이는 방법\n",
        "* 장, 문단, 문장, 서식과 같은 입력 텍스트의 구조를 제외하고 각 단어가 이 말뭉치에 얼마나 많이 나타나는지만 헤아립니다.\n",
        "* 구조와 상관없이 단어의 출현횟수만 세기 때문에 텍스트를 담는 가방(bag)으로 생각할 수 있습니다.\n",
        "* BOW는 단어의 순서가 완전히 무시 된다는 단점이 있다. 예를 들어 의미가 완전히 반대인 두 문장이 있다고 합니다.\n",
        "    - `it's bad, not good at all.` \n",
        "    - `it's good, not bad at all.` \n",
        "* 위 두 문장은 의미가 전혀 반대지만 완전히 동일하게 반환됩니다.\n",
        "* 이를 보완하기 위해 n-gram을 사용하는 데 BOW는 하나의 토큰을 사용하지만 n-gram은 n개의 토큰을 사용할 수 있도록 합니다.\n",
        "* min_df는 문서에 특정 단어가 최소 몇 번 이상 문서에 등장하는 단어를 가방에 담겠다는 의미입니다.\n",
        "\n",
        "* [Bag-of-words model - Wikipedia](https://en.wikipedia.org/wiki/Bag-of-words_model)"
      ]
    },
    {
      "metadata": {
        "id": "aT4aHFWFbCSU",
        "colab_type": "text"
      },
      "cell_type": "markdown",
      "source": [
        "# 사이킷런의 CountVectorizer를 통해 벡터화\n",
        "* 미리 전처리 해둔 텍스트 데이터로 벡터화 합니다.\n",
        "* 모두 소문자로 변환시키기 때문에 영어의 경우 good, Good, gOod이 모두 같은 특성이 됩니다.\n",
        "* 의미없는 특성을 많이 생성하기 때문에 적어도 두 번이상 문서에 나타난 토큰만을 사용한다."
      ]
    },
    {
      "metadata": {
        "id": "Xtb5oXNNbCSV",
        "colab_type": "code",
        "colab": {
          "autoexec": {
            "startup": false,
            "wait_interval": 0
          },
          "base_uri": "https://localhost:8080/",
          "height": 124
        },
        "outputId": "82d2d8bc-93d6-42cb-ed1d-583c82208738",
        "executionInfo": {
          "status": "ok",
          "timestamp": 1532328575497,
          "user_tz": -540,
          "elapsed": 697,
          "user": {
            "displayName": "jeeyun lee",
            "photoUrl": "https://lh3.googleusercontent.com/a/default-user=s128",
            "userId": "106132043570557958485"
          }
        }
      },
      "cell_type": "code",
      "source": [
        "from sklearn.feature_extraction.text import CountVectorizer\n",
        "\n",
        "vectorizer = CountVectorizer(analyzer = 'word', # 캐릭터 단위로 벡터화 할 수도 있습니다.\n",
        "                             tokenizer = None, # 토크나이저를 따로 지정해 줄 수도 있습니다.\n",
        "                             preprocessor = None, # 전처리 도구\n",
        "                             stop_words = None, # 불용어 nltk등의 도구를 사용할 수도 있습니다.\n",
        "                             min_df = 2, # 토큰이 나타날 최소 문서 개수로 오타나 자주 나오지 않는 특수한 전문용어 제거에 좋다. \n",
        "                             ngram_range=(1, 3), # BOW의 단위를 1~3개로 지정합니다.\n",
        "                             max_features = 1000 # 만들 피처의 수, 단어의 수가 된다.\n",
        "                            )\n",
        "vectorizer"
      ],
      "execution_count": 120,
      "outputs": [
        {
          "output_type": "execute_result",
          "data": {
            "text/plain": [
              "CountVectorizer(analyzer='word', binary=False, decode_error='strict',\n",
              "        dtype=<class 'numpy.int64'>, encoding='utf-8', input='content',\n",
              "        lowercase=True, max_df=1.0, max_features=1000, min_df=2,\n",
              "        ngram_range=(1, 3), preprocessor=None, stop_words=None,\n",
              "        strip_accents=None, token_pattern='(?u)\\\\b\\\\w\\\\w+\\\\b',\n",
              "        tokenizer=None, vocabulary=None)"
            ]
          },
          "metadata": {
            "tags": []
          },
          "execution_count": 120
        }
      ]
    },
    {
      "metadata": {
        "id": "5K7ArKEebCSX",
        "colab_type": "code",
        "colab": {
          "autoexec": {
            "startup": false,
            "wait_interval": 0
          },
          "base_uri": "https://localhost:8080/",
          "height": 52
        },
        "outputId": "c62169c4-78ed-44ff-a5ee-93b277785248",
        "executionInfo": {
          "status": "ok",
          "timestamp": 1532328706242,
          "user_tz": -540,
          "elapsed": 7714,
          "user": {
            "displayName": "jeeyun lee",
            "photoUrl": "https://lh3.googleusercontent.com/a/default-user=s128",
            "userId": "106132043570557958485"
          }
        }
      },
      "cell_type": "code",
      "source": [
        "%%time \n",
        "feature_vector = vectorizer.fit_transform(air['content_preprocessing'])\n",
        "feature_vector.shape"
      ],
      "execution_count": 127,
      "outputs": [
        {
          "output_type": "stream",
          "text": [
            "CPU times: user 6.98 s, sys: 115 ms, total: 7.1 s\n",
            "Wall time: 7.09 s\n"
          ],
          "name": "stdout"
        }
      ]
    },
    {
      "metadata": {
        "id": "IxkhVyur5vkp",
        "colab_type": "code",
        "colab": {
          "autoexec": {
            "startup": false,
            "wait_interval": 0
          },
          "base_uri": "https://localhost:8080/",
          "height": 35
        },
        "outputId": "c8f45058-fd39-44fb-99c6-17173eb7f8d7",
        "executionInfo": {
          "status": "ok",
          "timestamp": 1532328623632,
          "user_tz": -540,
          "elapsed": 663,
          "user": {
            "displayName": "jeeyun lee",
            "photoUrl": "https://lh3.googleusercontent.com/a/default-user=s128",
            "userId": "106132043570557958485"
          }
        }
      },
      "cell_type": "code",
      "source": [
        "air['content_preprocessing'].shape"
      ],
      "execution_count": 123,
      "outputs": [
        {
          "output_type": "execute_result",
          "data": {
            "text/plain": [
              "(3867,)"
            ]
          },
          "metadata": {
            "tags": []
          },
          "execution_count": 123
        }
      ]
    },
    {
      "metadata": {
        "id": "XxGpRP5IbCSa",
        "colab_type": "code",
        "colab": {
          "autoexec": {
            "startup": false,
            "wait_interval": 0
          },
          "base_uri": "https://localhost:8080/",
          "height": 568
        },
        "outputId": "d3919b20-2e61-46c6-bc15-aeab6162c40f",
        "executionInfo": {
          "status": "ok",
          "timestamp": 1532328715374,
          "user_tz": -540,
          "elapsed": 634,
          "user": {
            "displayName": "jeeyun lee",
            "photoUrl": "https://lh3.googleusercontent.com/a/default-user=s128",
            "userId": "106132043570557958485"
          }
        }
      },
      "cell_type": "code",
      "source": [
        "vocab = vectorizer.get_feature_names()\n",
        "print(len(vocab))\n",
        "vocab[:30]"
      ],
      "execution_count": 128,
      "outputs": [
        {
          "output_type": "stream",
          "text": [
            "1000\n"
          ],
          "name": "stdout"
        },
        {
          "output_type": "execute_result",
          "data": {
            "text/plain": [
              "['ab',\n",
              " 'ab 학교',\n",
              " 'blog',\n",
              " 'blog naver',\n",
              " 'blog naver com',\n",
              " 'cctv',\n",
              " 'cctv와',\n",
              " 'co',\n",
              " 'co kr',\n",
              " 'com',\n",
              " 'com mnbmnb',\n",
              " 'http',\n",
              " 'http news',\n",
              " 'https',\n",
              " 'kr',\n",
              " 'mnbmnb',\n",
              " 'naver',\n",
              " 'naver com',\n",
              " 'naver com mnbmnb',\n",
              " 'news',\n",
              " 'pm',\n",
              " 'pow',\n",
              " 'who',\n",
              " 'www',\n",
              " '가격이',\n",
              " '가까운',\n",
              " '가는',\n",
              " '가능한',\n",
              " '가리기',\n",
              " '가리기 위해서']"
            ]
          },
          "metadata": {
            "tags": []
          },
          "execution_count": 128
        }
      ]
    },
    {
      "metadata": {
        "id": "vw2tcddlbCSd",
        "colab_type": "code",
        "colab": {
          "autoexec": {
            "startup": false,
            "wait_interval": 0
          },
          "base_uri": "https://localhost:8080/",
          "height": 1387
        },
        "outputId": "05127a8d-5d25-46a0-b1a6-5e6854641f51",
        "executionInfo": {
          "status": "ok",
          "timestamp": 1532329321616,
          "user_tz": -540,
          "elapsed": 587,
          "user": {
            "displayName": "jeeyun lee",
            "photoUrl": "https://lh3.googleusercontent.com/a/default-user=s128",
            "userId": "106132043570557958485"
          }
        }
      },
      "cell_type": "code",
      "source": [
        "# 벡터화 된 피처를 확인해 봄\n",
        "# Bag of words 에 몇 개의 단어가 들어있는지 확인\n",
        "dist = np.sum(feature_vector, axis=0)\n",
        "    \n",
        "for tag, count in zip(vocab, dist):\n",
        "    print(count, tag)\n",
        "    \n",
        "pd.DataFrame(dist, columns=vocab).head()"
      ],
      "execution_count": 132,
      "outputs": [
        {
          "output_type": "stream",
          "text": [
            "[[ 272  144   76   76   76   75   82   96   75  226   68  242   92  106\n",
            "   120   68  140  128   68  152   74  103   73  106  119   93  137  114\n",
            "    69   68   84   73  101  631  244   86  177  119   89  143  221   93\n",
            "    82   82  106  146   99  172   90  428  656  269   79   96   86   74\n",
            "    72  126  236   94  106  100  153  341  135   69   68   73  247   68\n",
            "   249   72  339  772  463  745   74  101  267   95   71   68   80  956\n",
            "    70   81  226   69  316   81  111  103  436   74   68  102   83  117\n",
            "   202   74  342   92   92  194  184  327  199  127  163   99   85  302\n",
            "   174  301   89  245   70  177  120  154  110  101   82  161  241   98\n",
            "   116  232  155   74   92  119  293   98  431  286  135  242  153  299\n",
            "   559  317  308  270  113  113  215  689   82  344  309  270  144   79\n",
            "   106   80   80   86   72   76   96   87  269  138   70   96  420  311\n",
            "    69  261  516   96  216   78  980   81   87   87   87  189  231  110\n",
            "    82   90   79   88   84  115   82   72  113  197   74  205  154  107\n",
            "    93  146   89   84   82  133  172   92  132  102  380   85  806  134\n",
            "    82   82   99   92   80   73  122  197   85  121   80   84   99  500\n",
            "   373   80   73   79  166  101   79  170  129  275   97  137   72  241\n",
            "    88  207   79  445  187   83  111  342   73   88 1108  599   81   99\n",
            "    91  221   88  380  183   79   97   82  195   97  134  148   79   74\n",
            "   112  167  129   80   97  229  362  218  268   74  173  216   90   83\n",
            "   373   90   88  125   78   71   78  124  141  236  135  148  820  139\n",
            "   216  608  195  175   72  410  521  178   94   78  151  143  100   72\n",
            "   133  265   78   86  113  125  111  208  128  124  218 1024  806  129\n",
            "    82  104  141   77   90  212   98   94  380  231   94  236  116  102\n",
            "    69  322  121  595   84   98   96   94  288  174   76   74  294   82\n",
            "    82  128   73  232   74  414   91  240  528  271  135  266   79  148\n",
            "   410   86   80   76  116  137 3977   83  189 1353  453  112  135  561\n",
            "   156  665  604  230  201  471  120  106   70  111  209   98  544  373\n",
            "   286  125  336  278  134   81   73  104  134   76   73   74   73  131\n",
            "    83   88   68   97   94  112  162  109   68  270   75  106  205  338\n",
            "    89   99   79  242  137  592  425  112  212  148  536  138   91   79\n",
            "    71   70   97   73   73   86  254   85   79   78   91  150  102   77\n",
            "    85  152  106   73   93  105  347  102  146  136   78  192   82   79\n",
            "   125  322   95  337  121   68  118   98   86  176  174  104   74  117\n",
            "   231   86  656  142  240  130  198  156  124   70   95   91  106   71\n",
            "   100   87   97   98  314   94  104  201  127  178   87  787   71   77\n",
            "   195   80  106  143   74  129  105  122   68   82  135  130   68  143\n",
            "    84  189  125   71  120  126   76  122   90   74  113  110   68  277\n",
            "   222  192  119   90   91  224   75  117   83   84   82   72  150  120\n",
            "   102   97   75  139  123  261   99  162  148  256   80  125  135  120\n",
            "   237  534   85  181  419  123  162  346  122   90  176  195  112  148\n",
            "    93  179  157  135  396  193  185  136   87   68  183   68   72  286\n",
            "   146  313   93   99   98   92   79  123   68   95   79  476   70  349\n",
            "   138   82  424   69   74   92  238  174   94  123  400  157  101  217\n",
            "   131  103  364  366   85  101   94  134  256   72  199  308  913  119\n",
            "   128  194   92   98  680  128   73  101  381   68  296  110   68   68\n",
            "   168   79  133   86  157   83   77  119  219   71  118  213   68   70\n",
            "    70  417  806  281  439  127  159   77   74   78  192  188  233  142\n",
            "    93   77   74   94  149   80   80   80   95  464  897  352  126   82\n",
            "   153  175  126  108   84   99  101  186   80  115  235  186  444  928\n",
            "   523  260  350  114  344  111  197  111  160  126   72   81  252  175\n",
            "    78   91   77  112   82   74  103  315  477  125  141   79   96   85\n",
            "   147  151   69  121  477  196   73  446   79 3011   81   88   74  466\n",
            "   196  366  370  262  123  367  107 2937   76  184  111  135  138   90\n",
            "   167  128  261   75   71  127  205  247   92   78   84   73  143   87\n",
            "    69  754  116  141  213  114   70   84   99  218   99   74   86  228\n",
            "   120  267  243  138  114  142  768  249  329  394   70  217   71   79\n",
            "   260   68   95  133  231   87  149  105  416  369  788  351  266  266\n",
            "   115  108   91   75  104   74   72   81   77   74   71  272  316   99\n",
            "   107   78  254  100   93   79  130  117   73  505  214  109  630  133\n",
            "   529  150  343  213  339  289   70  181  257  245  237  833   89   88\n",
            "   110   78  145   79  130   98   73   86   80   80   75  255  241   90\n",
            "   160  180  114   90  184   71  113  340   98   87  119   97   75   95\n",
            "   126   83  171  140  151  114  170   83  196   72  276   94   72   78\n",
            "    71   77   96   74   74  102   73  146   72  121   98  311  308  123\n",
            "    88   83  138  107   82   82   70  274   81   72  142  167   85 1105\n",
            "    85  140  105  146   94 1108   72  285   70  321   68   68   73   96\n",
            "    75  234   69   73  124  254  152  212  458   69  780  418  119  121\n",
            "   142  326  290  120  113   94   87  206   98  261  131   72   79 1984\n",
            "   180  219  100   69   91  103  115  238  251  298  317   78   91   86\n",
            "   116   70   82  682   94  108  136   78  189   69   74   94  180   72\n",
            "    84  140   84  116  128   91]] ab\n"
          ],
          "name": "stdout"
        },
        {
          "output_type": "execute_result",
          "data": {
            "text/html": [
              "<div>\n",
              "<style scoped>\n",
              "    .dataframe tbody tr th:only-of-type {\n",
              "        vertical-align: middle;\n",
              "    }\n",
              "\n",
              "    .dataframe tbody tr th {\n",
              "        vertical-align: top;\n",
              "    }\n",
              "\n",
              "    .dataframe thead th {\n",
              "        text-align: right;\n",
              "    }\n",
              "</style>\n",
              "<table border=\"1\" class=\"dataframe\">\n",
              "  <thead>\n",
              "    <tr style=\"text-align: right;\">\n",
              "      <th></th>\n",
              "      <th>ab</th>\n",
              "      <th>ab 학교</th>\n",
              "      <th>blog</th>\n",
              "      <th>blog naver</th>\n",
              "      <th>blog naver com</th>\n",
              "      <th>cctv</th>\n",
              "      <th>cctv와</th>\n",
              "      <th>co</th>\n",
              "      <th>co kr</th>\n",
              "      <th>com</th>\n",
              "      <th>...</th>\n",
              "      <th>환경에</th>\n",
              "      <th>환경에서</th>\n",
              "      <th>환경을</th>\n",
              "      <th>환경이</th>\n",
              "      <th>황사</th>\n",
              "      <th>효과가</th>\n",
              "      <th>효과를</th>\n",
              "      <th>훨씬</th>\n",
              "      <th>힘든</th>\n",
              "      <th>힘듭니다</th>\n",
              "    </tr>\n",
              "  </thead>\n",
              "  <tbody>\n",
              "    <tr>\n",
              "      <th>0</th>\n",
              "      <td>272</td>\n",
              "      <td>144</td>\n",
              "      <td>76</td>\n",
              "      <td>76</td>\n",
              "      <td>76</td>\n",
              "      <td>75</td>\n",
              "      <td>82</td>\n",
              "      <td>96</td>\n",
              "      <td>75</td>\n",
              "      <td>226</td>\n",
              "      <td>...</td>\n",
              "      <td>74</td>\n",
              "      <td>94</td>\n",
              "      <td>180</td>\n",
              "      <td>72</td>\n",
              "      <td>84</td>\n",
              "      <td>140</td>\n",
              "      <td>84</td>\n",
              "      <td>116</td>\n",
              "      <td>128</td>\n",
              "      <td>91</td>\n",
              "    </tr>\n",
              "  </tbody>\n",
              "</table>\n",
              "<p>1 rows × 1000 columns</p>\n",
              "</div>"
            ],
            "text/plain": [
              "    ab  ab 학교  blog  blog naver  blog naver com  cctv  cctv와  co  co kr  com  \\\n",
              "0  272    144    76          76              76    75     82  96     75  226   \n",
              "\n",
              "   ...   환경에  환경에서  환경을  환경이  황사  효과가  효과를   훨씬   힘든  힘듭니다  \n",
              "0  ...    74    94  180   72  84  140   84  116  128    91  \n",
              "\n",
              "[1 rows x 1000 columns]"
            ]
          },
          "metadata": {
            "tags": []
          },
          "execution_count": 132
        }
      ]
    },
    {
      "metadata": {
        "id": "usB36dV-bCSh",
        "colab_type": "code",
        "colab": {
          "autoexec": {
            "startup": false,
            "wait_interval": 0
          },
          "base_uri": "https://localhost:8080/",
          "height": 229
        },
        "outputId": "04bf1afa-068b-4817-db40-f5bfd1412c61",
        "executionInfo": {
          "status": "ok",
          "timestamp": 1532329262449,
          "user_tz": -540,
          "elapsed": 793,
          "user": {
            "displayName": "jeeyun lee",
            "photoUrl": "https://lh3.googleusercontent.com/a/default-user=s128",
            "userId": "106132043570557958485"
          }
        }
      },
      "cell_type": "code",
      "source": [
        "# 각 row에서 전체 단어가방에 있는 어휘에서 등장하는 단어에 대한 one-hot-vector\n",
        "pd.DataFrame(feature_vector[:10].toarray(), columns=vocab).head()"
      ],
      "execution_count": 131,
      "outputs": [
        {
          "output_type": "execute_result",
          "data": {
            "text/html": [
              "<div>\n",
              "<style scoped>\n",
              "    .dataframe tbody tr th:only-of-type {\n",
              "        vertical-align: middle;\n",
              "    }\n",
              "\n",
              "    .dataframe tbody tr th {\n",
              "        vertical-align: top;\n",
              "    }\n",
              "\n",
              "    .dataframe thead th {\n",
              "        text-align: right;\n",
              "    }\n",
              "</style>\n",
              "<table border=\"1\" class=\"dataframe\">\n",
              "  <thead>\n",
              "    <tr style=\"text-align: right;\">\n",
              "      <th></th>\n",
              "      <th>ab</th>\n",
              "      <th>ab 학교</th>\n",
              "      <th>blog</th>\n",
              "      <th>blog naver</th>\n",
              "      <th>blog naver com</th>\n",
              "      <th>cctv</th>\n",
              "      <th>cctv와</th>\n",
              "      <th>co</th>\n",
              "      <th>co kr</th>\n",
              "      <th>com</th>\n",
              "      <th>...</th>\n",
              "      <th>환경에</th>\n",
              "      <th>환경에서</th>\n",
              "      <th>환경을</th>\n",
              "      <th>환경이</th>\n",
              "      <th>황사</th>\n",
              "      <th>효과가</th>\n",
              "      <th>효과를</th>\n",
              "      <th>훨씬</th>\n",
              "      <th>힘든</th>\n",
              "      <th>힘듭니다</th>\n",
              "    </tr>\n",
              "  </thead>\n",
              "  <tbody>\n",
              "    <tr>\n",
              "      <th>0</th>\n",
              "      <td>0</td>\n",
              "      <td>0</td>\n",
              "      <td>0</td>\n",
              "      <td>0</td>\n",
              "      <td>0</td>\n",
              "      <td>0</td>\n",
              "      <td>0</td>\n",
              "      <td>0</td>\n",
              "      <td>0</td>\n",
              "      <td>0</td>\n",
              "      <td>...</td>\n",
              "      <td>0</td>\n",
              "      <td>0</td>\n",
              "      <td>0</td>\n",
              "      <td>1</td>\n",
              "      <td>0</td>\n",
              "      <td>0</td>\n",
              "      <td>0</td>\n",
              "      <td>0</td>\n",
              "      <td>1</td>\n",
              "      <td>0</td>\n",
              "    </tr>\n",
              "    <tr>\n",
              "      <th>1</th>\n",
              "      <td>0</td>\n",
              "      <td>0</td>\n",
              "      <td>0</td>\n",
              "      <td>0</td>\n",
              "      <td>0</td>\n",
              "      <td>0</td>\n",
              "      <td>0</td>\n",
              "      <td>0</td>\n",
              "      <td>0</td>\n",
              "      <td>0</td>\n",
              "      <td>...</td>\n",
              "      <td>0</td>\n",
              "      <td>0</td>\n",
              "      <td>0</td>\n",
              "      <td>0</td>\n",
              "      <td>0</td>\n",
              "      <td>0</td>\n",
              "      <td>0</td>\n",
              "      <td>0</td>\n",
              "      <td>0</td>\n",
              "      <td>0</td>\n",
              "    </tr>\n",
              "    <tr>\n",
              "      <th>2</th>\n",
              "      <td>0</td>\n",
              "      <td>0</td>\n",
              "      <td>0</td>\n",
              "      <td>0</td>\n",
              "      <td>0</td>\n",
              "      <td>0</td>\n",
              "      <td>0</td>\n",
              "      <td>0</td>\n",
              "      <td>0</td>\n",
              "      <td>0</td>\n",
              "      <td>...</td>\n",
              "      <td>0</td>\n",
              "      <td>0</td>\n",
              "      <td>0</td>\n",
              "      <td>0</td>\n",
              "      <td>0</td>\n",
              "      <td>0</td>\n",
              "      <td>0</td>\n",
              "      <td>0</td>\n",
              "      <td>0</td>\n",
              "      <td>0</td>\n",
              "    </tr>\n",
              "    <tr>\n",
              "      <th>3</th>\n",
              "      <td>0</td>\n",
              "      <td>0</td>\n",
              "      <td>0</td>\n",
              "      <td>0</td>\n",
              "      <td>0</td>\n",
              "      <td>0</td>\n",
              "      <td>0</td>\n",
              "      <td>0</td>\n",
              "      <td>0</td>\n",
              "      <td>0</td>\n",
              "      <td>...</td>\n",
              "      <td>0</td>\n",
              "      <td>0</td>\n",
              "      <td>0</td>\n",
              "      <td>0</td>\n",
              "      <td>0</td>\n",
              "      <td>0</td>\n",
              "      <td>0</td>\n",
              "      <td>0</td>\n",
              "      <td>0</td>\n",
              "      <td>0</td>\n",
              "    </tr>\n",
              "    <tr>\n",
              "      <th>4</th>\n",
              "      <td>0</td>\n",
              "      <td>0</td>\n",
              "      <td>0</td>\n",
              "      <td>0</td>\n",
              "      <td>0</td>\n",
              "      <td>0</td>\n",
              "      <td>0</td>\n",
              "      <td>0</td>\n",
              "      <td>0</td>\n",
              "      <td>0</td>\n",
              "      <td>...</td>\n",
              "      <td>0</td>\n",
              "      <td>0</td>\n",
              "      <td>0</td>\n",
              "      <td>0</td>\n",
              "      <td>0</td>\n",
              "      <td>0</td>\n",
              "      <td>0</td>\n",
              "      <td>1</td>\n",
              "      <td>0</td>\n",
              "      <td>0</td>\n",
              "    </tr>\n",
              "  </tbody>\n",
              "</table>\n",
              "<p>5 rows × 1000 columns</p>\n",
              "</div>"
            ],
            "text/plain": [
              "   ab  ab 학교  blog  blog naver  blog naver com  cctv  cctv와  co  co kr  com  \\\n",
              "0   0      0     0           0               0     0      0   0      0    0   \n",
              "1   0      0     0           0               0     0      0   0      0    0   \n",
              "2   0      0     0           0               0     0      0   0      0    0   \n",
              "3   0      0     0           0               0     0      0   0      0    0   \n",
              "4   0      0     0           0               0     0      0   0      0    0   \n",
              "\n",
              "   ...   환경에  환경에서  환경을  환경이  황사  효과가  효과를  훨씬  힘든  힘듭니다  \n",
              "0  ...     0     0    0    1   0    0    0   0   1     0  \n",
              "1  ...     0     0    0    0   0    0    0   0   0     0  \n",
              "2  ...     0     0    0    0   0    0    0   0   0     0  \n",
              "3  ...     0     0    0    0   0    0    0   0   0     0  \n",
              "4  ...     0     0    0    0   0    0    0   1   0     0  \n",
              "\n",
              "[5 rows x 1000 columns]"
            ]
          },
          "metadata": {
            "tags": []
          },
          "execution_count": 131
        }
      ]
    },
    {
      "metadata": {
        "id": "21E5m0kRbCSk",
        "colab_type": "text"
      },
      "cell_type": "markdown",
      "source": [
        "## TF-IDF\n",
        "TF(단어 빈도, term frequency)는 특정한 단어가 문서 내에 얼마나 자주 등장하는지를 나타내는 값으로, 이 값이 높을수록 문서에서 중요하다고 생각할 수 있다. 하지만 단어 자체가 문서군 내에서 자주 사용되는 경우, 이것은 그 단어가 흔하게 등장한다는 것을 의미한다. 이것을 DF(문서 빈도, document frequency)라고 하며, 이 값의 역수를 IDF(역문서 빈도, inverse document frequency)라고 한다. TF-IDF는 TF와 IDF를 곱한 값이다.\n",
        "\n",
        "IDF 값은 문서군의 성격에 따라 결정된다. 예를 들어 '원자'라는 낱말은 일반적인 문서들 사이에서는 잘 나오지 않기 때문에 IDF 값이 높아지고 문서의 핵심어가 될 수 있지만, 원자에 대한 문서를 모아놓은 문서군의 경우 이 낱말은 상투어가 되어 각 문서들을 세분화하여 구분할 수 있는 다른 낱말들이 높은 가중치를 얻게 된다.\n",
        "\n",
        "역문서 빈도(IDF)는 한 단어가 문서 집합 전체에서 얼마나 공통적으로 나타나는지를 나타내는 값이다. 전체 문서의 수를 해당 단어를 포함한 문서의 수로 나눈 뒤 로그를 취하여 얻을 수 있다.\n",
        "\n",
        "* 출처 : [TF-IDF - 위키백과, 우리 모두의 백과사전](https://ko.wikipedia.org/wiki/TF-IDF)\n",
        "\n",
        "\\begin{equation*}\n",
        "\\text{tfidf}(w, d) = \\text{tf} \\times (\\log\\big(\\frac{N + 1}{N_w + 1}\\big) + 1)\n",
        "\\end{equation*}\n",
        "\n",
        "\n",
        "* 싸이킷런 공식문서 : [4.2. Feature extraction — scikit-learn 0.19.1 documentation](http://scikit-learn.org/stable/modules/feature_extraction.html)"
      ]
    },
    {
      "metadata": {
        "id": "cuesZ4QsbCSl",
        "colab_type": "text"
      },
      "cell_type": "markdown",
      "source": [
        "### TfidfTransformer()\n",
        "* norm='l2' 각 문서의 피처 벡터를 어떻게 벡터 정규화 할지 정한다. \n",
        "    - L2 : 벡터의 각 원소의 제곱의 합이 1이 되도록 만드는 것이고 기본 값\n",
        "    - L1 : 벡터의 각 원소의 절댓값의 합이 1이 되도록 크기를 조절\n",
        "* smooth_idf=False\n",
        "    - 피처를 만들 때 0으로 나오는 항목에 대해 작은 값을 더해서(스무딩을 해서) 피처를 만들지 아니면 그냥 생성할지를 결정\n",
        "* sublinear_tf=False\n",
        "* use_idf=True\n",
        "    - TF-IDF를 사용해 피처를 만들 것인지 아니면 단어 빈도 자체를 사용할 것인지 여부"
      ]
    },
    {
      "metadata": {
        "id": "HxEVEnrIbCSm",
        "colab_type": "code",
        "colab": {
          "autoexec": {
            "startup": false,
            "wait_interval": 0
          },
          "base_uri": "https://localhost:8080/",
          "height": 52
        },
        "outputId": "4f3b16bd-d22f-4d2d-a0c7-2c6c39e7a486",
        "executionInfo": {
          "status": "ok",
          "timestamp": 1532327344563,
          "user_tz": -540,
          "elapsed": 637,
          "user": {
            "displayName": "jeeyun lee",
            "photoUrl": "https://lh3.googleusercontent.com/a/default-user=s128",
            "userId": "106132043570557958485"
          }
        }
      },
      "cell_type": "code",
      "source": [
        "from sklearn.feature_extraction.text import TfidfTransformer\n",
        "transformer = TfidfTransformer(smooth_idf=False)\n",
        "transformer"
      ],
      "execution_count": 112,
      "outputs": [
        {
          "output_type": "execute_result",
          "data": {
            "text/plain": [
              "TfidfTransformer(norm='l2', smooth_idf=False, sublinear_tf=False,\n",
              "         use_idf=True)"
            ]
          },
          "metadata": {
            "tags": []
          },
          "execution_count": 112
        }
      ]
    },
    {
      "metadata": {
        "id": "5yQVNaTvbCSp",
        "colab_type": "code",
        "colab": {
          "autoexec": {
            "startup": false,
            "wait_interval": 0
          },
          "base_uri": "https://localhost:8080/",
          "height": 52
        },
        "outputId": "66e1729d-eff7-45e3-e0c3-3a66c789a4f8",
        "executionInfo": {
          "status": "ok",
          "timestamp": 1532327345411,
          "user_tz": -540,
          "elapsed": 639,
          "user": {
            "displayName": "jeeyun lee",
            "photoUrl": "https://lh3.googleusercontent.com/a/default-user=s128",
            "userId": "106132043570557958485"
          }
        }
      },
      "cell_type": "code",
      "source": [
        "%%time \n",
        "feature_tfidf = transformer.fit_transform(feature_vector)\n",
        "feature_tfidf.shape"
      ],
      "execution_count": 113,
      "outputs": [
        {
          "output_type": "stream",
          "text": [
            "CPU times: user 7.51 ms, sys: 167 µs, total: 7.68 ms\n",
            "Wall time: 11.5 ms\n"
          ],
          "name": "stdout"
        }
      ]
    },
    {
      "metadata": {
        "id": "wXxUpuF_bCSt",
        "colab_type": "code",
        "colab": {
          "autoexec": {
            "startup": false,
            "wait_interval": 0
          },
          "base_uri": "https://localhost:8080/",
          "height": 52
        },
        "outputId": "fac05576-f749-4cdc-d55c-1977641e9a35",
        "executionInfo": {
          "status": "ok",
          "timestamp": 1532327346409,
          "user_tz": -540,
          "elapsed": 382,
          "user": {
            "displayName": "jeeyun lee",
            "photoUrl": "https://lh3.googleusercontent.com/a/default-user=s128",
            "userId": "106132043570557958485"
          }
        }
      },
      "cell_type": "code",
      "source": [
        "feature_tfidf"
      ],
      "execution_count": 114,
      "outputs": [
        {
          "output_type": "execute_result",
          "data": {
            "text/plain": [
              "<3867x1000 sparse matrix of type '<class 'numpy.float64'>'\n",
              "\twith 113659 stored elements in Compressed Sparse Row format>"
            ]
          },
          "metadata": {
            "tags": []
          },
          "execution_count": 114
        }
      ]
    },
    {
      "metadata": {
        "id": "c_fh8GKvbCSy",
        "colab_type": "code",
        "colab": {
          "autoexec": {
            "startup": false,
            "wait_interval": 0
          }
        }
      },
      "cell_type": "code",
      "source": [
        "# 벡터화 된 피처를 확인해 봄\n",
        "# Bag of words 에 몇 개의 단어가 들어있는지 확인\n",
        "dist = np.sum(feature_tfidf, axis=0)\n",
        "# dist"
      ],
      "execution_count": 0,
      "outputs": []
    },
    {
      "metadata": {
        "id": "KfpqAxeSbCS4",
        "colab_type": "code",
        "colab": {
          "autoexec": {
            "startup": false,
            "wait_interval": 0
          },
          "base_uri": "https://localhost:8080/",
          "height": 4606
        },
        "outputId": "fe527476-e688-4ff0-f65f-064d33dfd934",
        "executionInfo": {
          "status": "ok",
          "timestamp": 1532327408452,
          "user_tz": -540,
          "elapsed": 682,
          "user": {
            "displayName": "jeeyun lee",
            "photoUrl": "https://lh3.googleusercontent.com/a/default-user=s128",
            "userId": "106132043570557958485"
          }
        }
      },
      "cell_type": "code",
      "source": [
        "# 단어와 함께 볼 수 있도록    \n",
        "for tag, count in zip(vocab, dist):\n",
        "    print(count, tag)\n",
        "    \n",
        "pd.DataFrame(dist, columns=vocab).head(10)"
      ],
      "execution_count": 119,
      "outputs": [
        {
          "output_type": "stream",
          "text": [
            "[[5.77087292e+00 3.06394548e+00 1.00377632e+00 1.00377632e+00\n",
            "  1.00377632e+00 2.89302261e-01 8.99883871e-02 6.64481561e+00\n",
            "  5.04734002e+00 1.03518049e+01 7.46245161e-02 1.33701067e+01\n",
            "  6.06456544e+00 1.20679442e+01 1.26203763e+01 7.46245161e-02\n",
            "  5.88519725e+00 4.87973764e+00 7.46245161e-02 1.06079394e+01\n",
            "  8.96154339e+00 2.24930239e+00 9.78471925e+00 1.30582428e+01\n",
            "  1.44298935e+01 1.02881517e+01 1.04368222e+01 8.75714875e+00\n",
            "  2.80579477e-01 7.46245161e-02 5.09190344e+00 5.83930754e+00\n",
            "  6.21654282e+00 4.70473738e+01 1.84450460e+01 5.68706998e+00\n",
            "  2.15975907e+01 1.76682250e+01 1.42623862e+01 2.02823893e+01\n",
            "  2.80672551e+01 9.23506291e-01 8.99883871e-02 8.99883871e-02\n",
            "  7.05083642e+00 2.71659938e+00 1.91923241e+01 2.37268367e+01\n",
            "  1.51823691e+01 5.01362581e+01 4.14570519e+01 2.51346225e+01\n",
            "  4.33183419e+00 1.50594546e+00 9.43780645e-02 8.12090322e-02\n",
            "  7.76387452e+00 3.16520211e+00 2.37042151e+01 1.03157419e-01\n",
            "  1.87712432e+01 1.68712720e+01 1.94775357e+01 4.40445688e+01\n",
            "  2.56016374e+01 1.29581672e+01 2.64923783e+00 3.80014923e+00\n",
            "  1.94330427e+01 7.63552226e+00 2.41183850e+01 8.03247833e+00\n",
            "  2.42535598e+01 4.31300502e+01 3.79930974e+01 4.71577458e+01\n",
            "  6.44459105e+00 8.57162897e+00 1.31246182e+01 7.84930318e+00\n",
            "  6.20479332e+00 3.44349298e+00 7.95201632e+00 5.34044140e+01\n",
            "  6.44901848e+00 7.54810575e+00 1.89450383e+01 1.14367515e+01\n",
            "  2.21461685e+01 9.32429191e+00 1.90621443e+01 1.28480066e+01\n",
            "  2.41280886e+00 8.12090322e-02 7.46245161e-02 1.11936774e-01\n",
            "  6.43791732e-01 1.51128050e+00 2.21678710e-01 8.12090322e-02\n",
            "  3.75317419e-01 1.00962581e-01 1.00962581e-01 2.12899355e-01\n",
            "  2.01925161e-01 3.64524450e+01 6.68114470e+00 2.19550340e-01\n",
            "  4.88614198e-01 1.39592652e+01 9.86374035e+00 3.82435997e+01\n",
            "  2.53897985e+01 3.70587039e+01 9.88100734e+00 4.17839888e+01\n",
            "  1.33565062e+01 3.33286613e+01 6.40403904e+00 2.36599847e+01\n",
            "  1.93584350e+01 7.42788442e-01 8.99883871e-02 1.83384867e+01\n",
            "  2.48901127e+01 8.37554030e+00 1.05651890e+01 1.93998346e+01\n",
            "  1.52451703e+01 7.05090446e+00 1.43634253e+01 1.21613393e+01\n",
            "  3.34130728e+01 1.56638392e+01 4.07318747e+01 4.76687518e+01\n",
            "  2.24419562e+01 3.14376690e+01 1.89578110e+01 3.84294578e+01\n",
            "  6.39902198e+01 6.50315153e+00 6.40448505e+00 5.74489777e+00\n",
            "  1.44806777e+01 1.61212491e+01 2.38913658e+01 6.72347687e+01\n",
            "  1.50035692e+01 3.95275559e+01 6.40338937e+00 5.74489777e+00\n",
            "  3.06394548e+00 8.01959860e+00 6.53607145e-01 8.77935484e-02\n",
            "  8.77935484e-02 1.07574704e+01 8.83181185e+00 8.11600925e+00\n",
            "  1.46423244e+01 1.16185632e+01 3.19141640e+01 1.33192027e+01\n",
            "  9.08107265e+00 1.45274952e+01 2.96471841e+01 2.46659557e+01\n",
            "  8.94140165e+00 2.43681174e+01 3.54544402e+01 1.34904245e+01\n",
            "  2.25405635e+01 8.76763583e+00 6.64465539e+01 8.40994123e+00\n",
            "  9.74826136e+00 1.22257968e+01 1.45954093e+01 2.31764442e+01\n",
            "  2.29595989e+01 1.21904336e+01 8.99883871e-02 1.17531034e+01\n",
            "  5.97968549e+00 8.92241432e+00 9.59292075e+00 1.07517713e+01\n",
            "  1.14078775e+01 1.45882660e+01 1.36059569e+01 3.02577659e+01\n",
            "  8.51232859e+00 2.67117753e+01 2.33683324e+01 1.66848874e+01\n",
            "  1.69301483e+01 2.69596723e+01 1.29955207e+01 1.66463083e+01\n",
            "  9.30408535e+00 1.92571643e+01 1.95841682e+01 6.19965522e+00\n",
            "  2.16687441e+01 5.34992749e+00 1.21106266e+01 6.64361053e+00\n",
            "  9.66860286e+01 1.64182485e+01 8.99883871e-02 8.99883871e-02\n",
            "  1.32553052e+01 1.00962581e-01 1.25489955e+01 7.96204402e+00\n",
            "  1.93021809e+01 1.50596253e+01 1.01273396e+01 1.46226393e+01\n",
            "  1.08074104e+01 1.34693790e+01 1.44339625e+01 3.84330386e+01\n",
            "  3.26252470e+01 9.86907179e+00 7.99539932e+00 4.29300268e+00\n",
            "  1.81879835e+01 1.48368278e+01 9.03455547e+00 3.83586250e+00\n",
            "  1.20958215e+01 3.71877748e+01 1.34467250e+01 1.43429358e+01\n",
            "  8.79165429e+00 3.70754104e+01 1.54301210e+01 3.76308405e+01\n",
            "  1.47939574e+01 5.76651421e+01 3.23664550e+01 1.36178042e+01\n",
            "  1.44328248e+01 4.87612484e+01 1.09521395e+01 1.02091865e+01\n",
            "  7.58655029e+01 5.59757934e+01 1.17505131e+01 1.55744903e+01\n",
            "  1.23940383e+01 2.67748863e+01 1.31742429e+01 3.94242238e+01\n",
            "  1.68614514e+01 9.17097516e+00 1.77065289e+01 1.15756889e+01\n",
            "  2.54159228e+01 9.68795097e+00 1.86146901e+01 2.32046961e+01\n",
            "  4.80934113e+00 1.70520954e+01 1.63428614e+01 1.36595840e+01\n",
            "  1.04095146e+01 8.72031980e+00 9.22373481e+00 2.10598126e+01\n",
            "  2.54902392e+01 2.08954940e+01 1.68773070e+01 1.04231736e+01\n",
            "  1.79654892e+01 2.00441783e+01 6.77176786e+00 1.11578969e+01\n",
            "  2.88349549e+01 1.38718073e+01 1.42610767e+01 1.65727944e+01\n",
            "  1.11581954e+01 7.82477775e+00 1.02153803e+01 1.30291836e+01\n",
            "  1.69256811e+01 1.74393327e+01 1.23165164e+01 1.25591994e+01\n",
            "  6.69406107e+01 1.38335385e+01 1.87256712e+01 4.53417969e+01\n",
            "  1.63667104e+01 1.73867755e+01 4.07142270e+00 5.92529022e+01\n",
            "  6.73145077e+01 3.03615527e+01 1.67646155e+01 1.26916287e+01\n",
            "  9.05273527e+00 1.56932850e-01 1.10623034e+01 7.83466227e+00\n",
            "  9.61920367e+00 2.80876844e+01 9.67948835e+00 1.80328216e+01\n",
            "  9.30274663e+00 1.41083813e+01 1.20732497e+01 2.91204400e+00\n",
            "  1.40469677e-01 1.36080000e-01 2.89242508e+01 6.96074287e+01\n",
            "  6.69459888e+01 2.21362176e+01 1.27910569e+01 1.14051820e+01\n",
            "  1.95214071e+01 9.21173286e+00 1.29273690e+01 2.92861523e+01\n",
            "  1.36301142e+01 1.21466636e+01 3.26672749e+01 3.16164195e+01\n",
            "  1.06956986e+01 2.75862450e+01 1.95479603e+01 1.81395702e+01\n",
            "  6.10240962e+00 3.26545702e+01 1.62875021e+01 4.79512356e+01\n",
            "  1.29630060e+01 1.09095450e+01 1.89346226e+01 1.32376831e+01\n",
            "  3.18139016e+01 2.08747991e+01 7.51173962e+00 1.14428708e+01\n",
            "  3.32249940e+00 8.99883871e-02 8.99883871e-02 2.13384933e+01\n",
            "  1.38884391e+01 2.71270400e+01 9.83075051e+00 5.59554960e+01\n",
            "  1.64530570e+01 2.29900362e+01 4.45354904e+01 2.35532209e+01\n",
            "  1.40053872e+01 2.44676256e+01 1.07832133e+01 2.23985826e+01\n",
            "  3.79386400e+01 1.33495631e+01 6.76885423e+00 1.09236385e+01\n",
            "  1.50410395e+01 2.31235054e+01 2.90136432e+02 1.48376534e+01\n",
            "  3.79841952e+01 1.43301134e+02 5.59823011e+01 2.08734506e+01\n",
            "  3.67403699e+01 7.43959246e+01 2.57464488e+01 7.31531436e+01\n",
            "  6.89878237e+01 3.02936671e+01 2.76169654e+01 5.16096901e+01\n",
            "  1.31690323e-01 1.16326452e-01 7.68193548e-02 8.71660868e+00\n",
            "  2.73677662e+00 8.34110942e+00 6.14140330e+01 2.64785198e+01\n",
            "  3.27373487e+01 2.26256846e+01 1.64317862e+01 2.12991645e+01\n",
            "  1.04202313e+01 6.71753300e+00 6.10513774e+00 9.98321321e+00\n",
            "  1.69652331e+01 3.22884275e+00 4.59113621e+00 1.20529673e+01\n",
            "  9.21652940e+00 1.33754262e+01 6.92174033e+00 2.29644200e+00\n",
            "  7.46245161e-02 1.62199217e+01 1.28810420e+01 1.54421628e+01\n",
            "  1.42541478e+00 6.41546913e-01 5.23534249e-01 2.67467495e+01\n",
            "  1.08881387e+01 1.40293780e+01 2.05084837e+01 3.27113242e+01\n",
            "  1.16471062e+01 1.39421439e+01 1.13439973e+01 3.03538339e+01\n",
            "  2.06811635e+01 6.49672258e-01 4.66402598e-01 1.22910968e-01\n",
            "  2.32652903e-01 2.38124436e+01 7.22240072e+01 2.11774509e+01\n",
            "  1.09073756e+01 7.26591741e+00 8.34123847e+00 8.11742560e+00\n",
            "  1.31264407e+01 6.70018626e+00 6.46979862e-01 6.79964382e-01\n",
            "  1.82952090e+01 7.17743877e+00 5.73340050e-01 8.55987097e-02\n",
            "  9.38963487e-01 3.63499525e+00 6.76653236e+00 6.60612334e+00\n",
            "  8.38113332e+00 5.15670722e+00 2.55670080e+00 1.78800084e+00\n",
            "  1.18189064e+01 1.29858455e+01 9.27007354e-01 1.11936774e-01\n",
            "  2.74218559e+01 3.15199328e+00 8.55987097e-02 1.89856788e+01\n",
            "  8.54899590e+00 1.04130289e+01 1.53744337e+01 3.21905494e+01\n",
            "  1.07106438e+01 3.00056694e+01 1.28812516e+01 1.13275317e+00\n",
            "  1.29495484e-01 1.07547097e-01 9.43780645e-02 7.68494718e+00\n",
            "  1.05450099e+01 1.14131613e-01 8.19562875e+00 1.04482611e+01\n",
            "  2.49286281e+01 9.20862201e+00 8.20435301e-01 1.55833548e-01\n",
            "  2.63380645e-01 1.42664516e-01 2.17289032e-01 1.71197419e-01\n",
            "  1.36080000e-01 7.68193548e-02 1.05548936e+01 1.44215758e+01\n",
            "  1.09683500e+01 7.53737895e+00 1.09387139e+01 1.29451528e+01\n",
            "  9.63886125e+00 2.44961674e+00 7.84649987e-01 1.03157419e-01\n",
            "  1.37973341e+01 2.36872537e+01 1.49191597e+01 2.19890271e+01\n",
            "  1.12141366e+01 7.64734013e+01 9.03624858e+00 9.11716480e+00\n",
            "  2.28999159e+01 1.16805126e+01 1.16326452e-01 2.24777610e+01\n",
            "  8.84358308e-01 1.21922406e+01 1.59386747e+01 1.68639865e+01\n",
            "  8.24694030e-01 9.46563437e+00 2.68927874e+00 1.17324189e+00\n",
            "  7.46245161e-02 1.62882537e+01 8.68432322e+00 1.75052797e+01\n",
            "  1.23735915e+01 2.09844369e+00 1.41603388e+00 1.94424873e+01\n",
            "  1.21836133e+01 8.58946594e-01 9.87677419e-02 8.12090322e-02\n",
            "  5.90618432e-01 1.20716129e-01 7.46245161e-02 1.12736868e+00\n",
            "  2.43627097e-01 2.10704516e-01 2.41773735e+01 9.47352567e+00\n",
            "  9.26305774e+00 1.81515742e+01 7.19574520e+00 1.17197194e+01\n",
            "  1.44309700e+01 9.21832258e-02 8.99883871e-02 7.42857952e+00\n",
            "  5.36028713e+00 2.49824787e+00 2.12158957e+00 1.17041965e+01\n",
            "  1.06727506e+01 2.10762668e+01 1.71972179e+01 3.10812067e+01\n",
            "  2.06110850e+01 1.27582772e+01 1.93271199e+01 3.30403814e+01\n",
            "  9.82878981e+00 1.61930165e+01 1.78533553e+01 1.66255249e+01\n",
            "  2.34806289e+01 4.44817317e+01 1.29173579e+01 2.44782581e+01\n",
            "  3.17026981e+01 2.32608213e+01 2.49149305e+01 3.50071795e+01\n",
            "  1.57487661e+01 1.20320613e+01 1.70956209e+01 1.93018969e+01\n",
            "  1.56608333e+01 2.51846368e+01 1.34099110e+01 2.54971504e+01\n",
            "  2.41811014e+01 1.97903431e+01 5.22846405e+01 2.54482634e+01\n",
            "  1.71636789e+01 1.64348555e+01 1.18348116e+01 1.24819517e+01\n",
            "  1.80739346e+01 7.77077463e+00 7.90141935e-02 3.73652247e-01\n",
            "  1.60223226e-01 4.03134846e+01 1.56215079e+01 1.22582511e+01\n",
            "  6.33075925e+00 1.43058931e+01 6.24435840e+00 1.35273215e+01\n",
            "  8.34373027e+00 1.03469426e+01 1.15649158e+01 3.30659268e+01\n",
            "  6.84546778e+00 3.20232190e+01 1.00526502e+01 1.32780232e+01\n",
            "  3.85470722e+01 9.96315314e+00 5.91812607e+00 1.04002672e+01\n",
            "  2.06259799e+01 1.50516734e+01 1.33083141e+01 1.54782653e+01\n",
            "  3.77839161e+01 1.89088522e+01 1.51711193e+01 3.01109602e+01\n",
            "  1.41151185e+01 1.00543158e+01 2.91421150e+01 4.33742075e+01\n",
            "  1.01788864e+01 1.53053551e+01 1.79796860e+01 2.77289177e+01\n",
            "  2.60208382e+01 1.46711423e+01 1.52271692e+01 2.74692059e+01\n",
            "  5.46983891e+01 6.52139978e+00 1.15437602e+01 1.59370171e+01\n",
            "  1.03420056e+01 1.03975003e+01 6.06878893e+01 1.35472788e+01\n",
            "  9.88425595e+00 1.27027990e+01 2.97605374e+01 6.54112704e+00\n",
            "  1.20951368e+01 9.22990148e+00 6.61944421e-01 6.86687988e+00\n",
            "  1.80219238e+01 1.54700711e+01 1.02039579e+01 1.42348175e+01\n",
            "  1.93862565e+01 1.16577079e+01 8.07565998e+00 1.48498518e+01\n",
            "  3.11718841e+01 7.53236980e+00 4.42858031e+00 1.84440965e+01\n",
            "  1.11847274e+01 1.00043799e+01 1.27252988e+01 5.61800308e+01\n",
            "  7.25087366e+01 3.24255209e+01 4.86362789e+01 1.86275492e+01\n",
            "  1.99670239e+01 1.40659365e+01 1.38021046e+01 1.47036985e+01\n",
            "  2.35580621e+01 1.95473789e+01 2.46136090e+01 1.67660140e+01\n",
            "  3.18208860e+00 9.23012694e+00 1.21119514e+01 1.37046161e+01\n",
            "  1.80312706e+01 1.66549858e+00 1.66549858e+00 1.66549858e+00\n",
            "  1.04266850e+01 3.63815462e+01 6.37852338e+01 2.11554858e+01\n",
            "  1.14716660e+01 9.43032456e+00 1.34350723e+01 6.06539694e-01\n",
            "  1.38274839e-01 1.18521290e-01 9.21832258e-02 9.00677499e+00\n",
            "  6.74955025e+00 2.86119028e+01 9.42475120e+00 6.97644082e+00\n",
            "  3.54419607e+01 1.31639376e+01 2.65860719e+01 6.65572592e+01\n",
            "  5.27462134e+01 1.86525407e+01 3.02714106e+01 1.38957125e+01\n",
            "  2.66995513e+01 1.11905168e+01 2.08446394e+01 1.07683393e+01\n",
            "  1.22583735e+01 1.03092502e+01 2.86970315e+00 8.28073397e+00\n",
            "  3.20931773e+01 2.21942989e+01 1.48036954e+01 1.06149060e+01\n",
            "  8.10494111e+00 1.16304005e+00 8.99883871e-02 8.12090322e-02\n",
            "  1.40089449e+01 2.96243027e+01 4.69927504e+01 1.41380096e+01\n",
            "  1.36579230e+01 9.48658128e+00 9.72537491e+00 8.29952320e+00\n",
            "  1.65442172e+01 1.52780991e+01 9.16115800e+00 1.28143648e+01\n",
            "  4.73580659e+01 2.39638263e+01 1.01564285e+01 3.52507175e+01\n",
            "  6.14723826e+00 1.35973475e+02 3.50749204e+00 9.65729032e-02\n",
            "  8.12090322e-02 3.45675727e+01 2.09499449e+01 2.37794267e+01\n",
            "  3.27916244e+01 1.81913984e+01 1.56736299e+01 3.81086539e+01\n",
            "  1.30063111e+01 1.55751652e+02 9.57453605e+00 1.46590728e+01\n",
            "  1.15131944e+01 1.50403051e+01 1.11578398e+01 1.03561329e+01\n",
            "  1.50909571e+01 1.69043480e+01 2.39415965e+01 1.17242751e+01\n",
            "  6.35910309e+00 1.55290707e+01 2.20227664e+01 2.50355903e+01\n",
            "  5.36230531e+00 6.60125520e+00 1.28449624e+01 7.84492651e+00\n",
            "  1.69270271e+01 3.75840669e+00 8.74528011e+00 6.69949406e+01\n",
            "  1.65493790e+01 1.30951284e+01 2.64016328e+01 1.56438563e+01\n",
            "  1.15738086e+01 8.62587654e+00 1.63245920e+01 7.09305454e-01\n",
            "  1.22447195e+01 1.14554103e+01 6.00124235e+00 1.92993000e+01\n",
            "  1.28560539e+01 2.85613923e+01 2.58514236e+00 1.51443871e-01\n",
            "  1.42465678e+01 1.75420709e+01 8.56011835e+01 2.62703446e+01\n",
            "  3.45373479e+01 4.67585612e+01 1.02760859e+01 3.22253626e+01\n",
            "  1.19678222e+01 7.98224135e+00 2.51142129e+01 2.09566249e+00\n",
            "  1.39037962e+01 1.70451565e+01 2.71796139e+01 3.24565729e+00\n",
            "  9.99318713e+00 6.14210969e+00 3.86029382e+01 4.19947463e+01\n",
            "  1.18939425e+02 9.97746467e+00 5.53201942e+00 5.53201942e+00\n",
            "  1.87016792e+01 1.25439739e+01 1.50977194e+01 4.31388470e-01\n",
            "  2.96462694e-01 8.12090322e-02 7.90141935e-02 1.10875125e+01\n",
            "  1.14280815e+01 1.30555951e+01 1.01085153e+01 3.96044097e+01\n",
            "  3.22821766e+01 1.09726504e+01 1.09360669e+01 1.08858835e+01\n",
            "  4.90366930e+01 1.35170269e+01 1.26494861e+01 1.19532666e+01\n",
            "  1.77409597e+01 1.08262251e+01 1.08628500e+01 6.21048653e+01\n",
            "  3.31812391e+01 1.84914679e+01 8.02051907e+01 2.70438734e+01\n",
            "  7.30350838e+01 2.74629643e+01 5.25327585e+01 3.07256352e+01\n",
            "  4.25412694e+01 3.94057378e+01 9.53546097e+00 2.03948785e+01\n",
            "  2.82036147e-01 2.68867114e-01 2.60087759e-01 7.88328041e+01\n",
            "  1.10121502e+01 1.51852576e+01 1.42989422e+01 9.10233926e+00\n",
            "  1.38336611e+01 6.71054378e+00 9.21846906e+00 1.06685873e+01\n",
            "  1.10335131e+01 2.54603075e+00 1.66549858e+00 1.66549858e+00\n",
            "  2.02364841e+01 1.59104026e+00 2.64477437e-01 9.87677419e-02\n",
            "  1.53350915e+01 1.91355781e+00 1.25105806e-01 9.87677419e-02\n",
            "  4.16835161e+01 1.02480047e+01 1.79375040e+01 4.39270418e+01\n",
            "  1.76564484e+01 1.05724298e+01 1.85943696e+01 1.33350841e+01\n",
            "  1.09346883e+01 5.33711132e+00 1.39066946e+00 5.33177488e+00\n",
            "  1.62971256e+01 3.29494469e-01 2.31386335e+01 1.66128273e+01\n",
            "  2.75616698e+01 1.31740945e+01 2.95058164e+01 1.32180414e+01\n",
            "  2.62851046e+01 5.62091587e+00 1.01243656e+01 1.10917203e+01\n",
            "  1.14898326e+01 7.61081798e+00 1.05352258e-01 8.12090322e-02\n",
            "  8.12090322e-02 1.38211554e+01 2.14344002e+00 1.32828312e+01\n",
            "  1.25756078e+01 1.15166898e+01 9.53246211e+00 2.61847618e+01\n",
            "  3.05098959e+01 1.60628287e+00 2.10622512e+00 5.67903065e+00\n",
            "  1.24831791e+01 6.87495320e+00 1.70521492e+00 1.70521492e+00\n",
            "  1.06638519e+01 3.12174493e+01 9.54587660e+00 1.23446642e+01\n",
            "  1.30185788e+01 2.48226991e+01 8.93922042e+00 6.89735702e+01\n",
            "  8.25829962e+00 1.41769754e+01 9.05612273e+00 1.65862010e+01\n",
            "  8.81748913e+00 7.23666773e+01 4.84995999e+00 2.87532470e+01\n",
            "  8.75242803e+00 2.84847202e+01 7.46245161e-02 7.46245161e-02\n",
            "  1.46671625e+01 8.84212248e+00 8.00179787e+00 2.96815556e+01\n",
            "  1.08984468e+01 1.20470075e+01 1.02583232e+01 3.22006185e+01\n",
            "  1.10235957e+01 1.79039073e+01 3.71187212e+01 3.67494430e+00\n",
            "  5.91463442e+01 2.91017372e+01 2.05456588e+01 1.40365982e+01\n",
            "  1.54707317e+01 2.11823546e+01 3.12600373e+01 1.73499997e+01\n",
            "  1.07034493e+01 1.10312607e+01 1.09783437e+01 1.88432923e+01\n",
            "  1.15706241e+01 2.42684346e+01 2.17104587e+00 7.90141935e-02\n",
            "  1.54732088e+01 1.28586698e+02 1.84259403e+01 4.32895065e+01\n",
            "  1.61431443e+01 1.33536933e+01 1.33970416e+01 3.05386025e+01\n",
            "  8.84755697e+00 2.28104233e+01 2.91404612e+01 2.41150148e+01\n",
            "  7.64648652e+01 7.20496123e+00 1.01465266e+01 8.13683309e+00\n",
            "  1.27300645e-01 7.68193548e-02 9.17551363e+00 5.59500861e+01\n",
            "  3.08751363e-01 1.62885630e+01 1.64182575e+01 1.05887113e+01\n",
            "  2.25484986e+01 1.14076525e+01 1.11283509e+01 1.54419054e+01\n",
            "  2.48550755e+01 1.17360064e+01 1.51812632e+01 2.07696675e+01\n",
            "  1.39089017e+01 1.36436769e+01 1.58859184e+01 2.23123137e+01]] ab\n"
          ],
          "name": "stdout"
        },
        {
          "output_type": "execute_result",
          "data": {
            "text/html": [
              "<div>\n",
              "<style scoped>\n",
              "    .dataframe tbody tr th:only-of-type {\n",
              "        vertical-align: middle;\n",
              "    }\n",
              "\n",
              "    .dataframe tbody tr th {\n",
              "        vertical-align: top;\n",
              "    }\n",
              "\n",
              "    .dataframe thead th {\n",
              "        text-align: right;\n",
              "    }\n",
              "</style>\n",
              "<table border=\"1\" class=\"dataframe\">\n",
              "  <thead>\n",
              "    <tr style=\"text-align: right;\">\n",
              "      <th></th>\n",
              "      <th>ab</th>\n",
              "      <th>ab 학교</th>\n",
              "      <th>blog</th>\n",
              "      <th>blog naver</th>\n",
              "      <th>blog naver com</th>\n",
              "      <th>cctv</th>\n",
              "      <th>cctv와</th>\n",
              "      <th>co</th>\n",
              "      <th>co kr</th>\n",
              "      <th>com</th>\n",
              "      <th>...</th>\n",
              "      <th>환경에</th>\n",
              "      <th>환경에서</th>\n",
              "      <th>환경을</th>\n",
              "      <th>환경이</th>\n",
              "      <th>황사</th>\n",
              "      <th>효과가</th>\n",
              "      <th>효과를</th>\n",
              "      <th>훨씬</th>\n",
              "      <th>힘든</th>\n",
              "      <th>힘듭니다</th>\n",
              "    </tr>\n",
              "  </thead>\n",
              "  <tbody>\n",
              "    <tr>\n",
              "      <th>0</th>\n",
              "      <td>5.770873</td>\n",
              "      <td>3.063945</td>\n",
              "      <td>1.003776</td>\n",
              "      <td>1.003776</td>\n",
              "      <td>1.003776</td>\n",
              "      <td>0.289302</td>\n",
              "      <td>0.089988</td>\n",
              "      <td>6.644816</td>\n",
              "      <td>5.04734</td>\n",
              "      <td>10.351805</td>\n",
              "      <td>...</td>\n",
              "      <td>11.128351</td>\n",
              "      <td>15.441905</td>\n",
              "      <td>24.855075</td>\n",
              "      <td>11.736006</td>\n",
              "      <td>15.181263</td>\n",
              "      <td>20.769668</td>\n",
              "      <td>13.908902</td>\n",
              "      <td>13.643677</td>\n",
              "      <td>15.885918</td>\n",
              "      <td>22.312314</td>\n",
              "    </tr>\n",
              "  </tbody>\n",
              "</table>\n",
              "<p>1 rows × 1000 columns</p>\n",
              "</div>"
            ],
            "text/plain": [
              "         ab     ab 학교      blog  blog naver  blog naver com      cctv  \\\n",
              "0  5.770873  3.063945  1.003776    1.003776        1.003776  0.289302   \n",
              "\n",
              "      cctv와        co    co kr        com    ...            환경에       환경에서  \\\n",
              "0  0.089988  6.644816  5.04734  10.351805    ...      11.128351  15.441905   \n",
              "\n",
              "         환경을        환경이         황사        효과가        효과를         훨씬  \\\n",
              "0  24.855075  11.736006  15.181263  20.769668  13.908902  13.643677   \n",
              "\n",
              "          힘든       힘듭니다  \n",
              "0  15.885918  22.312314  \n",
              "\n",
              "[1 rows x 1000 columns]"
            ]
          },
          "metadata": {
            "tags": []
          },
          "execution_count": 119
        }
      ]
    },
    {
      "metadata": {
        "id": "Wx-NFTAJbCS6",
        "colab_type": "code",
        "colab": {
          "autoexec": {
            "startup": false,
            "wait_interval": 0
          }
        }
      },
      "cell_type": "code",
      "source": [
        ""
      ],
      "execution_count": 0,
      "outputs": []
    }
  ]
}