{
  "nbformat": 4,
  "nbformat_minor": 0,
  "metadata": {
    "colab": {
      "name": "이지윤_국민청원크롤링실습.ipynb",
      "version": "0.3.2",
      "views": {},
      "default_view": {},
      "provenance": [],
      "collapsed_sections": []
    },
    "kernelspec": {
      "name": "python3",
      "display_name": "Python 3"
    }
  },
  "cells": [
    {
      "metadata": {
        "id": "CHIZfCGAHznI",
        "colab_type": "text"
      },
      "cell_type": "markdown",
      "source": [
        "# 1. 국민청원 데이터 추출 후 DataFrame에 담기\n",
        "국민청원 첫 페이지 하단의 청원 목록에서 번호, 분류, 제목, 참여인원을 추출하여 DataFrame에 담아주세요. \n",
        "\n",
        "### 데이터 추출하기\n",
        "국민청원 첫 페이지 하단의 청원 목록에서 번호, 분류, 제목, 참여인원을 추출하기"
      ]
    },
    {
      "metadata": {
        "id": "j8q6jJyLIPBy",
        "colab_type": "code",
        "colab": {
          "autoexec": {
            "startup": false,
            "wait_interval": 0
          },
          "base_uri": "https://localhost:8080/",
          "height": 124
        },
        "outputId": "81f8082f-64e6-4cdf-9fb0-0e1f3cfd5c26",
        "executionInfo": {
          "status": "ok",
          "timestamp": 1532358126691,
          "user_tz": -540,
          "elapsed": 2423,
          "user": {
            "displayName": "jeeyun lee",
            "photoUrl": "https://lh3.googleusercontent.com/a/default-user=s128",
            "userId": "106132043570557958485"
          }
        }
      },
      "cell_type": "code",
      "source": [
        "# 필요한 라이브러리 가져오기\n",
        "!pip install html5lib beautifulsoup4\n",
        "\n",
        "from urllib import request\n",
        "from bs4 import BeautifulSoup\n",
        "import pandas as pd\n",
        "import numpy as np"
      ],
      "execution_count": 128,
      "outputs": [
        {
          "output_type": "stream",
          "text": [
            "Requirement already satisfied: html5lib in /usr/local/lib/python3.6/dist-packages (1.0.1)\r\n",
            "Requirement already satisfied: beautifulsoup4 in /usr/local/lib/python3.6/dist-packages (4.6.0)\r\n",
            "Requirement already satisfied: six>=1.9 in /usr/local/lib/python3.6/dist-packages (from html5lib) (1.11.0)\r\n",
            "Requirement already satisfied: webencodings in /usr/local/lib/python3.6/dist-packages (from html5lib) (0.5.1)\n",
            "\u001b[33mYou are using pip version 10.0.1, however version 18.0 is available.\n",
            "You should consider upgrading via the 'pip install --upgrade pip' command.\u001b[0m\n"
          ],
          "name": "stdout"
        }
      ]
    },
    {
      "metadata": {
        "id": "mR9ffhT8Ij_O",
        "colab_type": "code",
        "colab": {
          "autoexec": {
            "startup": false,
            "wait_interval": 0
          }
        }
      },
      "cell_type": "code",
      "source": [
        "#html 받아오기\n",
        "url = \"https://www1.president.go.kr/petitions\"\n",
        "with request.urlopen(url) as f:\n",
        "  html = f.read().decode('utf-8')"
      ],
      "execution_count": 0,
      "outputs": []
    },
    {
      "metadata": {
        "id": "oQYKyPKNJkP2",
        "colab_type": "code",
        "colab": {
          "autoexec": {
            "startup": false,
            "wait_interval": 0
          },
          "base_uri": "https://localhost:8080/",
          "height": 200
        },
        "outputId": "6c982d5e-f484-482c-f5fe-d1f5c2bd1d26",
        "executionInfo": {
          "status": "ok",
          "timestamp": 1532358130749,
          "user_tz": -540,
          "elapsed": 872,
          "user": {
            "displayName": "jeeyun lee",
            "photoUrl": "https://lh3.googleusercontent.com/a/default-user=s128",
            "userId": "106132043570557958485"
          }
        }
      },
      "cell_type": "code",
      "source": [
        "# DOM 구성하기\n",
        "bs = BeautifulSoup(html, 'html5lib')\n",
        "requests = bs.select('.wrap > .board > .b_list > .bl_body > ul > li > .bl_wrap')\n",
        "\n",
        "#데이터프레임 생성\n",
        "request_people = pd.DataFrame(columns=['번호','분류','제목','참여인원'])\n",
        "\n",
        "# 번호, 분류, 제목, 참여인원을 추출해서 넣기\n",
        "for request in requests:\n",
        "  ## 왜 클래스를 #이 아닌 .으로 가져와야 될까?\n",
        "  num = request.select_one('.bl_no').text.replace(\"번호 \", \"\")\n",
        "  category = request.select_one('.bl_category').text.replace(\"분류 \", \"\")\n",
        "  subject = request.select_one('.bl_subject a').text.replace(\"제목 \", \"\")\n",
        "  ## 왜인지 agree만 안가져와진다. 일단 패스\n",
        "  # agree = request.select_one('.bl_agree')\n",
        "  \n",
        "  # 데이터프레임에 넣어주기\n",
        "  ## efficient하게 넣기?\n",
        "  request_people = request_people.append({\"번호\":num, \"분류\":category, \\\n",
        "                         \"제목\":subject, \"참여인원\":0}, \\\n",
        "                        ignore_index=True)\n",
        "\n",
        "request_people.head()"
      ],
      "execution_count": 130,
      "outputs": [
        {
          "output_type": "execute_result",
          "data": {
            "text/html": [
              "<div>\n",
              "<style scoped>\n",
              "    .dataframe tbody tr th:only-of-type {\n",
              "        vertical-align: middle;\n",
              "    }\n",
              "\n",
              "    .dataframe tbody tr th {\n",
              "        vertical-align: top;\n",
              "    }\n",
              "\n",
              "    .dataframe thead th {\n",
              "        text-align: right;\n",
              "    }\n",
              "</style>\n",
              "<table border=\"1\" class=\"dataframe\">\n",
              "  <thead>\n",
              "    <tr style=\"text-align: right;\">\n",
              "      <th></th>\n",
              "      <th>번호</th>\n",
              "      <th>분류</th>\n",
              "      <th>제목</th>\n",
              "      <th>참여인원</th>\n",
              "    </tr>\n",
              "  </thead>\n",
              "  <tbody>\n",
              "    <tr>\n",
              "      <th>0</th>\n",
              "      <td>244368</td>\n",
              "      <td>반려동물</td>\n",
              "      <td>국내 파,양,지 시장의 확산을 막는 환경청 바꾸자</td>\n",
              "      <td>0</td>\n",
              "    </tr>\n",
              "    <tr>\n",
              "      <th>1</th>\n",
              "      <td>244367</td>\n",
              "      <td>기타</td>\n",
              "      <td>노회찬 의원 수사와 부검을 해야합니다. 화장을 막아 ...</td>\n",
              "      <td>0</td>\n",
              "    </tr>\n",
              "    <tr>\n",
              "      <th>2</th>\n",
              "      <td>244366</td>\n",
              "      <td>문화/예술/체육/언론</td>\n",
              "      <td>한겨레 신문은 폐간해야 한다!!</td>\n",
              "      <td>0</td>\n",
              "    </tr>\n",
              "    <tr>\n",
              "      <th>3</th>\n",
              "      <td>244365</td>\n",
              "      <td>기타</td>\n",
              "      <td>오래된빛때문에 고통받는서민들</td>\n",
              "      <td>0</td>\n",
              "    </tr>\n",
              "    <tr>\n",
              "      <th>4</th>\n",
              "      <td>244364</td>\n",
              "      <td>교통/건축/국토</td>\n",
              "      <td>신안산선 연내착공을 부탁드립니다</td>\n",
              "      <td>0</td>\n",
              "    </tr>\n",
              "  </tbody>\n",
              "</table>\n",
              "</div>"
            ],
            "text/plain": [
              "       번호            분류                                제목 참여인원\n",
              "0  244368          반려동물       국내 파,양,지 시장의 확산을 막는 환경청 바꾸자    0\n",
              "1  244367            기타  노회찬 의원 수사와 부검을 해야합니다. 화장을 막아 ...    0\n",
              "2  244366   문화/예술/체육/언론                 한겨레 신문은 폐간해야 한다!!    0\n",
              "3  244365            기타                   오래된빛때문에 고통받는서민들    0\n",
              "4  244364      교통/건축/국토                 신안산선 연내착공을 부탁드립니다    0"
            ]
          },
          "metadata": {
            "tags": []
          },
          "execution_count": 130
        }
      ]
    },
    {
      "metadata": {
        "id": "ijS3Yrm-VWQG",
        "colab_type": "text"
      },
      "cell_type": "markdown",
      "source": [
        "# 2. 여러 페이지 데이터 가져오기\n",
        "국민청원 목록 첫 페이지 주소는 https://www1.president.go.kr/petitions?page=1 입니다. 두번째 페이지 주소는 https://www1.president.go.kr/petitions?page=2 입니다. 처음 10개 페이지에 순차적으로 방문하여 번호, 분류, 제목, 참여인원을 추출하고 그 결과를 DataFrame에 담아주세요.\n"
      ]
    },
    {
      "metadata": {
        "id": "V3w4nuZgJ43k",
        "colab_type": "code",
        "colab": {
          "autoexec": {
            "startup": false,
            "wait_interval": 0
          }
        }
      },
      "cell_type": "code",
      "source": [
        "# url에서 html을 받아오는 함수\n",
        "def get_html(url):\n",
        "  with request.urlopen(url) as f:\n",
        "    html = f.read().decode('utf-8')\n",
        "\n",
        "\n",
        "# html에서 원하는 태그를 받아오는 함수\n",
        "def get_div(html):\n",
        "  bs = BeautifulSoup(html, 'html5lib')\n",
        "  return bs.select('.wrap > .board > .b_list > .bl_body > ul > li > .bl_wrap')\n",
        "\n",
        "# beautifulsoup 객체를 받아 \n",
        "# 데이터 추출 후 데이터프레임에 넣어주는 함수\n",
        "def html_to_df(bs, df):\n",
        "  for request in requests:\n",
        "    ## 왜 클래스를 #이 아닌 .으로 가져와야 될까?\n",
        "    num = request.select_one('.bl_no').text.replace(\"번호 \", \"\")\n",
        "    category = request.select_one('.bl_category').text.replace(\"분류 \", \"\")\n",
        "    subject = request.select_one('.bl_subject a').text.replace(\"제목 \", \"\")\n",
        "    ## 왜인지 agree만 안가져와진다. 일단 패스\n",
        "    # agree = request.select_one('.bl_agree')\n",
        "\n",
        "    # 데이터프레임에 넣어주기\n",
        "    request_people = request_people.append({\"번호\":num, \"분류\":category, \\\n",
        "                           \"제목\":subject, \"참여인원\":0}, \\\n",
        "                          ignore_index=True)\n",
        "  return request_people"
      ],
      "execution_count": 0,
      "outputs": []
    },
    {
      "metadata": {
        "id": "amQRHPTQnY9P",
        "colab_type": "code",
        "colab": {
          "autoexec": {
            "startup": false,
            "wait_interval": 0
          },
          "base_uri": "https://localhost:8080/",
          "height": 366
        },
        "outputId": "b93e6460-d418-4301-dc38-455c73d57555",
        "executionInfo": {
          "status": "error",
          "timestamp": 1532358271872,
          "user_tz": -540,
          "elapsed": 731,
          "user": {
            "displayName": "jeeyun lee",
            "photoUrl": "https://lh3.googleusercontent.com/a/default-user=s128",
            "userId": "106132043570557958485"
          }
        }
      },
      "cell_type": "code",
      "source": [
        "url = \"https://www1.president.go.kr/petitions?page=\"\n",
        "df = pd.DataFrame(columns=['번호','분류','제목','참여인원'])\n",
        "\n",
        "for a in range(10):\n",
        "  url2 = url + str(a+1)\n",
        "  html = get_html(url2)\n",
        "  bs = get_div(html)\n",
        "  df = html_to_df(bs, df)\n",
        "\n",
        "df"
      ],
      "execution_count": 137,
      "outputs": [
        {
          "output_type": "error",
          "ename": "TypeError",
          "evalue": "ignored",
          "traceback": [
            "\u001b[0;31m---------------------------------------------------------------------------\u001b[0m",
            "\u001b[0;31mTypeError\u001b[0m                                 Traceback (most recent call last)",
            "\u001b[0;32m<ipython-input-137-ca7ed6d463a4>\u001b[0m in \u001b[0;36m<module>\u001b[0;34m()\u001b[0m\n\u001b[1;32m      4\u001b[0m \u001b[0;32mfor\u001b[0m \u001b[0ma\u001b[0m \u001b[0;32min\u001b[0m \u001b[0mrange\u001b[0m\u001b[0;34m(\u001b[0m\u001b[0;36m10\u001b[0m\u001b[0;34m)\u001b[0m\u001b[0;34m:\u001b[0m\u001b[0;34m\u001b[0m\u001b[0m\n\u001b[1;32m      5\u001b[0m   \u001b[0murl2\u001b[0m \u001b[0;34m=\u001b[0m \u001b[0murl\u001b[0m \u001b[0;34m+\u001b[0m \u001b[0mstr\u001b[0m\u001b[0;34m(\u001b[0m\u001b[0ma\u001b[0m\u001b[0;34m+\u001b[0m\u001b[0;36m1\u001b[0m\u001b[0;34m)\u001b[0m\u001b[0;34m\u001b[0m\u001b[0m\n\u001b[0;32m----> 6\u001b[0;31m   \u001b[0mhtml\u001b[0m \u001b[0;34m=\u001b[0m \u001b[0mget_html\u001b[0m\u001b[0;34m(\u001b[0m\u001b[0murl2\u001b[0m\u001b[0;34m)\u001b[0m\u001b[0;34m\u001b[0m\u001b[0m\n\u001b[0m\u001b[1;32m      7\u001b[0m   \u001b[0mbs\u001b[0m \u001b[0;34m=\u001b[0m \u001b[0mget_div\u001b[0m\u001b[0;34m(\u001b[0m\u001b[0mhtml\u001b[0m\u001b[0;34m)\u001b[0m\u001b[0;34m\u001b[0m\u001b[0m\n\u001b[1;32m      8\u001b[0m   \u001b[0mdf\u001b[0m \u001b[0;34m=\u001b[0m \u001b[0mhtml_to_df\u001b[0m\u001b[0;34m(\u001b[0m\u001b[0mbs\u001b[0m\u001b[0;34m,\u001b[0m \u001b[0mdf\u001b[0m\u001b[0;34m)\u001b[0m\u001b[0;34m\u001b[0m\u001b[0m\n",
            "\u001b[0;32m<ipython-input-131-b8fce1862832>\u001b[0m in \u001b[0;36mget_html\u001b[0;34m(url)\u001b[0m\n\u001b[1;32m      1\u001b[0m \u001b[0;32mdef\u001b[0m \u001b[0mget_html\u001b[0m\u001b[0;34m(\u001b[0m\u001b[0murl\u001b[0m\u001b[0;34m)\u001b[0m\u001b[0;34m:\u001b[0m\u001b[0;34m\u001b[0m\u001b[0m\n\u001b[0;32m----> 2\u001b[0;31m   \u001b[0;32mwith\u001b[0m \u001b[0mrequest\u001b[0m\u001b[0;34m.\u001b[0m\u001b[0murlopen\u001b[0m\u001b[0;34m(\u001b[0m\u001b[0murl\u001b[0m\u001b[0;34m)\u001b[0m \u001b[0;32mas\u001b[0m \u001b[0mf\u001b[0m\u001b[0;34m:\u001b[0m\u001b[0;34m\u001b[0m\u001b[0m\n\u001b[0m\u001b[1;32m      3\u001b[0m     \u001b[0mhtml\u001b[0m \u001b[0;34m=\u001b[0m \u001b[0mf\u001b[0m\u001b[0;34m.\u001b[0m\u001b[0mread\u001b[0m\u001b[0;34m(\u001b[0m\u001b[0;34m)\u001b[0m\u001b[0;34m.\u001b[0m\u001b[0mdecode\u001b[0m\u001b[0;34m(\u001b[0m\u001b[0;34m'utf-8'\u001b[0m\u001b[0;34m)\u001b[0m\u001b[0;34m\u001b[0m\u001b[0m\n\u001b[1;32m      4\u001b[0m \u001b[0;34m\u001b[0m\u001b[0m\n\u001b[1;32m      5\u001b[0m \u001b[0;34m\u001b[0m\u001b[0m\n",
            "\u001b[0;31mTypeError\u001b[0m: 'NoneType' object is not callable"
          ]
        }
      ]
    },
    {
      "metadata": {
        "id": "9a7biCtJVuQK",
        "colab_type": "text"
      },
      "cell_type": "markdown",
      "source": [
        "# 3. 임의의 청원 100개 가져오기\n",
        "2018년 7월 17일 현재 국민청원의 글 번호는 1번부터 238663번까지 부여되어 있습니다. 하지만 중간중간 삭제된 청원이 있어서 실제 청원 수는 238663개보다 적습니다. 309510번 청원글 본문의 URL은 https://www1.president.go.kr/petitions/309510 입니다. URL에서 글번호만 바꾸면 해당 청원의 본문으로 이동할 수 있습니다. 이러한 URL 패턴의 특성을 활용하여 전체 청원 중 임의로 100개 청원의 제목과 본문을 추출하여 DataFrame에 담아주세요."
      ]
    },
    {
      "metadata": {
        "id": "WAi6BmcvVzP3",
        "colab_type": "code",
        "colab": {
          "autoexec": {
            "startup": false,
            "wait_interval": 0
          },
          "base_uri": "https://localhost:8080/",
          "height": 366
        },
        "outputId": "6f91a434-4be1-4541-e118-e3e8be19e733",
        "executionInfo": {
          "status": "error",
          "timestamp": 1532358505349,
          "user_tz": -540,
          "elapsed": 677,
          "user": {
            "displayName": "jeeyun lee",
            "photoUrl": "https://lh3.googleusercontent.com/a/default-user=s128",
            "userId": "106132043570557958485"
          }
        }
      },
      "cell_type": "code",
      "source": [
        "from random import *\n",
        "url = \"https://www1.president.go.kr/petitions/\"\n",
        "for a in range(100):\n",
        "  rand = str(randint(1, 309510))\n",
        "  html = get_html(url + rand)\n",
        "  ## url이 잘못되어 가져오지 못할 경우 처리\n",
        "  bs = get_div(html)\n",
        "  df = html_to_df(bs, df)"
      ],
      "execution_count": 139,
      "outputs": [
        {
          "output_type": "error",
          "ename": "TypeError",
          "evalue": "ignored",
          "traceback": [
            "\u001b[0;31m---------------------------------------------------------------------------\u001b[0m",
            "\u001b[0;31mTypeError\u001b[0m                                 Traceback (most recent call last)",
            "\u001b[0;32m<ipython-input-139-55b0f843a44c>\u001b[0m in \u001b[0;36m<module>\u001b[0;34m()\u001b[0m\n\u001b[1;32m      3\u001b[0m \u001b[0;32mfor\u001b[0m \u001b[0ma\u001b[0m \u001b[0;32min\u001b[0m \u001b[0mrange\u001b[0m\u001b[0;34m(\u001b[0m\u001b[0;36m100\u001b[0m\u001b[0;34m)\u001b[0m\u001b[0;34m:\u001b[0m\u001b[0;34m\u001b[0m\u001b[0m\n\u001b[1;32m      4\u001b[0m   \u001b[0mrand\u001b[0m \u001b[0;34m=\u001b[0m \u001b[0mstr\u001b[0m\u001b[0;34m(\u001b[0m\u001b[0mrandint\u001b[0m\u001b[0;34m(\u001b[0m\u001b[0;36m1\u001b[0m\u001b[0;34m,\u001b[0m \u001b[0;36m309510\u001b[0m\u001b[0;34m)\u001b[0m\u001b[0;34m)\u001b[0m\u001b[0;34m\u001b[0m\u001b[0m\n\u001b[0;32m----> 5\u001b[0;31m   \u001b[0mhtml\u001b[0m \u001b[0;34m=\u001b[0m \u001b[0mget_html\u001b[0m\u001b[0;34m(\u001b[0m\u001b[0murl\u001b[0m \u001b[0;34m+\u001b[0m \u001b[0mrand\u001b[0m\u001b[0;34m)\u001b[0m\u001b[0;34m\u001b[0m\u001b[0m\n\u001b[0m\u001b[1;32m      6\u001b[0m   \u001b[0mbs\u001b[0m \u001b[0;34m=\u001b[0m \u001b[0mget_div\u001b[0m\u001b[0;34m(\u001b[0m\u001b[0mhtml\u001b[0m\u001b[0;34m)\u001b[0m\u001b[0;34m\u001b[0m\u001b[0m\n\u001b[1;32m      7\u001b[0m   \u001b[0mdf\u001b[0m \u001b[0;34m=\u001b[0m \u001b[0mhtml_to_df\u001b[0m\u001b[0;34m(\u001b[0m\u001b[0mbs\u001b[0m\u001b[0;34m,\u001b[0m \u001b[0mdf\u001b[0m\u001b[0;34m)\u001b[0m\u001b[0;34m\u001b[0m\u001b[0m\n",
            "\u001b[0;32m<ipython-input-131-b8fce1862832>\u001b[0m in \u001b[0;36mget_html\u001b[0;34m(url)\u001b[0m\n\u001b[1;32m      1\u001b[0m \u001b[0;32mdef\u001b[0m \u001b[0mget_html\u001b[0m\u001b[0;34m(\u001b[0m\u001b[0murl\u001b[0m\u001b[0;34m)\u001b[0m\u001b[0;34m:\u001b[0m\u001b[0;34m\u001b[0m\u001b[0m\n\u001b[0;32m----> 2\u001b[0;31m   \u001b[0;32mwith\u001b[0m \u001b[0mrequest\u001b[0m\u001b[0;34m.\u001b[0m\u001b[0murlopen\u001b[0m\u001b[0;34m(\u001b[0m\u001b[0murl\u001b[0m\u001b[0;34m)\u001b[0m \u001b[0;32mas\u001b[0m \u001b[0mf\u001b[0m\u001b[0;34m:\u001b[0m\u001b[0;34m\u001b[0m\u001b[0m\n\u001b[0m\u001b[1;32m      3\u001b[0m     \u001b[0mhtml\u001b[0m \u001b[0;34m=\u001b[0m \u001b[0mf\u001b[0m\u001b[0;34m.\u001b[0m\u001b[0mread\u001b[0m\u001b[0;34m(\u001b[0m\u001b[0;34m)\u001b[0m\u001b[0;34m.\u001b[0m\u001b[0mdecode\u001b[0m\u001b[0;34m(\u001b[0m\u001b[0;34m'utf-8'\u001b[0m\u001b[0;34m)\u001b[0m\u001b[0;34m\u001b[0m\u001b[0m\n\u001b[1;32m      4\u001b[0m \u001b[0;34m\u001b[0m\u001b[0m\n\u001b[1;32m      5\u001b[0m \u001b[0;34m\u001b[0m\u001b[0m\n",
            "\u001b[0;31mTypeError\u001b[0m: 'NoneType' object is not callable"
          ]
        }
      ]
    }
  ]
}