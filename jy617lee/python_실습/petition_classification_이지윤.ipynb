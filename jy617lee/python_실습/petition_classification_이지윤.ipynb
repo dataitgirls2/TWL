{
 "cells": [
  {
   "cell_type": "markdown",
   "metadata": {
    "colab_type": "text",
    "id": "DN8TDD_gt0yy"
   },
   "source": [
    "# 국민청원 데이터로 청원 카테고리 분류하기"
   ]
  },
  {
   "cell_type": "markdown",
   "metadata": {
    "colab_type": "text",
    "id": "e7MNAfcMt0y0"
   },
   "source": [
    "* 청원의 카테고리를 분류해 봅니다."
   ]
  },
  {
   "cell_type": "code",
   "execution_count": 145,
   "metadata": {
    "colab": {
     "autoexec": {
      "startup": false,
      "wait_interval": 0
     }
    },
    "colab_type": "code",
    "id": "PHdzuhsQt0y1",
    "outputId": "ad434aad-e1dd-45f1-af5c-98d544bd0d6b"
   },
   "outputs": [
    {
     "name": "stdout",
     "output_type": "stream",
     "text": [
      "0.23.0\n",
      "1.14.3\n"
     ]
    }
   ],
   "source": [
    "import pandas as pd\n",
    "import numpy as np\n",
    "import re\n",
    "print(pd.__version__)\n",
    "print(np.__version__)\n",
    "import matplotlib.pyplot as plt\n",
    "\n",
    "plt.rcParams['font.family'] = 'NanumGothic'"
   ]
  },
  {
   "cell_type": "markdown",
   "metadata": {
    "colab_type": "text",
    "id": "AIr149Cht0y6"
   },
   "source": [
    "# 데이터 로드하기"
   ]
  },
  {
   "cell_type": "code",
   "execution_count": 840,
   "metadata": {
    "colab": {
     "autoexec": {
      "startup": false,
      "wait_interval": 0
     }
    },
    "colab_type": "code",
    "id": "uJYNS_PJt0y6",
    "outputId": "c20af75c-be42-4257-877e-0fde02bda4bf"
   },
   "outputs": [
    {
     "data": {
      "text/plain": [
       "(223453, 8)"
      ]
     },
     "execution_count": 840,
     "metadata": {},
     "output_type": "execute_result"
    }
   ],
   "source": [
    "# 크롤링해 온 국민청원 데이터를 판다스를 통해 읽어옵니다.\n",
    "petitions = pd.read_csv('C:\\dateGirls\\TWL\\jy617lee\\petition.csv', parse_dates=['start', 'end'])\n",
    "# 데이터의 크기가 어느정도인지 봅니다.\n",
    "petitions.shape"
   ]
  },
  {
   "cell_type": "code",
   "execution_count": 841,
   "metadata": {
    "colab": {
     "autoexec": {
      "startup": false,
      "wait_interval": 0
     }
    },
    "colab_type": "code",
    "id": "ixDZW6f0t0y9",
    "outputId": "91592867-6623-4079-ad0a-f1c308c5568c"
   },
   "outputs": [
    {
     "data": {
      "text/html": [
       "<div>\n",
       "<style scoped>\n",
       "    .dataframe tbody tr th:only-of-type {\n",
       "        vertical-align: middle;\n",
       "    }\n",
       "\n",
       "    .dataframe tbody tr th {\n",
       "        vertical-align: top;\n",
       "    }\n",
       "\n",
       "    .dataframe thead th {\n",
       "        text-align: right;\n",
       "    }\n",
       "</style>\n",
       "<table border=\"1\" class=\"dataframe\">\n",
       "  <thead>\n",
       "    <tr style=\"text-align: right;\">\n",
       "      <th></th>\n",
       "      <th>article_id</th>\n",
       "      <th>answered</th>\n",
       "      <th>votes</th>\n",
       "    </tr>\n",
       "  </thead>\n",
       "  <tbody>\n",
       "    <tr>\n",
       "      <th>count</th>\n",
       "      <td>223453.000000</td>\n",
       "      <td>223453.000000</td>\n",
       "      <td>223453.000000</td>\n",
       "    </tr>\n",
       "    <tr>\n",
       "      <th>mean</th>\n",
       "      <td>135351.832493</td>\n",
       "      <td>0.000121</td>\n",
       "      <td>149.778132</td>\n",
       "    </tr>\n",
       "    <tr>\n",
       "      <th>std</th>\n",
       "      <td>84872.976221</td>\n",
       "      <td>0.010992</td>\n",
       "      <td>4626.610982</td>\n",
       "    </tr>\n",
       "    <tr>\n",
       "      <th>min</th>\n",
       "      <td>21.000000</td>\n",
       "      <td>0.000000</td>\n",
       "      <td>0.000000</td>\n",
       "    </tr>\n",
       "    <tr>\n",
       "      <th>25%</th>\n",
       "      <td>58270.000000</td>\n",
       "      <td>0.000000</td>\n",
       "      <td>1.000000</td>\n",
       "    </tr>\n",
       "    <tr>\n",
       "      <th>50%</th>\n",
       "      <td>134007.000000</td>\n",
       "      <td>0.000000</td>\n",
       "      <td>3.000000</td>\n",
       "    </tr>\n",
       "    <tr>\n",
       "      <th>75%</th>\n",
       "      <td>207608.000000</td>\n",
       "      <td>0.000000</td>\n",
       "      <td>11.000000</td>\n",
       "    </tr>\n",
       "    <tr>\n",
       "      <th>max</th>\n",
       "      <td>289322.000000</td>\n",
       "      <td>1.000000</td>\n",
       "      <td>714875.000000</td>\n",
       "    </tr>\n",
       "  </tbody>\n",
       "</table>\n",
       "</div>"
      ],
      "text/plain": [
       "          article_id       answered          votes\n",
       "count  223453.000000  223453.000000  223453.000000\n",
       "mean   135351.832493       0.000121     149.778132\n",
       "std     84872.976221       0.010992    4626.610982\n",
       "min        21.000000       0.000000       0.000000\n",
       "25%     58270.000000       0.000000       1.000000\n",
       "50%    134007.000000       0.000000       3.000000\n",
       "75%    207608.000000       0.000000      11.000000\n",
       "max    289322.000000       1.000000  714875.000000"
      ]
     },
     "execution_count": 841,
     "metadata": {},
     "output_type": "execute_result"
    }
   ],
   "source": [
    "petitions.describe()"
   ]
  },
  {
   "cell_type": "code",
   "execution_count": 842,
   "metadata": {
    "colab": {
     "autoexec": {
      "startup": false,
      "wait_interval": 0
     }
    },
    "colab_type": "code",
    "id": "Wd8-AqNut0zA",
    "outputId": "b3c519bf-2068-4f9f-8f85-e2425ab80ba3"
   },
   "outputs": [
    {
     "data": {
      "text/plain": [
       "(9875, 8)"
      ]
     },
     "execution_count": 842,
     "metadata": {},
     "output_type": "execute_result"
    }
   ],
   "source": [
    "# 전체 데이터 중 투표가 1000건 이상인 데이터를 기준으로 가져옵니다. 아웃라이어 데이터 제거를 위해 10만건 이상 데이터도 제거합니다.\n",
    "df = petitions.loc[(petitions['votes'] > 100) & (petitions['votes'] < 25000)].copy()\n",
    "df.shape"
   ]
  },
  {
   "cell_type": "code",
   "execution_count": 843,
   "metadata": {
    "colab": {
     "autoexec": {
      "startup": false,
      "wait_interval": 0
     }
    },
    "colab_type": "code",
    "id": "J3UylGHVt0zD",
    "outputId": "e94dcd34-e5a5-4b90-9bde-2ffbacb3c0e9"
   },
   "outputs": [
    {
     "data": {
      "text/html": [
       "<div>\n",
       "<style scoped>\n",
       "    .dataframe tbody tr th:only-of-type {\n",
       "        vertical-align: middle;\n",
       "    }\n",
       "\n",
       "    .dataframe tbody tr th {\n",
       "        vertical-align: top;\n",
       "    }\n",
       "\n",
       "    .dataframe thead th {\n",
       "        text-align: right;\n",
       "    }\n",
       "</style>\n",
       "<table border=\"1\" class=\"dataframe\">\n",
       "  <thead>\n",
       "    <tr style=\"text-align: right;\">\n",
       "      <th></th>\n",
       "      <th>article_id</th>\n",
       "      <th>answered</th>\n",
       "      <th>votes</th>\n",
       "    </tr>\n",
       "  </thead>\n",
       "  <tbody>\n",
       "    <tr>\n",
       "      <th>count</th>\n",
       "      <td>9875.000000</td>\n",
       "      <td>9875.0</td>\n",
       "      <td>9875.000000</td>\n",
       "    </tr>\n",
       "    <tr>\n",
       "      <th>mean</th>\n",
       "      <td>167582.850127</td>\n",
       "      <td>0.0</td>\n",
       "      <td>1039.937013</td>\n",
       "    </tr>\n",
       "    <tr>\n",
       "      <th>std</th>\n",
       "      <td>75423.060164</td>\n",
       "      <td>0.0</td>\n",
       "      <td>2624.420555</td>\n",
       "    </tr>\n",
       "    <tr>\n",
       "      <th>min</th>\n",
       "      <td>28.000000</td>\n",
       "      <td>0.0</td>\n",
       "      <td>101.000000</td>\n",
       "    </tr>\n",
       "    <tr>\n",
       "      <th>25%</th>\n",
       "      <td>115222.500000</td>\n",
       "      <td>0.0</td>\n",
       "      <td>146.000000</td>\n",
       "    </tr>\n",
       "    <tr>\n",
       "      <th>50%</th>\n",
       "      <td>180903.000000</td>\n",
       "      <td>0.0</td>\n",
       "      <td>242.000000</td>\n",
       "    </tr>\n",
       "    <tr>\n",
       "      <th>75%</th>\n",
       "      <td>222646.000000</td>\n",
       "      <td>0.0</td>\n",
       "      <td>620.500000</td>\n",
       "    </tr>\n",
       "    <tr>\n",
       "      <th>max</th>\n",
       "      <td>289310.000000</td>\n",
       "      <td>0.0</td>\n",
       "      <td>24979.000000</td>\n",
       "    </tr>\n",
       "  </tbody>\n",
       "</table>\n",
       "</div>"
      ],
      "text/plain": [
       "          article_id  answered         votes\n",
       "count    9875.000000    9875.0   9875.000000\n",
       "mean   167582.850127       0.0   1039.937013\n",
       "std     75423.060164       0.0   2624.420555\n",
       "min        28.000000       0.0    101.000000\n",
       "25%    115222.500000       0.0    146.000000\n",
       "50%    180903.000000       0.0    242.000000\n",
       "75%    222646.000000       0.0    620.500000\n",
       "max    289310.000000       0.0  24979.000000"
      ]
     },
     "execution_count": 843,
     "metadata": {},
     "output_type": "execute_result"
    }
   ],
   "source": [
    "df.describe()"
   ]
  },
  {
   "cell_type": "code",
   "execution_count": 844,
   "metadata": {
    "colab": {
     "autoexec": {
      "startup": false,
      "wait_interval": 0
     }
    },
    "colab_type": "code",
    "id": "JJYlPg80t0zG",
    "outputId": "16c6deea-32b6-46ae-e02c-248d489e916c"
   },
   "outputs": [
    {
     "data": {
      "text/plain": [
       "정치개혁           1500\n",
       "인권/성평등         1242\n",
       "기타              979\n",
       "육아/교육           805\n",
       "안전/환경           805\n",
       "문화/예술/체육/언론     723\n",
       "보건복지            710\n",
       "교통/건축/국토        640\n",
       "행정              510\n",
       "외교/통일/국방        478\n",
       "경제민주화           458\n",
       "일자리             366\n",
       "반려동물            236\n",
       "미래              205\n",
       "저출산/고령화대책       108\n",
       "성장동력             75\n",
       "농산어촌             35\n",
       "Name: category, dtype: int64"
      ]
     },
     "execution_count": 844,
     "metadata": {},
     "output_type": "execute_result"
    }
   ],
   "source": [
    "category_count = df['category'].value_counts()\n",
    "category_count"
   ]
  },
  {
   "cell_type": "code",
   "execution_count": 845,
   "metadata": {
    "colab": {
     "autoexec": {
      "startup": false,
      "wait_interval": 0
     }
    },
    "colab_type": "code",
    "id": "3MMJK1mkt0zJ",
    "outputId": "d1618e90-44b2-4f94-946a-0c5162d36b45"
   },
   "outputs": [
    {
     "data": {
      "text/plain": [
       "<matplotlib.axes._subplots.AxesSubplot at 0x907f8d33c8>"
      ]
     },
     "execution_count": 845,
     "metadata": {},
     "output_type": "execute_result"
    },
    {
     "data": {
      "image/png": "[encoded data removed]",
      "text/plain": [
       "<Figure size 432x288 with 1 Axes>"
      ]
     },
     "metadata": {},
     "output_type": "display_data"
    }
   ],
   "source": [
    "%matplotlib inline \n",
    "category_count.plot(kind='bar')"
   ]
  },
  {
   "cell_type": "code",
   "execution_count": 846,
   "metadata": {
    "colab": {
     "autoexec": {
      "startup": false,
      "wait_interval": 0
     }
    },
    "colab_type": "code",
    "id": "YkQ2_4c2t0zM"
   },
   "outputs": [],
   "source": [
    "# 예측값과 실제값 비교를 위해 컬럼을 하나 더 생성합니다.\n",
    "df['category_pred'] = df['category'].copy()"
   ]
  },
  {
   "cell_type": "code",
   "execution_count": 847,
   "metadata": {
    "colab": {
     "autoexec": {
      "startup": false,
      "wait_interval": 0
     }
    },
    "colab_type": "code",
    "id": "m8I3Xs5Bt0zP",
    "outputId": "e7a62291-78fe-4a39-dd7c-a770a68d16d5"
   },
   "outputs": [
    {
     "data": {
      "text/html": [
       "<div>\n",
       "<style scoped>\n",
       "    .dataframe tbody tr th:only-of-type {\n",
       "        vertical-align: middle;\n",
       "    }\n",
       "\n",
       "    .dataframe tbody tr th {\n",
       "        vertical-align: top;\n",
       "    }\n",
       "\n",
       "    .dataframe thead th {\n",
       "        text-align: right;\n",
       "    }\n",
       "</style>\n",
       "<table border=\"1\" class=\"dataframe\">\n",
       "  <thead>\n",
       "    <tr style=\"text-align: right;\">\n",
       "      <th></th>\n",
       "      <th>article_id</th>\n",
       "      <th>start</th>\n",
       "      <th>end</th>\n",
       "      <th>answered</th>\n",
       "      <th>votes</th>\n",
       "      <th>category</th>\n",
       "      <th>title</th>\n",
       "      <th>content</th>\n",
       "      <th>category_pred</th>\n",
       "    </tr>\n",
       "  </thead>\n",
       "  <tbody>\n",
       "    <tr>\n",
       "      <th>7</th>\n",
       "      <td>28</td>\n",
       "      <td>2017-08-19</td>\n",
       "      <td>2017-08-26</td>\n",
       "      <td>0</td>\n",
       "      <td>2137</td>\n",
       "      <td>경제민주화</td>\n",
       "      <td>소액주주를 보호해주십시오</td>\n",
       "      <td>**  존경하옵는 문재인대통령님께\\n저는 중국원양자원이라는 KOSPI상장사의 소액 ...</td>\n",
       "      <td>경제민주화</td>\n",
       "    </tr>\n",
       "  </tbody>\n",
       "</table>\n",
       "</div>"
      ],
      "text/plain": [
       "   article_id      start        end  answered  votes category          title  \\\n",
       "7          28 2017-08-19 2017-08-26         0   2137    경제민주화  소액주주를 보호해주십시오   \n",
       "\n",
       "                                             content category_pred  \n",
       "7  **  존경하옵는 문재인대통령님께\\n저는 중국원양자원이라는 KOSPI상장사의 소액 ...         경제민주화  "
      ]
     },
     "execution_count": 847,
     "metadata": {},
     "output_type": "execute_result"
    }
   ],
   "source": [
    "df.head(1)"
   ]
  },
  {
   "cell_type": "code",
   "execution_count": 848,
   "metadata": {
    "colab": {
     "autoexec": {
      "startup": false,
      "wait_interval": 0
     }
    },
    "colab_type": "code",
    "id": "oka02vApt0zT",
    "outputId": "330beda5-de00-4a81-b54b-ebf5f56e8be3"
   },
   "outputs": [
    {
     "data": {
      "text/plain": [
       "28"
      ]
     },
     "execution_count": 848,
     "metadata": {},
     "output_type": "execute_result"
    }
   ],
   "source": [
    "# 첫 번째 인덱스를 가져와 봅니다.\n",
    "sample_index = df.iloc[0][0]\n",
    "sample_index"
   ]
  },
  {
   "cell_type": "code",
   "execution_count": 849,
   "metadata": {
    "colab": {
     "autoexec": {
      "startup": false,
      "wait_interval": 0
     }
    },
    "colab_type": "code",
    "id": "dOOdl4Rft0zX",
    "outputId": "e0f7db69-1e94-4440-faf5-134b6e113bd6"
   },
   "outputs": [
    {
     "data": {
      "text/plain": [
       "'치과위생사 국가고시 날짜 변경 억울합니다'"
      ]
     },
     "execution_count": 849,
     "metadata": {},
     "output_type": "execute_result"
    }
   ],
   "source": [
    "sample_title = df['title'][sample_index]\n",
    "sample_title"
   ]
  },
  {
   "cell_type": "code",
   "execution_count": 850,
   "metadata": {
    "colab": {
     "autoexec": {
      "startup": false,
      "wait_interval": 0
     }
    },
    "colab_type": "code",
    "id": "T-GAIfxUt0za",
    "outputId": "32395cea-55fc-4d7b-99d2-2435f54bb112"
   },
   "outputs": [
    {
     "data": {
      "text/plain": [
       "'안녕하십니까? 대통령님 간단하게 제소개 부터 하겠습니다. 저는 치위생과 3학년 학생입니다. 다름이 아니라 너무 억울한\\\\n일이 생겨  이렇게 글을 적어봅니다. 저희 3학년들은 올해 아주 중요한 시험이  있었습니다.3년동안 힘들게 고생하여 이제곧\\\\n끝난다.조금만 힘을내자 라는 생각으로 견뎌내고 있었는데 갑자기 어제 과 단톡방의  이내용이 사실이냐면서 한장의 사진을\\\\n보내주었습니다. 그사진은 국시원에서 올린 공지글을 캡쳐한 사진이였습니다.국시원에서 국가고시 날짜가 변경 되었다.\\\\n그러니 이글을  널리퍼트려줘라라는 의미를 가진 내용이였습니다. 그내용을 읽고 너무 황당하고 어이가 없어서 국시원쪽으로 전화를 해보니 자신들은 어쩔수없었다 나라에서 그날 공무원 시험을 봐야한다 하루의 2번 국시를 볼수없다\\\\n그래서 자신들과 보건복지부에서  다시 날짜를 정했는데 그날이 내년 18년 1월 5일이다 라는것입니다.\\\\n그 말을  듣고 더욱 이해할수가 없었습니다. 먼저 그날 시험을 보기로한 국시생은 저희였는데 갑자기 아무런 말도 문자도\\\\n없고 그공지글도 그냥 통보였습니다. 국가에서보는 시험이 일반 초중고 수행평가도 아니고 갑자기 이런식으로  바뀐다는게\\\\n말이 됩니까? 고등학생들이 보는 모의고사,수능도 이런식으로  변경 하지않습니다.  통보로 날짜를 변경하는건  저희\\\\n에비 의료기사들을 무시하는걸로 보입니다. 저희학교 교수님들은 학생들에게 자부심을 가져라 치과위생사라는 직업을 아끼고 사랑하고 자부심을 가져도 되는 직업이니깐  당당 해져도 괜찮다고  말씀하셨습니다. 하지만 저는  그러지 못할꺼같습니다.  아마 저뿐만이아니라 마음 학생들도 자존심도 낮아지고 무시받는다고 생각했을것입니다.\\\\n17년 12월16일날의 시험을 봐야하는  국시생들은 저희 예비 치과위생사들 입니다. 공무원 시험이 갑자기 잡혀서  봐야한다면 다른날로 정하는게 맞지않을까요? 먼저 그날의 시험을 보기로 한 학생들은 저희입니다\\\\n왜 갑자기 저희가 양보해야하고  피해를봐야합니까?  저희국시 앞으로 4달남은상태였고 지금 많은 학생들이 지쳐지만\\\\n12월만 참으면 된다 라는 생각으로  견딘 학생들에게는 1월에 본다는 통보는 너무 가혹합니다.\\\\n제발  원래대로12월 16일날 국시를 볼수 있도록  도와주세요  제발 다시 정정 해주세요.\\\\n부탁드립니다.\\\\n꼭  끝까지  읽어보셨으면 좋겠습니다.'"
      ]
     },
     "execution_count": 850,
     "metadata": {},
     "output_type": "execute_result"
    }
   ],
   "source": [
    "sample_content = petitions['content'][sample_index]\n",
    "sample_content"
   ]
  },
  {
   "cell_type": "markdown",
   "metadata": {
    "colab_type": "text",
    "id": "z3HWXdrYt0zc"
   },
   "source": [
    "# 전처리 하기 "
   ]
  },
  {
   "cell_type": "code",
   "execution_count": 851,
   "metadata": {
    "colab": {
     "autoexec": {
      "startup": false,
      "wait_interval": 0
     }
    },
    "colab_type": "code",
    "id": "COgoYusHt0zd"
   },
   "outputs": [],
   "source": [
    "def preprocessing(text):\n",
    "    # 개행문자 제거\n",
    "    text= str(text)\n",
    "    text = re.sub('\\\\\\\\n', ' ', text)\n",
    "    # 특수문자 제거\n",
    "    # 특수문자나 이모티콘 등은 때로는 의미를 갖기도 하지만 여기에서는 제거했습니다.\n",
    "    # text = re.sub('[?.,;:|\\)*~`’!^\\-_+<>@\\#$%&-=#}※]', '', text)\n",
    "    # 한글, 영문, 숫자만 남기고 모두 제거하도록 합니다.\n",
    "    # text = re.sub('[^가-힣ㄱ-ㅎㅏ-ㅣa-zA-Z0-9]', ' ', text)\n",
    "    # 한글, 영문만 남기고 모두 제거하도록 합니다.\n",
    "    text = re.sub('[^가-힣ㄱ-ㅎㅏ-ㅣa-zA-Z]', ' ', text)\n",
    "    return text"
   ]
  },
  {
   "cell_type": "code",
   "execution_count": 852,
   "metadata": {
    "colab": {
     "autoexec": {
      "startup": false,
      "wait_interval": 0
     }
    },
    "colab_type": "code",
    "id": "Wdomu75mt0zg"
   },
   "outputs": [],
   "source": [
    "# 불용어 제거\n",
    "def remove_stopwords(text):\n",
    "    tokens = text.split(' ')\n",
    "    stops = ['수', '현', '있는', '있습니다', '그', '년도', '합니다', '하는', '및', '제', '할', '하고', '더', '대한', '한', '그리고', '월', '저는', '없는', '입니다', '등', '일', '많은', '이런', '것은', '왜','같은', '같습니다', '없습니다', '위해', '한다']\n",
    "    meaningful_words = [w for w in tokens if not w in stops]\n",
    "    return ' '.join(meaningful_words)"
   ]
  },
  {
   "cell_type": "code",
   "execution_count": 853,
   "metadata": {
    "colab": {
     "autoexec": {
      "startup": false,
      "wait_interval": 0
     }
    },
    "colab_type": "code",
    "id": "dzBqqRz7t0zh"
   },
   "outputs": [],
   "source": [
    "# 샘플데이터에 적용\n",
    "pre_sample_content = preprocessing(sample_content)"
   ]
  },
  {
   "cell_type": "code",
   "execution_count": 854,
   "metadata": {
    "colab": {
     "autoexec": {
      "startup": false,
      "wait_interval": 0
     }
    },
    "colab_type": "code",
    "id": "95yMeIm1t0zj"
   },
   "outputs": [],
   "source": [
    "pre_sample_content = remove_stopwords(pre_sample_content)"
   ]
  },
  {
   "cell_type": "code",
   "execution_count": 855,
   "metadata": {
    "colab": {
     "autoexec": {
      "startup": false,
      "wait_interval": 0
     }
    },
    "colab_type": "code",
    "id": "BJfd8GDSt0zl",
    "outputId": "25659408-480e-48ea-a3c1-db0c84d1d3eb"
   },
   "outputs": [
    {
     "data": {
      "text/plain": [
       "'안녕하십니까  대통령님 간단하게 제소개 부터 하겠습니다  저는 치위생과  학년 학생입니다  다름이 아니라 너무 억울한 일이 생겨  이렇게 글을 적어봅니다  저희  학년들은 올해 아주 중요한 시험이  있었습니다  년동안 힘들게 고생하여 이제곧 끝난다 조금만 힘을내자 라는 생각으로 견뎌내고 있었는데 갑자기 어제 과 단톡방의  이내용이 사실이냐면서 한장의 사진을 보내주었습니다  그사진은 국시원에서 올린 공지글을 캡쳐한 사진이였습니다 국시원에서 국가고시 날짜가 변경 되었다  그러니 이글을  널리퍼트려줘라라는 의미를 가진 내용이였습니다  그내용을 읽고 너무 황당하고 어이가 없어서 국시원쪽으로 전화를 해보니 자신들은 어쩔수없었다 나라에서 그날 공무원 시험을 봐야한다 하루의  번 국시를 볼수없다 그래서 자신들과 보건복지부에서  다시 날짜를 정했는데 그날이 내년   년  월  일이다 라는것입니다  그 말을  듣고 더욱 이해할수가 없었습니다  먼저 그날 시험을 보기로한 국시생은 저희였는데 갑자기 아무런 말도 문자도 없고 그공지글도 그냥 통보였습니다  국가에서보는 시험이 일반 초중고 수행평가도 아니고 갑자기 이런식으로  바뀐다는게 말이 됩니까  고등학생들이 보는 모의고사 수능도 이런식으로  변경 하지않습니다   통보로 날짜를 변경하는건  저희 에비 의료기사들을 무시하는걸로 보입니다  저희학교 교수님들은 학생들에게 자부심을 가져라 치과위생사라는 직업을 아끼고 사랑하고 자부심을 가져도 되는 직업이니깐  당당 해져도 괜찮다고  말씀하셨습니다  하지만 저는  그러지 못할꺼같습니다   아마 저뿐만이아니라 마음 학생들도 자존심도 낮아지고 무시받는다고 생각했을것입니다    년   월  일날의 시험을 봐야하는  국시생들은 저희 예비 치과위생사들 입니다  공무원 시험이 갑자기 잡혀서  봐야한다면 다른날로 정하는게 맞지않을까요  먼저 그날의 시험을 보기로 한 학생들은 저희입니다 왜 갑자기 저희가 양보해야하고  피해를봐야합니까   저희국시 앞으로  달남은상태였고 지금 많은 학생들이 지쳐지만   월만 참으면 된다 라는 생각으로  견딘 학생들에게는  월에 본다는 통보는 너무 가혹합니다  제발  원래대로  월   일날 국시를 볼수 있도록  도와주세요  제발 다시 정정 해주세요  부탁드립니다  꼭  끝까지  읽어보셨으면 좋겠습니다 '"
      ]
     },
     "execution_count": 855,
     "metadata": {},
     "output_type": "execute_result"
    }
   ],
   "source": [
    "pre_sample_content"
   ]
  },
  {
   "cell_type": "code",
   "execution_count": 856,
   "metadata": {
    "colab": {
     "autoexec": {
      "startup": false,
      "wait_interval": 0
     }
    },
    "colab_type": "code",
    "id": "7GZqVmQQt0zn",
    "outputId": "87e7136b-de39-4fdd-bb48-eed7364d64f8"
   },
   "outputs": [
    {
     "name": "stdout",
     "output_type": "stream",
     "text": [
      "Wall time: 1.27 s\n"
     ]
    }
   ],
   "source": [
    "%time df['content_preprocessing'] = df['content'].apply(preprocessing)"
   ]
  },
  {
   "cell_type": "code",
   "execution_count": 857,
   "metadata": {
    "colab": {
     "autoexec": {
      "startup": false,
      "wait_interval": 0
     }
    },
    "colab_type": "code",
    "id": "10tjDPZjt0zq",
    "outputId": "6415ddf0-2531-458c-f7aa-0f577e59d9e9"
   },
   "outputs": [
    {
     "name": "stdout",
     "output_type": "stream",
     "text": [
      "Wall time: 650 ms\n"
     ]
    }
   ],
   "source": [
    "%time df['content_preprocessing2'] = df['content_preprocessing'].apply(remove_stopwords)"
   ]
  },
  {
   "cell_type": "markdown",
   "metadata": {
    "colab_type": "text",
    "id": "TW7ezgBFt0zs"
   },
   "source": [
    "# 학습세트와 테스트세트 만들기\n",
    "* 학습세트와 테스트세트를 7:3의 비율로 나눠 줍니다."
   ]
  },
  {
   "cell_type": "code",
   "execution_count": 858,
   "metadata": {
    "colab": {
     "autoexec": {
      "startup": false,
      "wait_interval": 0
     }
    },
    "colab_type": "code",
    "id": "bwmGTRmrt0zt"
   },
   "outputs": [],
   "source": [
    "df = df.reindex()"
   ]
  },
  {
   "cell_type": "code",
   "execution_count": 859,
   "metadata": {
    "colab": {
     "autoexec": {
      "startup": false,
      "wait_interval": 0
     }
    },
    "colab_type": "code",
    "id": "to53_TKAt0zw",
    "outputId": "0e128c5f-4a04-4fb3-e5e4-3108cf960df3"
   },
   "outputs": [
    {
     "data": {
      "text/plain": [
       "(9875, 11)"
      ]
     },
     "execution_count": 859,
     "metadata": {},
     "output_type": "execute_result"
    }
   ],
   "source": [
    "df.shape"
   ]
  },
  {
   "cell_type": "code",
   "execution_count": 860,
   "metadata": {
    "colab": {
     "autoexec": {
      "startup": false,
      "wait_interval": 0
     }
    },
    "colab_type": "code",
    "id": "yIIr4nu_t0zy",
    "outputId": "a838288e-59fb-4ebd-885b-8b83ee56b0fc"
   },
   "outputs": [
    {
     "data": {
      "text/plain": [
       "6912"
      ]
     },
     "execution_count": 860,
     "metadata": {},
     "output_type": "execute_result"
    }
   ],
   "source": [
    "split_count = int(df.shape[0] * 0.7)\n",
    "split_count"
   ]
  },
  {
   "cell_type": "code",
   "execution_count": 861,
   "metadata": {},
   "outputs": [],
   "source": [
    "# # 카테고리별로 7:3으로 나누기!\n",
    "\n",
    "# df_train = pd.DataFrame()\n",
    "# df_test = pd.DataFrame()\n",
    "# # 1. 카테고리별로 테이블을 나눈다\n",
    "# df_economy = df[df['category_pred']=='경제민주화']\n",
    "# df_child = df[df['category_pred']=='육아/교육']\n",
    "# df_job = df[df['category_pred']=='일자리']\n",
    "# df_welfare = df[df['category_pred']=='보건복지']\n",
    "# df_official = df[df['category_pred']=='행정']\n",
    "# df_traffic = df[df['category_pred']=='교통/건축/국토']\n",
    "# df_etc = df[df['category_pred']=='기타']\n",
    "# df_art = df[df['category_pred']=='문화/예술/체육/언론']\n",
    "# df_politics = df[df['category_pred']=='정치개혁']\n",
    "# # df_equal = df[df['category_pred']=='인권/성평등']\n",
    "# df_safe = df[df['category_pred']=='안전/환경']\n",
    "# df_army = df[df['category_pred']=='외교/통일/국방']\n",
    "# df_grow = df[df['category_pred']=='성장동력']\n",
    "# df_future = df[df['category_pred']=='미래']\n",
    "# df_dog = df[df['category_pred']=='반려동물']\n",
    "# df_farm = df[df['category_pred']=='농산어촌']\n",
    "\n",
    "# df_arr = [\n",
    "#     df_economy, df_child, df_job, df_welfare, df_official, df_official, df_traffic,\n",
    "#     df_etc, df_art, df_politics, df_equal, df_safe, df_army, df_grow,\n",
    "#     df_future, df_dog, df_farm\n",
    "# ]\n",
    "\n",
    "# for one_df in df_arr :\n",
    "#     split_count = int(one_df.shape[0] * 0.7)\n",
    "#     train = one_df[:split_count].copy()\n",
    "#     test = one_df[split_count:].copy()\n",
    "#     df_train = df_train.append(train)\n",
    "#     df_test = df_test.append(test)\n",
    "# print(df_train.shape)\n",
    "# print(df_test.shape)\n",
    "df = df[df['category_pred']!='기타']"
   ]
  },
  {
   "cell_type": "code",
   "execution_count": 862,
   "metadata": {
    "colab": {
     "autoexec": {
      "startup": false,
      "wait_interval": 0
     }
    },
    "colab_type": "code",
    "id": "C53UGWANt0z0",
    "outputId": "d0073ed6-1dea-4bdd-8465-573fe4b2dd47"
   },
   "outputs": [
    {
     "data": {
      "text/plain": [
       "(6912, 11)"
      ]
     },
     "execution_count": 862,
     "metadata": {},
     "output_type": "execute_result"
    }
   ],
   "source": [
    "df_train = df[:split_count].copy()\n",
    "df_train.shape"
   ]
  },
  {
   "cell_type": "code",
   "execution_count": 863,
   "metadata": {
    "colab": {
     "autoexec": {
      "startup": false,
      "wait_interval": 0
     }
    },
    "colab_type": "code",
    "id": "6964i_D_t0z5",
    "outputId": "1e2eb622-3d32-412a-da04-8a3477d937ad"
   },
   "outputs": [
    {
     "data": {
      "text/html": [
       "<div>\n",
       "<style scoped>\n",
       "    .dataframe tbody tr th:only-of-type {\n",
       "        vertical-align: middle;\n",
       "    }\n",
       "\n",
       "    .dataframe tbody tr th {\n",
       "        vertical-align: top;\n",
       "    }\n",
       "\n",
       "    .dataframe thead th {\n",
       "        text-align: right;\n",
       "    }\n",
       "</style>\n",
       "<table border=\"1\" class=\"dataframe\">\n",
       "  <thead>\n",
       "    <tr style=\"text-align: right;\">\n",
       "      <th></th>\n",
       "      <th>article_id</th>\n",
       "      <th>start</th>\n",
       "      <th>end</th>\n",
       "      <th>answered</th>\n",
       "      <th>votes</th>\n",
       "      <th>category</th>\n",
       "      <th>title</th>\n",
       "      <th>content</th>\n",
       "      <th>category_pred</th>\n",
       "      <th>content_preprocessing</th>\n",
       "      <th>content_preprocessing2</th>\n",
       "    </tr>\n",
       "  </thead>\n",
       "  <tbody>\n",
       "    <tr>\n",
       "      <th>7</th>\n",
       "      <td>28</td>\n",
       "      <td>2017-08-19</td>\n",
       "      <td>2017-08-26</td>\n",
       "      <td>0</td>\n",
       "      <td>2137</td>\n",
       "      <td>경제민주화</td>\n",
       "      <td>소액주주를 보호해주십시오</td>\n",
       "      <td>**  존경하옵는 문재인대통령님께\\n저는 중국원양자원이라는 KOSPI상장사의 소액 ...</td>\n",
       "      <td>경제민주화</td>\n",
       "      <td>존경하옵는 문재인대통령님께 저는 중국원양자원이라는 KOSPI상장사의 소액 주...</td>\n",
       "      <td>존경하옵는 문재인대통령님께 저는 중국원양자원이라는 KOSPI상장사의 소액 주...</td>\n",
       "    </tr>\n",
       "  </tbody>\n",
       "</table>\n",
       "</div>"
      ],
      "text/plain": [
       "   article_id      start        end  answered  votes category          title  \\\n",
       "7          28 2017-08-19 2017-08-26         0   2137    경제민주화  소액주주를 보호해주십시오   \n",
       "\n",
       "                                             content category_pred  \\\n",
       "7  **  존경하옵는 문재인대통령님께\\n저는 중국원양자원이라는 KOSPI상장사의 소액 ...         경제민주화   \n",
       "\n",
       "                               content_preprocessing  \\\n",
       "7      존경하옵는 문재인대통령님께 저는 중국원양자원이라는 KOSPI상장사의 소액 주...   \n",
       "\n",
       "                              content_preprocessing2  \n",
       "7      존경하옵는 문재인대통령님께 저는 중국원양자원이라는 KOSPI상장사의 소액 주...  "
      ]
     },
     "execution_count": 863,
     "metadata": {},
     "output_type": "execute_result"
    }
   ],
   "source": [
    "df_train.head(1)"
   ]
  },
  {
   "cell_type": "code",
   "execution_count": 864,
   "metadata": {
    "colab": {
     "autoexec": {
      "startup": false,
      "wait_interval": 0
     }
    },
    "colab_type": "code",
    "id": "Z_yGqh8gt0z9",
    "outputId": "7fffc6bb-9024-4c50-fc8f-0ca799a27666"
   },
   "outputs": [
    {
     "data": {
      "text/plain": [
       "(1984, 11)"
      ]
     },
     "execution_count": 864,
     "metadata": {},
     "output_type": "execute_result"
    }
   ],
   "source": [
    "df_test = df[split_count:].copy()\n",
    "df_test.shape"
   ]
  },
  {
   "cell_type": "code",
   "execution_count": 865,
   "metadata": {
    "colab": {
     "autoexec": {
      "startup": false,
      "wait_interval": 0
     }
    },
    "colab_type": "code",
    "id": "ALV6WLqIt00B",
    "outputId": "70b54388-275e-4982-e083-152c5ca31981"
   },
   "outputs": [
    {
     "data": {
      "text/html": [
       "<div>\n",
       "<style scoped>\n",
       "    .dataframe tbody tr th:only-of-type {\n",
       "        vertical-align: middle;\n",
       "    }\n",
       "\n",
       "    .dataframe tbody tr th {\n",
       "        vertical-align: top;\n",
       "    }\n",
       "\n",
       "    .dataframe thead th {\n",
       "        text-align: right;\n",
       "    }\n",
       "</style>\n",
       "<table border=\"1\" class=\"dataframe\">\n",
       "  <thead>\n",
       "    <tr style=\"text-align: right;\">\n",
       "      <th></th>\n",
       "      <th>article_id</th>\n",
       "      <th>start</th>\n",
       "      <th>end</th>\n",
       "      <th>answered</th>\n",
       "      <th>votes</th>\n",
       "      <th>category</th>\n",
       "      <th>title</th>\n",
       "      <th>content</th>\n",
       "      <th>category_pred</th>\n",
       "      <th>content_preprocessing</th>\n",
       "      <th>content_preprocessing2</th>\n",
       "    </tr>\n",
       "  </thead>\n",
       "  <tbody>\n",
       "    <tr>\n",
       "      <th>183203</th>\n",
       "      <td>229756</td>\n",
       "      <td>2018-05-10</td>\n",
       "      <td>2018-06-09</td>\n",
       "      <td>0</td>\n",
       "      <td>572</td>\n",
       "      <td>안전/환경</td>\n",
       "      <td>대도심 지하터널(도로/철도)의 화려함과 그늘</td>\n",
       "      <td>전국적으로 대도심의 지하 40~100미터 지하도로와 광역철도를 공사 진행 및 공사계...</td>\n",
       "      <td>안전/환경</td>\n",
       "      <td>전국적으로 대도심의 지하       미터 지하도로와 광역철도를 공사 진행 및 공사계...</td>\n",
       "      <td>전국적으로 대도심의 지하       미터 지하도로와 광역철도를 공사 진행 및 공사계...</td>\n",
       "    </tr>\n",
       "  </tbody>\n",
       "</table>\n",
       "</div>"
      ],
      "text/plain": [
       "        article_id      start        end  answered  votes category  \\\n",
       "183203      229756 2018-05-10 2018-06-09         0    572    안전/환경   \n",
       "\n",
       "                           title  \\\n",
       "183203  대도심 지하터널(도로/철도)의 화려함과 그늘   \n",
       "\n",
       "                                                  content category_pred  \\\n",
       "183203  전국적으로 대도심의 지하 40~100미터 지하도로와 광역철도를 공사 진행 및 공사계...         안전/환경   \n",
       "\n",
       "                                    content_preprocessing  \\\n",
       "183203  전국적으로 대도심의 지하       미터 지하도로와 광역철도를 공사 진행 및 공사계...   \n",
       "\n",
       "                                   content_preprocessing2  \n",
       "183203  전국적으로 대도심의 지하       미터 지하도로와 광역철도를 공사 진행 및 공사계...  "
      ]
     },
     "execution_count": 865,
     "metadata": {},
     "output_type": "execute_result"
    }
   ],
   "source": [
    "df_test.head(1)"
   ]
  },
  {
   "cell_type": "markdown",
   "metadata": {
    "colab_type": "text",
    "id": "iXQ4-fp8t00F"
   },
   "source": [
    "## 카테고리 "
   ]
  },
  {
   "cell_type": "code",
   "execution_count": 866,
   "metadata": {
    "colab": {
     "autoexec": {
      "startup": false,
      "wait_interval": 0
     }
    },
    "colab_type": "code",
    "id": "l17Ky-xOt00F",
    "outputId": "be5ec486-f0ff-4b67-927b-f2ded3ff79a7"
   },
   "outputs": [
    {
     "data": {
      "text/html": [
       "<div>\n",
       "<style scoped>\n",
       "    .dataframe tbody tr th:only-of-type {\n",
       "        vertical-align: middle;\n",
       "    }\n",
       "\n",
       "    .dataframe tbody tr th {\n",
       "        vertical-align: top;\n",
       "    }\n",
       "\n",
       "    .dataframe thead th {\n",
       "        text-align: right;\n",
       "    }\n",
       "</style>\n",
       "<table border=\"1\" class=\"dataframe\">\n",
       "  <thead>\n",
       "    <tr style=\"text-align: right;\">\n",
       "      <th></th>\n",
       "      <th>category_x</th>\n",
       "      <th>category_y</th>\n",
       "    </tr>\n",
       "  </thead>\n",
       "  <tbody>\n",
       "    <tr>\n",
       "      <th>정치개혁</th>\n",
       "      <td>1071</td>\n",
       "      <td>0.154948</td>\n",
       "    </tr>\n",
       "    <tr>\n",
       "      <th>인권/성평등</th>\n",
       "      <td>955</td>\n",
       "      <td>0.138166</td>\n",
       "    </tr>\n",
       "    <tr>\n",
       "      <th>육아/교육</th>\n",
       "      <td>647</td>\n",
       "      <td>0.093605</td>\n",
       "    </tr>\n",
       "    <tr>\n",
       "      <th>문화/예술/체육/언론</th>\n",
       "      <td>629</td>\n",
       "      <td>0.091001</td>\n",
       "    </tr>\n",
       "    <tr>\n",
       "      <th>안전/환경</th>\n",
       "      <td>599</td>\n",
       "      <td>0.086661</td>\n",
       "    </tr>\n",
       "    <tr>\n",
       "      <th>보건복지</th>\n",
       "      <td>586</td>\n",
       "      <td>0.084780</td>\n",
       "    </tr>\n",
       "    <tr>\n",
       "      <th>교통/건축/국토</th>\n",
       "      <td>528</td>\n",
       "      <td>0.076389</td>\n",
       "    </tr>\n",
       "    <tr>\n",
       "      <th>행정</th>\n",
       "      <td>402</td>\n",
       "      <td>0.058160</td>\n",
       "    </tr>\n",
       "    <tr>\n",
       "      <th>경제민주화</th>\n",
       "      <td>386</td>\n",
       "      <td>0.055845</td>\n",
       "    </tr>\n",
       "    <tr>\n",
       "      <th>외교/통일/국방</th>\n",
       "      <td>322</td>\n",
       "      <td>0.046586</td>\n",
       "    </tr>\n",
       "    <tr>\n",
       "      <th>일자리</th>\n",
       "      <td>299</td>\n",
       "      <td>0.043258</td>\n",
       "    </tr>\n",
       "    <tr>\n",
       "      <th>반려동물</th>\n",
       "      <td>156</td>\n",
       "      <td>0.022569</td>\n",
       "    </tr>\n",
       "    <tr>\n",
       "      <th>미래</th>\n",
       "      <td>146</td>\n",
       "      <td>0.021123</td>\n",
       "    </tr>\n",
       "    <tr>\n",
       "      <th>저출산/고령화대책</th>\n",
       "      <td>98</td>\n",
       "      <td>0.014178</td>\n",
       "    </tr>\n",
       "    <tr>\n",
       "      <th>성장동력</th>\n",
       "      <td>57</td>\n",
       "      <td>0.008247</td>\n",
       "    </tr>\n",
       "    <tr>\n",
       "      <th>농산어촌</th>\n",
       "      <td>31</td>\n",
       "      <td>0.004485</td>\n",
       "    </tr>\n",
       "  </tbody>\n",
       "</table>\n",
       "</div>"
      ],
      "text/plain": [
       "             category_x  category_y\n",
       "정치개혁               1071    0.154948\n",
       "인권/성평등              955    0.138166\n",
       "육아/교육               647    0.093605\n",
       "문화/예술/체육/언론         629    0.091001\n",
       "안전/환경               599    0.086661\n",
       "보건복지                586    0.084780\n",
       "교통/건축/국토            528    0.076389\n",
       "행정                  402    0.058160\n",
       "경제민주화               386    0.055845\n",
       "외교/통일/국방            322    0.046586\n",
       "일자리                 299    0.043258\n",
       "반려동물                156    0.022569\n",
       "미래                  146    0.021123\n",
       "저출산/고령화대책            98    0.014178\n",
       "성장동력                 57    0.008247\n",
       "농산어촌                 31    0.004485"
      ]
     },
     "execution_count": 866,
     "metadata": {},
     "output_type": "execute_result"
    }
   ],
   "source": [
    "df_train_category_value = pd.DataFrame(df_train['category'].value_counts())\n",
    "df_train_category_percent = pd.DataFrame(df_train['category'].value_counts(normalize=True))\n",
    "df_train_category_value.merge(df_train_category_percent, left_index=True, right_index=True)"
   ]
  },
  {
   "cell_type": "code",
   "execution_count": 867,
   "metadata": {
    "colab": {
     "autoexec": {
      "startup": false,
      "wait_interval": 0
     }
    },
    "colab_type": "code",
    "id": "Ejqr2j0Rt00I",
    "outputId": "8e471a97-0888-4d84-ae54-6ce5e962a0bc"
   },
   "outputs": [
    {
     "data": {
      "text/html": [
       "<div>\n",
       "<style scoped>\n",
       "    .dataframe tbody tr th:only-of-type {\n",
       "        vertical-align: middle;\n",
       "    }\n",
       "\n",
       "    .dataframe tbody tr th {\n",
       "        vertical-align: top;\n",
       "    }\n",
       "\n",
       "    .dataframe thead th {\n",
       "        text-align: right;\n",
       "    }\n",
       "</style>\n",
       "<table border=\"1\" class=\"dataframe\">\n",
       "  <thead>\n",
       "    <tr style=\"text-align: right;\">\n",
       "      <th></th>\n",
       "      <th>category_x</th>\n",
       "      <th>category_y</th>\n",
       "    </tr>\n",
       "  </thead>\n",
       "  <tbody>\n",
       "    <tr>\n",
       "      <th>정치개혁</th>\n",
       "      <td>429</td>\n",
       "      <td>0.216230</td>\n",
       "    </tr>\n",
       "    <tr>\n",
       "      <th>인권/성평등</th>\n",
       "      <td>287</td>\n",
       "      <td>0.144657</td>\n",
       "    </tr>\n",
       "    <tr>\n",
       "      <th>안전/환경</th>\n",
       "      <td>206</td>\n",
       "      <td>0.103831</td>\n",
       "    </tr>\n",
       "    <tr>\n",
       "      <th>육아/교육</th>\n",
       "      <td>158</td>\n",
       "      <td>0.079637</td>\n",
       "    </tr>\n",
       "    <tr>\n",
       "      <th>외교/통일/국방</th>\n",
       "      <td>156</td>\n",
       "      <td>0.078629</td>\n",
       "    </tr>\n",
       "    <tr>\n",
       "      <th>보건복지</th>\n",
       "      <td>124</td>\n",
       "      <td>0.062500</td>\n",
       "    </tr>\n",
       "    <tr>\n",
       "      <th>교통/건축/국토</th>\n",
       "      <td>112</td>\n",
       "      <td>0.056452</td>\n",
       "    </tr>\n",
       "    <tr>\n",
       "      <th>행정</th>\n",
       "      <td>108</td>\n",
       "      <td>0.054435</td>\n",
       "    </tr>\n",
       "    <tr>\n",
       "      <th>문화/예술/체육/언론</th>\n",
       "      <td>94</td>\n",
       "      <td>0.047379</td>\n",
       "    </tr>\n",
       "    <tr>\n",
       "      <th>반려동물</th>\n",
       "      <td>80</td>\n",
       "      <td>0.040323</td>\n",
       "    </tr>\n",
       "    <tr>\n",
       "      <th>경제민주화</th>\n",
       "      <td>72</td>\n",
       "      <td>0.036290</td>\n",
       "    </tr>\n",
       "    <tr>\n",
       "      <th>일자리</th>\n",
       "      <td>67</td>\n",
       "      <td>0.033770</td>\n",
       "    </tr>\n",
       "    <tr>\n",
       "      <th>미래</th>\n",
       "      <td>59</td>\n",
       "      <td>0.029738</td>\n",
       "    </tr>\n",
       "    <tr>\n",
       "      <th>성장동력</th>\n",
       "      <td>18</td>\n",
       "      <td>0.009073</td>\n",
       "    </tr>\n",
       "    <tr>\n",
       "      <th>저출산/고령화대책</th>\n",
       "      <td>10</td>\n",
       "      <td>0.005040</td>\n",
       "    </tr>\n",
       "    <tr>\n",
       "      <th>농산어촌</th>\n",
       "      <td>4</td>\n",
       "      <td>0.002016</td>\n",
       "    </tr>\n",
       "  </tbody>\n",
       "</table>\n",
       "</div>"
      ],
      "text/plain": [
       "             category_x  category_y\n",
       "정치개혁                429    0.216230\n",
       "인권/성평등              287    0.144657\n",
       "안전/환경               206    0.103831\n",
       "육아/교육               158    0.079637\n",
       "외교/통일/국방            156    0.078629\n",
       "보건복지                124    0.062500\n",
       "교통/건축/국토            112    0.056452\n",
       "행정                  108    0.054435\n",
       "문화/예술/체육/언론          94    0.047379\n",
       "반려동물                 80    0.040323\n",
       "경제민주화                72    0.036290\n",
       "일자리                  67    0.033770\n",
       "미래                   59    0.029738\n",
       "성장동력                 18    0.009073\n",
       "저출산/고령화대책            10    0.005040\n",
       "농산어촌                  4    0.002016"
      ]
     },
     "execution_count": 867,
     "metadata": {},
     "output_type": "execute_result"
    }
   ],
   "source": [
    "df_test_category_value = pd.DataFrame(df_test['category'].value_counts())\n",
    "df_test_category_percent = pd.DataFrame(df_test['category'].value_counts(normalize=True))\n",
    "df_test_category_value.merge(df_test_category_percent, left_index=True, right_index=True)"
   ]
  },
  {
   "cell_type": "code",
   "execution_count": 868,
   "metadata": {
    "colab": {
     "autoexec": {
      "startup": false,
      "wait_interval": 0
     }
    },
    "colab_type": "code",
    "id": "-z-keU8zt00K",
    "outputId": "34a20713-3e95-4e85-c9a6-f04f38636f01"
   },
   "outputs": [
    {
     "data": {
      "text/plain": [
       "<matplotlib.axes._subplots.AxesSubplot at 0x909590b550>"
      ]
     },
     "execution_count": 868,
     "metadata": {},
     "output_type": "execute_result"
    },
    {
     "data": {
      "image/png": "[encoded data removed]",
      "text/plain": [
       "<Figure size 432x288 with 1 Axes>"
      ]
     },
     "metadata": {},
     "output_type": "display_data"
    },
    {
     "data": {
      "image/png": "[encoded data removed]",
      "text/plain": [
       "<Figure size 432x288 with 1 Axes>"
      ]
     },
     "metadata": {},
     "output_type": "display_data"
    }
   ],
   "source": [
    "df_train_category_value.plot(kind='bar')\n",
    "df_test_category_value.plot(kind='bar')"
   ]
  },
  {
   "cell_type": "markdown",
   "metadata": {
    "colab_type": "text",
    "id": "lXbYgIwzt00M"
   },
   "source": [
    "# 단어 벡터화 하기"
   ]
  },
  {
   "cell_type": "code",
   "execution_count": 869,
   "metadata": {
    "colab": {
     "autoexec": {
      "startup": false,
      "wait_interval": 0
     }
    },
    "colab_type": "code",
    "id": "A8wDI1vht00M",
    "outputId": "6a185e08-fa3d-4beb-b732-dd46544a539d"
   },
   "outputs": [
    {
     "data": {
      "text/plain": [
       "CountVectorizer(analyzer='word', binary=False, decode_error='strict',\n",
       "        dtype=<class 'numpy.int64'>, encoding='utf-8', input='content',\n",
       "        lowercase=True, max_df=1.0, max_features=10000, min_df=2,\n",
       "        ngram_range=(1, 3), preprocessor=None, stop_words=None,\n",
       "        strip_accents=None, token_pattern='(?u)\\\\b\\\\w\\\\w+\\\\b',\n",
       "        tokenizer=None, vocabulary=None)"
      ]
     },
     "execution_count": 869,
     "metadata": {},
     "output_type": "execute_result"
    }
   ],
   "source": [
    "from sklearn.feature_extraction.text import CountVectorizer\n",
    "\n",
    "vectorizer = CountVectorizer(analyzer = 'word', # 캐릭터 단위로 벡터화 할 수도 있습니다.\n",
    "                             tokenizer = None, # 토크나이저를 따로 지정해 줄 수도 있습니다.\n",
    "                             preprocessor = None, # 전처리 도구\n",
    "                             stop_words = None, # 불용어 nltk등의 도구를 사용할 수도 있습니다.\n",
    "                             min_df = 2, # 토큰이 나타날 최소 문서 개수로 오타나 자주 나오지 않는 특수한 전문용어 제거에 좋다. \n",
    "                             ngram_range=(1, 3), # BOW의 단위를 1~3개로 지정합니다.\n",
    "                             max_features = 10000 # 만들 피처의 수, 단어의 수가 된다.\n",
    "                            )\n",
    "vectorizer"
   ]
  },
  {
   "cell_type": "code",
   "execution_count": 870,
   "metadata": {
    "colab": {
     "autoexec": {
      "startup": false,
      "wait_interval": 0
     }
    },
    "colab_type": "code",
    "id": "DbyBKIFEt00P",
    "outputId": "3115793c-ceb2-4a2b-da72-ae997ca36e35"
   },
   "outputs": [
    {
     "name": "stdout",
     "output_type": "stream",
     "text": [
      "Wall time: 20.8 s\n"
     ]
    }
   ],
   "source": [
    "%%time \n",
    "train_feature_vector = vectorizer.fit_transform(df_train['content_preprocessing2'])\n",
    "train_feature_vector.shape"
   ]
  },
  {
   "cell_type": "code",
   "execution_count": 871,
   "metadata": {
    "colab": {
     "autoexec": {
      "startup": false,
      "wait_interval": 0
     }
    },
    "colab_type": "code",
    "id": "XqPkzrgWt00R",
    "outputId": "ab05dbce-b9f0-46ec-ce67-23edfa09ce2d"
   },
   "outputs": [
    {
     "name": "stdout",
     "output_type": "stream",
     "text": [
      "Wall time: 5.84 s\n"
     ]
    }
   ],
   "source": [
    "%%time \n",
    "test_feature_vector = vectorizer.fit_transform(df_test['content_preprocessing2'])\n",
    "test_feature_vector.shape"
   ]
  },
  {
   "cell_type": "code",
   "execution_count": 872,
   "metadata": {
    "colab": {
     "autoexec": {
      "startup": false,
      "wait_interval": 0
     }
    },
    "colab_type": "code",
    "id": "Sgdf7tQnt00U",
    "outputId": "e104b668-a6cc-4b91-c840-2eb99a6fd658"
   },
   "outputs": [
    {
     "name": "stdout",
     "output_type": "stream",
     "text": [
      "10000\n"
     ]
    },
    {
     "data": {
      "text/plain": [
       "['aid',\n",
       " 'akr',\n",
       " 'akr html',\n",
       " 'anewsa',\n",
       " 'anewsa com',\n",
       " 'anewsa com detail',\n",
       " 'article',\n",
       " 'article html',\n",
       " 'articles',\n",
       " 'articleview']"
      ]
     },
     "execution_count": 872,
     "metadata": {},
     "output_type": "execute_result"
    }
   ],
   "source": [
    "vocab = vectorizer.get_feature_names()\n",
    "print(len(vocab))\n",
    "vocab[:10]"
   ]
  },
  {
   "cell_type": "code",
   "execution_count": 873,
   "metadata": {
    "colab": {
     "autoexec": {
      "startup": false,
      "wait_interval": 0
     }
    },
    "colab_type": "code",
    "id": "zoMQQvcft00Y",
    "outputId": "b3b1e875-9c97-4f3c-927d-c642ceb229ba"
   },
   "outputs": [
    {
     "data": {
      "text/plain": [
       "TfidfTransformer(norm='l2', smooth_idf=False, sublinear_tf=False,\n",
       "         use_idf=True)"
      ]
     },
     "execution_count": 873,
     "metadata": {},
     "output_type": "execute_result"
    }
   ],
   "source": [
    "from sklearn.feature_extraction.text import TfidfTransformer\n",
    "transformer = TfidfTransformer(smooth_idf=False)\n",
    "transformer"
   ]
  },
  {
   "cell_type": "code",
   "execution_count": 874,
   "metadata": {
    "colab": {
     "autoexec": {
      "startup": false,
      "wait_interval": 0
     }
    },
    "colab_type": "code",
    "id": "FnQYvfWAt00W",
    "outputId": "4a6bdd4a-9d04-47f2-fb2f-c411a1216938"
   },
   "outputs": [
    {
     "data": {
      "text/html": [
       "<div>\n",
       "<style scoped>\n",
       "    .dataframe tbody tr th:only-of-type {\n",
       "        vertical-align: middle;\n",
       "    }\n",
       "\n",
       "    .dataframe tbody tr th {\n",
       "        vertical-align: top;\n",
       "    }\n",
       "\n",
       "    .dataframe thead th {\n",
       "        text-align: right;\n",
       "    }\n",
       "</style>\n",
       "<table border=\"1\" class=\"dataframe\">\n",
       "  <thead>\n",
       "    <tr style=\"text-align: right;\">\n",
       "      <th></th>\n",
       "      <th>aid</th>\n",
       "      <th>akr</th>\n",
       "      <th>akr html</th>\n",
       "      <th>anewsa</th>\n",
       "      <th>anewsa com</th>\n",
       "      <th>anewsa com detail</th>\n",
       "      <th>article</th>\n",
       "      <th>article html</th>\n",
       "      <th>articles</th>\n",
       "      <th>articleview</th>\n",
       "      <th>...</th>\n",
       "      <th>힘들지만</th>\n",
       "      <th>힘듭니다</th>\n",
       "      <th>힘쓰고</th>\n",
       "      <th>힘없고</th>\n",
       "      <th>힘없는</th>\n",
       "      <th>힘으로</th>\n",
       "      <th>힘을</th>\n",
       "      <th>힘을 모아</th>\n",
       "      <th>힘이</th>\n",
       "      <th>힘이 듭니다</th>\n",
       "    </tr>\n",
       "  </thead>\n",
       "  <tbody>\n",
       "    <tr>\n",
       "      <th>0</th>\n",
       "      <td>29</td>\n",
       "      <td>21</td>\n",
       "      <td>21</td>\n",
       "      <td>97</td>\n",
       "      <td>23</td>\n",
       "      <td>22</td>\n",
       "      <td>21</td>\n",
       "      <td>159</td>\n",
       "      <td>23</td>\n",
       "      <td>63</td>\n",
       "      <td>...</td>\n",
       "      <td>22</td>\n",
       "      <td>77</td>\n",
       "      <td>87</td>\n",
       "      <td>21</td>\n",
       "      <td>22</td>\n",
       "      <td>120</td>\n",
       "      <td>41</td>\n",
       "      <td>191</td>\n",
       "      <td>120</td>\n",
       "      <td>17</td>\n",
       "    </tr>\n",
       "  </tbody>\n",
       "</table>\n",
       "<p>1 rows × 10000 columns</p>\n",
       "</div>"
      ],
      "text/plain": [
       "   aid  akr  akr html  anewsa  anewsa com  anewsa com detail  article  \\\n",
       "0   29   21        21      97          23                 22       21   \n",
       "\n",
       "   article html  articles  articleview   ...    힘들지만  힘듭니다  힘쓰고  힘없고  힘없는  \\\n",
       "0           159        23           63   ...      22    77   87   21   22   \n",
       "\n",
       "   힘으로  힘을  힘을 모아   힘이  힘이 듭니다  \n",
       "0  120  41    191  120      17  \n",
       "\n",
       "[1 rows x 10000 columns]"
      ]
     },
     "execution_count": 874,
     "metadata": {},
     "output_type": "execute_result"
    }
   ],
   "source": [
    "dist = np.sum(train_feature_vector, axis=0)\n",
    "\n",
    "pd.DataFrame(dist, columns=vocab)"
   ]
  },
  {
   "cell_type": "code",
   "execution_count": 875,
   "metadata": {
    "colab": {
     "autoexec": {
      "startup": false,
      "wait_interval": 0
     }
    },
    "colab_type": "code",
    "id": "X5YduNwHt00b",
    "outputId": "e5dbd17c-393e-4cd6-c194-88bb927929d7"
   },
   "outputs": [
    {
     "name": "stdout",
     "output_type": "stream",
     "text": [
      "Wall time: 51 ms\n"
     ]
    }
   ],
   "source": [
    "%%time \n",
    "train_feature_tfidf = transformer.fit_transform(train_feature_vector)\n",
    "train_feature_tfidf.shape"
   ]
  },
  {
   "cell_type": "code",
   "execution_count": 876,
   "metadata": {
    "colab": {
     "autoexec": {
      "startup": false,
      "wait_interval": 0
     }
    },
    "colab_type": "code",
    "id": "4YMLzW_Ut00d",
    "outputId": "e877121f-6e38-4e79-a845-2062c5f3a711"
   },
   "outputs": [
    {
     "name": "stdout",
     "output_type": "stream",
     "text": [
      "Wall time: 15 ms\n"
     ]
    }
   ],
   "source": [
    "%%time \n",
    "test_feature_tfidf = transformer.fit_transform(test_feature_vector)\n",
    "test_feature_tfidf.shape"
   ]
  },
  {
   "cell_type": "code",
   "execution_count": 877,
   "metadata": {
    "colab": {
     "autoexec": {
      "startup": false,
      "wait_interval": 0
     }
    },
    "colab_type": "code",
    "id": "3fneDxSBt00i",
    "outputId": "2867549b-1c11-40e3-a705-a648a298ea2c"
   },
   "outputs": [
    {
     "data": {
      "text/plain": [
       "(1984, 10000)"
      ]
     },
     "execution_count": 877,
     "metadata": {},
     "output_type": "execute_result"
    }
   ],
   "source": [
    "test_feature_tfidf.shape"
   ]
  },
  {
   "cell_type": "markdown",
   "metadata": {
    "colab_type": "text",
    "id": "eRmOcniRt00m"
   },
   "source": [
    "# 랜덤 포레스트로 학습시키기\n",
    "* 공식문서 : http://scikit-learn.org/stable/modules/generated/sklearn.ensemble.RandomForestClassifier.html"
   ]
  },
  {
   "cell_type": "code",
   "execution_count": 878,
   "metadata": {
    "colab": {
     "autoexec": {
      "startup": false,
      "wait_interval": 0
     }
    },
    "colab_type": "code",
    "id": "xSEe8bUFt00m",
    "outputId": "64678bc5-ef22-41cb-a2f3-eca3ce8fe009"
   },
   "outputs": [
    {
     "data": {
      "text/plain": [
       "RandomForestClassifier(bootstrap=True, class_weight=None, criterion='gini',\n",
       "            max_depth=None, max_features='auto', max_leaf_nodes=None,\n",
       "            min_impurity_decrease=0.0, min_impurity_split=None,\n",
       "            min_samples_leaf=1, min_samples_split=2,\n",
       "            min_weight_fraction_leaf=0.0, n_estimators=100, n_jobs=-1,\n",
       "            oob_score=False, random_state=2018, verbose=0,\n",
       "            warm_start=False)"
      ]
     },
     "execution_count": 878,
     "metadata": {},
     "output_type": "execute_result"
    }
   ],
   "source": [
    "from sklearn.ensemble import RandomForestClassifier\n",
    "\n",
    "# 랜덤포레스트 분류기를 사용\n",
    "forest = RandomForestClassifier(\n",
    "    n_estimators = 100, n_jobs = -1, random_state=2018)\n",
    "forest"
   ]
  },
  {
   "cell_type": "code",
   "execution_count": 879,
   "metadata": {
    "colab": {
     "autoexec": {
      "startup": false,
      "wait_interval": 0
     }
    },
    "colab_type": "code",
    "id": "jXmfdPoDt00r",
    "outputId": "12652811-6229-4b28-e1f3-af477f5f374b"
   },
   "outputs": [
    {
     "name": "stdout",
     "output_type": "stream",
     "text": [
      "Wall time: 13.1 s\n"
     ]
    }
   ],
   "source": [
    "# 학습에 사용할 y_label 을 넣어줍니다.\n",
    "# 어떤 분야의 청원인지 예측할 것이기 때문에 category를 넣어줍니다.\n",
    "y_label = df_train['category']\n",
    "%time forest = forest.fit(train_feature_tfidf, y_label)"
   ]
  },
  {
   "cell_type": "markdown",
   "metadata": {
    "colab_type": "text",
    "id": "M9u6sKOet00v"
   },
   "source": [
    "# 학습이 잘 되었는지 평가하기\n",
    "\n",
    "시험공부에 비유해 보면, (feat.애란쌤)\n",
    "1. 기출문제를 모은다\n",
    "2. 공부한다\n",
    "3. 시험본다\n",
    "\n",
    "여기에서 2번 단계를 하는 여러 전략이 있을텐데요, 기출문제를 모두 외워버리면 과연 내가 실제 시험을 잘 치룰 수 있을지 아니면 공부를 더 해야할지 판단하기가 애매합니다. 괜찮은 전략 중 하나는 기출문제 중 일부를 임의로 뽑아내서 공부하고(training set을 이용한 학습), 나머지 기출문제를 풀어보며 내가 얼마나 잘 푸는지 평가를 해보는겁니다(validation set을 통해 학습의 성과를 검증). 잘 된다 싶으면 시험을 볼 준비가 된 것입니다(실전 투입).\n",
    "\n",
    "\n",
    "기출문제를 몽땅 외우면 기출문제 내에서는 100점을 받겠지만(overfitting), 실전에서도 그러한 성적을 가두리라 기대하기 어렵습니다."
   ]
  },
  {
   "cell_type": "code",
   "execution_count": 880,
   "metadata": {
    "colab": {
     "autoexec": {
      "startup": false,
      "wait_interval": 0
     }
    },
    "colab_type": "code",
    "id": "-CIOuMRCt00v",
    "outputId": "e5646e86-66bc-47a1-cec0-1202740381ed"
   },
   "outputs": [
    {
     "name": "stdout",
     "output_type": "stream",
     "text": [
      "Wall time: 50 s\n"
     ]
    },
    {
     "data": {
      "text/plain": [
       "array([0.48590022, 0.48011569, 0.5130246 , 0.47178003, 0.47467438])"
      ]
     },
     "execution_count": 880,
     "metadata": {},
     "output_type": "execute_result"
    }
   ],
   "source": [
    "from sklearn.model_selection import KFold\n",
    "from sklearn.model_selection import cross_val_score\n",
    "k_fold = KFold(n_splits=5, shuffle=True, random_state=0)\n",
    "\n",
    "scoring = 'accuracy'\n",
    "%time score = cross_val_score(forest, train_feature_vector, y_label, cv=k_fold, n_jobs=-1, scoring=scoring)\n",
    "score"
   ]
  },
  {
   "cell_type": "code",
   "execution_count": 881,
   "metadata": {
    "colab": {
     "autoexec": {
      "startup": false,
      "wait_interval": 0
     }
    },
    "colab_type": "code",
    "id": "Tnzp0LHEt00y",
    "outputId": "3a6a6ad9-c0b4-4d03-8edb-ffbf2cedee28"
   },
   "outputs": [
    {
     "data": {
      "text/plain": [
       "48.51"
      ]
     },
     "execution_count": 881,
     "metadata": {},
     "output_type": "execute_result"
    }
   ],
   "source": [
    "round(np.mean(score)*100,2)"
   ]
  },
  {
   "cell_type": "markdown",
   "metadata": {
    "colab_type": "text",
    "id": "nqJ8PZ8Nt006"
   },
   "source": [
    "# 예측"
   ]
  },
  {
   "cell_type": "code",
   "execution_count": 882,
   "metadata": {
    "colab": {
     "autoexec": {
      "startup": false,
      "wait_interval": 0
     }
    },
    "colab_type": "code",
    "id": "fgbYa1kbt007",
    "outputId": "cadbc158-e1cd-4e68-a5ae-e5298b8d4f5a"
   },
   "outputs": [
    {
     "data": {
      "text/plain": [
       "array(['인권/성평등', '정치개혁', '육아/교육'], dtype=object)"
      ]
     },
     "execution_count": 882,
     "metadata": {},
     "output_type": "execute_result"
    }
   ],
   "source": [
    "# 테스트 데이터를 넣고 예측합니다.\n",
    "y_pred = forest.predict(test_feature_vector)\n",
    "y_pred[:3]"
   ]
  },
  {
   "cell_type": "code",
   "execution_count": 883,
   "metadata": {
    "colab": {
     "autoexec": {
      "startup": false,
      "wait_interval": 0
     }
    },
    "colab_type": "code",
    "id": "ZIkjk2RMt00-",
    "outputId": "6560c848-ddea-48e5-e36e-d580746df835"
   },
   "outputs": [
    {
     "data": {
      "text/plain": [
       "(1984,)"
      ]
     },
     "execution_count": 883,
     "metadata": {},
     "output_type": "execute_result"
    }
   ],
   "source": [
    "y_pred.shape"
   ]
  },
  {
   "cell_type": "code",
   "execution_count": 884,
   "metadata": {
    "colab": {
     "autoexec": {
      "startup": false,
      "wait_interval": 0
     }
    },
    "colab_type": "code",
    "id": "TF6oSPTNt01A",
    "outputId": "fc6ad3c4-10f9-44a0-9847-3c11d22cb0cf"
   },
   "outputs": [
    {
     "data": {
      "text/html": [
       "<div>\n",
       "<style scoped>\n",
       "    .dataframe tbody tr th:only-of-type {\n",
       "        vertical-align: middle;\n",
       "    }\n",
       "\n",
       "    .dataframe tbody tr th {\n",
       "        vertical-align: top;\n",
       "    }\n",
       "\n",
       "    .dataframe thead th {\n",
       "        text-align: right;\n",
       "    }\n",
       "</style>\n",
       "<table border=\"1\" class=\"dataframe\">\n",
       "  <thead>\n",
       "    <tr style=\"text-align: right;\">\n",
       "      <th></th>\n",
       "      <th>category_pred</th>\n",
       "    </tr>\n",
       "  </thead>\n",
       "  <tbody>\n",
       "    <tr>\n",
       "      <th>0</th>\n",
       "      <td>인권/성평등</td>\n",
       "    </tr>\n",
       "    <tr>\n",
       "      <th>1</th>\n",
       "      <td>정치개혁</td>\n",
       "    </tr>\n",
       "    <tr>\n",
       "      <th>2</th>\n",
       "      <td>육아/교육</td>\n",
       "    </tr>\n",
       "    <tr>\n",
       "      <th>3</th>\n",
       "      <td>정치개혁</td>\n",
       "    </tr>\n",
       "    <tr>\n",
       "      <th>4</th>\n",
       "      <td>안전/환경</td>\n",
       "    </tr>\n",
       "  </tbody>\n",
       "</table>\n",
       "</div>"
      ],
      "text/plain": [
       "  category_pred\n",
       "0        인권/성평등\n",
       "1          정치개혁\n",
       "2         육아/교육\n",
       "3          정치개혁\n",
       "4         안전/환경"
      ]
     },
     "execution_count": 884,
     "metadata": {},
     "output_type": "execute_result"
    }
   ],
   "source": [
    "# 예측 결과를 저장하기 위해 데이터프레임에 담아 줍니다.\n",
    "output = pd.DataFrame(data={'category_pred':y_pred})\n",
    "output.head()"
   ]
  },
  {
   "cell_type": "code",
   "execution_count": 885,
   "metadata": {
    "colab": {
     "autoexec": {
      "startup": false,
      "wait_interval": 0
     }
    },
    "colab_type": "code",
    "id": "MOiHATeJt01D",
    "outputId": "94d221e3-6083-4c4e-9132-6521aae0ef1a"
   },
   "outputs": [
    {
     "data": {
      "text/plain": [
       "정치개혁           831\n",
       "육아/교육          263\n",
       "문화/예술/체육/언론    211\n",
       "인권/성평등         211\n",
       "교통/건축/국토       120\n",
       "보건복지            74\n",
       "반려동물            73\n",
       "경제민주화           66\n",
       "안전/환경           52\n",
       "행정              37\n",
       "일자리             23\n",
       "외교/통일/국방        17\n",
       "저출산/고령화대책        4\n",
       "성장동력             1\n",
       "미래               1\n",
       "Name: category_pred, dtype: int64"
      ]
     },
     "execution_count": 885,
     "metadata": {},
     "output_type": "execute_result"
    }
   ],
   "source": [
    "# 0과 1이 어떻게 집계 되었는지 확인합니다.\n",
    "# 실제 데이터에는 답변 대상 건이 있는데 없는 것으로 예측되었\n",
    "output['category_pred'].value_counts()"
   ]
  },
  {
   "cell_type": "code",
   "execution_count": 886,
   "metadata": {
    "colab": {
     "autoexec": {
      "startup": false,
      "wait_interval": 0
     }
    },
    "colab_type": "code",
    "id": "1jrfcS9Pt01G"
   },
   "outputs": [],
   "source": [
    "df_test['category_pred'] = y_pred"
   ]
  },
  {
   "cell_type": "code",
   "execution_count": 887,
   "metadata": {
    "colab": {
     "autoexec": {
      "startup": false,
      "wait_interval": 0
     }
    },
    "colab_type": "code",
    "id": "H7Ukpi7Yt01H",
    "outputId": "ed1fbaa8-d12d-49ad-cbb8-31a6ac0c5cc9"
   },
   "outputs": [
    {
     "data": {
      "text/html": [
       "<div>\n",
       "<style scoped>\n",
       "    .dataframe tbody tr th:only-of-type {\n",
       "        vertical-align: middle;\n",
       "    }\n",
       "\n",
       "    .dataframe tbody tr th {\n",
       "        vertical-align: top;\n",
       "    }\n",
       "\n",
       "    .dataframe thead th {\n",
       "        text-align: right;\n",
       "    }\n",
       "</style>\n",
       "<table border=\"1\" class=\"dataframe\">\n",
       "  <thead>\n",
       "    <tr style=\"text-align: right;\">\n",
       "      <th></th>\n",
       "      <th>article_id</th>\n",
       "      <th>start</th>\n",
       "      <th>end</th>\n",
       "      <th>answered</th>\n",
       "      <th>votes</th>\n",
       "      <th>category</th>\n",
       "      <th>title</th>\n",
       "      <th>content</th>\n",
       "      <th>category_pred</th>\n",
       "      <th>content_preprocessing</th>\n",
       "      <th>content_preprocessing2</th>\n",
       "      <th>pred_diff</th>\n",
       "    </tr>\n",
       "  </thead>\n",
       "  <tbody>\n",
       "    <tr>\n",
       "      <th>183203</th>\n",
       "      <td>229756</td>\n",
       "      <td>2018-05-10</td>\n",
       "      <td>2018-06-09</td>\n",
       "      <td>0</td>\n",
       "      <td>572</td>\n",
       "      <td>안전/환경</td>\n",
       "      <td>대도심 지하터널(도로/철도)의 화려함과 그늘</td>\n",
       "      <td>전국적으로 대도심의 지하 40~100미터 지하도로와 광역철도를 공사 진행 및 공사계...</td>\n",
       "      <td>인권/성평등</td>\n",
       "      <td>전국적으로 대도심의 지하       미터 지하도로와 광역철도를 공사 진행 및 공사계...</td>\n",
       "      <td>전국적으로 대도심의 지하       미터 지하도로와 광역철도를 공사 진행 및 공사계...</td>\n",
       "      <td>0</td>\n",
       "    </tr>\n",
       "  </tbody>\n",
       "</table>\n",
       "</div>"
      ],
      "text/plain": [
       "        article_id      start        end  answered  votes category  \\\n",
       "183203      229756 2018-05-10 2018-06-09         0    572    안전/환경   \n",
       "\n",
       "                           title  \\\n",
       "183203  대도심 지하터널(도로/철도)의 화려함과 그늘   \n",
       "\n",
       "                                                  content category_pred  \\\n",
       "183203  전국적으로 대도심의 지하 40~100미터 지하도로와 광역철도를 공사 진행 및 공사계...        인권/성평등   \n",
       "\n",
       "                                    content_preprocessing  \\\n",
       "183203  전국적으로 대도심의 지하       미터 지하도로와 광역철도를 공사 진행 및 공사계...   \n",
       "\n",
       "                                   content_preprocessing2  pred_diff  \n",
       "183203  전국적으로 대도심의 지하       미터 지하도로와 광역철도를 공사 진행 및 공사계...          0  "
      ]
     },
     "execution_count": 887,
     "metadata": {},
     "output_type": "execute_result"
    }
   ],
   "source": [
    "df_test['pred_diff'] = 0\n",
    "df_test['pred_diff'] = (df_test['category'] == df_test['category_pred'] ) == 1\n",
    "df_test['pred_diff'] = df_test['pred_diff'].astype(int)\n",
    "df_test.head(1)"
   ]
  },
  {
   "cell_type": "code",
   "execution_count": 888,
   "metadata": {
    "colab": {
     "autoexec": {
      "startup": false,
      "wait_interval": 0
     }
    },
    "colab_type": "code",
    "id": "nXmjvRFRt01I",
    "outputId": "5ef58a59-54a4-4e62-b8db-324ab171dc84"
   },
   "outputs": [
    {
     "data": {
      "text/plain": [
       "0    1654\n",
       "1     330\n",
       "Name: pred_diff, dtype: int64"
      ]
     },
     "execution_count": 888,
     "metadata": {},
     "output_type": "execute_result"
    }
   ],
   "source": [
    "# 맞게 예측한 청원은 1, 틀린 예측은 0으로 표기되었습니다.\n",
    "pred_diff = df_test['pred_diff'].value_counts()\n",
    "pred_diff"
   ]
  },
  {
   "cell_type": "code",
   "execution_count": 889,
   "metadata": {
    "colab": {
     "autoexec": {
      "startup": false,
      "wait_interval": 0
     }
    },
    "colab_type": "code",
    "id": "UZ6tVFBPt01J",
    "outputId": "4305e853-0e9a-42d1-f57d-6815b5a7511c"
   },
   "outputs": [
    {
     "name": "stdout",
     "output_type": "stream",
     "text": [
      "전체 1984건의 데이터 중 330건 예측\n"
     ]
    }
   ],
   "source": [
    "print('전체 {}건의 데이터 중 {}건 예측'.format(y_pred.shape[0], pred_diff[1]))"
   ]
  },
  {
   "cell_type": "code",
   "execution_count": 890,
   "metadata": {
    "colab": {
     "autoexec": {
      "startup": false,
      "wait_interval": 0
     }
    },
    "colab_type": "code",
    "id": "rVg3paKyt01O",
    "outputId": "85f2e730-41de-4eb6-8528-7acbbafbc35f"
   },
   "outputs": [
    {
     "name": "stdout",
     "output_type": "stream",
     "text": [
      "예측 비율 16.633064516129032\n"
     ]
    }
   ],
   "source": [
    "acc = ( pred_diff[1] / y_pred.shape[0] )*100 \n",
    "print('예측 비율 {}'.format(acc))"
   ]
  },
  {
   "cell_type": "code",
   "execution_count": 891,
   "metadata": {
    "colab": {
     "autoexec": {
      "startup": false,
      "wait_interval": 0
     }
    },
    "colab_type": "code",
    "id": "SM9-2Jzpt01P",
    "outputId": "64eb4eba-7db5-4b3b-b29c-5f3ae5486f87"
   },
   "outputs": [
    {
     "data": {
      "text/plain": [
       "정치개혁           217\n",
       "육아/교육           38\n",
       "인권/성평등          23\n",
       "보건복지            17\n",
       "교통/건축/국토        10\n",
       "경제민주화            9\n",
       "문화/예술/체육/언론      7\n",
       "안전/환경            3\n",
       "일자리              3\n",
       "반려동물             2\n",
       "외교/통일/국방         1\n",
       "Name: category, dtype: int64"
      ]
     },
     "execution_count": 891,
     "metadata": {},
     "output_type": "execute_result"
    }
   ],
   "source": [
    "# 제대로 예측한 카테고리 데이터를 봅니다.\n",
    "predict_correct = df_test.loc[df_test['pred_diff'] == 1]\n",
    "predict_correct['category'].value_counts()"
   ]
  },
  {
   "cell_type": "code",
   "execution_count": 892,
   "metadata": {
    "colab": {
     "autoexec": {
      "startup": false,
      "wait_interval": 0
     }
    },
    "colab_type": "code",
    "id": "V9uZ4X5Dt01R",
    "outputId": "9ab423fa-9771-4f12-bbeb-42f0ed1ae042"
   },
   "outputs": [
    {
     "data": {
      "text/plain": [
       "인권/성평등         264\n",
       "정치개혁           212\n",
       "안전/환경          203\n",
       "외교/통일/국방       155\n",
       "육아/교육          120\n",
       "행정             108\n",
       "보건복지           107\n",
       "교통/건축/국토       102\n",
       "문화/예술/체육/언론     87\n",
       "반려동물            78\n",
       "일자리             64\n",
       "경제민주화           63\n",
       "미래              59\n",
       "성장동력            18\n",
       "저출산/고령화대책       10\n",
       "농산어촌             4\n",
       "Name: category, dtype: int64"
      ]
     },
     "execution_count": 892,
     "metadata": {},
     "output_type": "execute_result"
    }
   ],
   "source": [
    "predict_incorrect = df_test.loc[df_test['pred_diff'] == 0].copy()\n",
    "predict_incorrect['category'].value_counts()"
   ]
  },
  {
   "cell_type": "code",
   "execution_count": 893,
   "metadata": {
    "colab": {
     "autoexec": {
      "startup": false,
      "wait_interval": 0
     }
    },
    "colab_type": "code",
    "id": "19dauZBlt01T",
    "outputId": "ff76ec86-38de-4215-a2d9-41e62f339260"
   },
   "outputs": [
    {
     "data": {
      "text/plain": [
       "인권/성평등         264\n",
       "정치개혁           212\n",
       "안전/환경          203\n",
       "외교/통일/국방       155\n",
       "육아/교육          120\n",
       "행정             108\n",
       "보건복지           107\n",
       "교통/건축/국토       102\n",
       "문화/예술/체육/언론     87\n",
       "반려동물            78\n",
       "일자리             64\n",
       "경제민주화           63\n",
       "미래              59\n",
       "성장동력            18\n",
       "저출산/고령화대책       10\n",
       "농산어촌             4\n",
       "Name: category, dtype: int64"
      ]
     },
     "execution_count": 893,
     "metadata": {},
     "output_type": "execute_result"
    }
   ],
   "source": [
    "predict_incorrect_value = predict_incorrect['category'].value_counts()\n",
    "predict_incorrect_value"
   ]
  },
  {
   "cell_type": "code",
   "execution_count": 894,
   "metadata": {
    "colab": {
     "autoexec": {
      "startup": false,
      "wait_interval": 0
     }
    },
    "colab_type": "code",
    "id": "kzW0yPVzt01V",
    "outputId": "d1cb0839-c60f-4dea-e3e9-673225e5a20c",
    "scrolled": true
   },
   "outputs": [
    {
     "data": {
      "text/plain": [
       "<matplotlib.axes._subplots.AxesSubplot at 0x90cd716c88>"
      ]
     },
     "execution_count": 894,
     "metadata": {},
     "output_type": "execute_result"
    },
    {
     "data": {
      "image/png": "[encoded data removed]",
      "text/plain": [
       "<Figure size 432x288 with 1 Axes>"
      ]
     },
     "metadata": {},
     "output_type": "display_data"
    }
   ],
   "source": [
    "# 잘못 예측한 카테고리 중 인권/성평등 카테고리가 가장 많습니다.\n",
    "predict_incorrect_value.plot(kind='bar')"
   ]
  },
  {
   "cell_type": "markdown",
   "metadata": {
    "colab_type": "text",
    "id": "2MX3Uafzt01Y"
   },
   "source": [
    "# 왜 예측의 정확도가 낮을까요?\n",
    "* 청원을 입력하는 사람마다 카테고리 분류 기준이 정확하지 않은 것 같습니다.\n",
    "* 기타로 예측한 분류도 특정 카테고리로 분류해도 될 것으로 보여집니다."
   ]
  },
  {
   "cell_type": "code",
   "execution_count": 895,
   "metadata": {
    "colab": {
     "autoexec": {
      "startup": false,
      "wait_interval": 0
     }
    },
    "colab_type": "code",
    "id": "CIT34Dj3t01Z",
    "outputId": "f87ec124-3fab-48fc-c784-ef28c8bc07e8"
   },
   "outputs": [
    {
     "data": {
      "text/html": [
       "<div>\n",
       "<style scoped>\n",
       "    .dataframe tbody tr th:only-of-type {\n",
       "        vertical-align: middle;\n",
       "    }\n",
       "\n",
       "    .dataframe tbody tr th {\n",
       "        vertical-align: top;\n",
       "    }\n",
       "\n",
       "    .dataframe thead th {\n",
       "        text-align: right;\n",
       "    }\n",
       "</style>\n",
       "<table border=\"1\" class=\"dataframe\">\n",
       "  <thead>\n",
       "    <tr style=\"text-align: right;\">\n",
       "      <th></th>\n",
       "      <th>category</th>\n",
       "      <th>category_pred</th>\n",
       "      <th>title</th>\n",
       "      <th>content</th>\n",
       "    </tr>\n",
       "  </thead>\n",
       "  <tbody>\n",
       "    <tr>\n",
       "      <th>183203</th>\n",
       "      <td>안전/환경</td>\n",
       "      <td>인권/성평등</td>\n",
       "      <td>대도심 지하터널(도로/철도)의 화려함과 그늘</td>\n",
       "      <td>전국적으로 대도심의 지하 40~100미터 지하도로와 광역철도를 공사 진행 및 공사계...</td>\n",
       "    </tr>\n",
       "    <tr>\n",
       "      <th>183225</th>\n",
       "      <td>인권/성평등</td>\n",
       "      <td>정치개혁</td>\n",
       "      <td>혜경궁 김씨 진실을 밝혀주세요..</td>\n",
       "      <td>저는 평범한 시민이자, 민주당 지지자입니다.\\n그동안 김대중 대통령님,노무현 대통령...</td>\n",
       "    </tr>\n",
       "    <tr>\n",
       "      <th>183236</th>\n",
       "      <td>교통/건축/국토</td>\n",
       "      <td>육아/교육</td>\n",
       "      <td>국민들의 주거환경을 위협하는 LH 이제는 정말 쇄신해야 합니다. LH 공공 아파트 ...</td>\n",
       "      <td>LH는 국민의 주거생활 향상 및 국토의 효율적 이용을 도모해 국민 경제 발전에 이바...</td>\n",
       "    </tr>\n",
       "    <tr>\n",
       "      <th>183242</th>\n",
       "      <td>안전/환경</td>\n",
       "      <td>정치개혁</td>\n",
       "      <td>강동구 둔촌주공아파트 재건축 관련하여 동북중고등학교 학생들이 위험에 노출되어 있습니다.</td>\n",
       "      <td>강동구 둔촌주공아파트 재건축이 본격화 되면서 지하철9호선 공사와 맞물려 학생들의 안...</td>\n",
       "    </tr>\n",
       "    <tr>\n",
       "      <th>183263</th>\n",
       "      <td>육아/교육</td>\n",
       "      <td>안전/환경</td>\n",
       "      <td>보여주기식 어린이집 평가인증제 제발 없애주세요!!!</td>\n",
       "      <td>어린이집 평가인증제 제발 없애주세요!!!\\n보육교사들은 자신의 자식보다 자신의 가족...</td>\n",
       "    </tr>\n",
       "    <tr>\n",
       "      <th>183286</th>\n",
       "      <td>보건복지</td>\n",
       "      <td>정치개혁</td>\n",
       "      <td>대마오일 약으로 처방받아 쓸수 있게 해주세요</td>\n",
       "      <td>의료용으로는 사용해도 된다고 생각합니다\\n아이를 키우는 입장에서 저희 아이가 아파서...</td>\n",
       "    </tr>\n",
       "    <tr>\n",
       "      <th>183290</th>\n",
       "      <td>보건복지</td>\n",
       "      <td>문화/예술/체육/언론</td>\n",
       "      <td>대마오일 사용하게 해주세요\" 뇌전증 환자, 마지막 희망</td>\n",
       "      <td>대마 밀수 혐의의 한 의사의 스토리였다.\\n엄마는 \"2012년에 태어났는데 보통 3...</td>\n",
       "    </tr>\n",
       "    <tr>\n",
       "      <th>183329</th>\n",
       "      <td>인권/성평등</td>\n",
       "      <td>안전/환경</td>\n",
       "      <td>북한식당 여종업원 기획 탈북 진상규명 및 관련 국정원 직원 처벌 청원</td>\n",
       "      <td>방금 전 &lt;이규연의 스포트라이트&gt;에서 방영한 내용에 대해 청원합니다.\\n2016년 ...</td>\n",
       "    </tr>\n",
       "    <tr>\n",
       "      <th>183360</th>\n",
       "      <td>성장동력</td>\n",
       "      <td>경제민주화</td>\n",
       "      <td>서토덕(탈핵운동가)이 원자력연구원 상임감사를 한다구요? 그럼 원전수출 가능할까요?</td>\n",
       "      <td>대통령까지 나서 원전을 수출하려고 노력하고 있습니다.\\n언제부터인가 각종 정부기관 ...</td>\n",
       "    </tr>\n",
       "    <tr>\n",
       "      <th>183365</th>\n",
       "      <td>반려동물</td>\n",
       "      <td>정치개혁</td>\n",
       "      <td>불법 개농장( 강아지 번식장) 철거를 청원합니다(꼭 봐주십쇼)</td>\n",
       "      <td>러분 동물학대가 뭔지 아시나요?동물학대란?동물과 인간의 지속적인 행복 및 규정준수의...</td>\n",
       "    </tr>\n",
       "    <tr>\n",
       "      <th>183387</th>\n",
       "      <td>외교/통일/국방</td>\n",
       "      <td>육아/교육</td>\n",
       "      <td>대한독립운동가 안중근 의사 유골 발굴 청원</td>\n",
       "      <td>안녕하십니까? 저는 서울의 한 고등학교에 다니는 학생입니다. 제가 이 청원을 생각하...</td>\n",
       "    </tr>\n",
       "    <tr>\n",
       "      <th>183405</th>\n",
       "      <td>인권/성평등</td>\n",
       "      <td>교통/건축/국토</td>\n",
       "      <td>주유소 갑질행위에 대하여 동생이 죽었습니다.</td>\n",
       "      <td>금산김씨(문중)지주와 광신(BKE.부경에너지)석유의 갑질횡포로\\n일어난 동생의 억울...</td>\n",
       "    </tr>\n",
       "    <tr>\n",
       "      <th>183428</th>\n",
       "      <td>일자리</td>\n",
       "      <td>정치개혁</td>\n",
       "      <td>주52시간 제한근무에 건설업,제조업,서비스업등의 일당제와 시간제 근로자는 예외시켜주세요.</td>\n",
       "      <td>주52시간 제한근무에 건설업,제조업,서비스업등의 일당제와 시간제 근로자는 예외시켜주...</td>\n",
       "    </tr>\n",
       "    <tr>\n",
       "      <th>183430</th>\n",
       "      <td>행정</td>\n",
       "      <td>교통/건축/국토</td>\n",
       "      <td>교습소 강사채용허락부탁드려요</td>\n",
       "      <td>교습소운영중에 있습니다\\n교습소는 규모가 작습니다.\\n그래서 아무리 수용인원을 늘릴...</td>\n",
       "    </tr>\n",
       "    <tr>\n",
       "      <th>183446</th>\n",
       "      <td>교통/건축/국토</td>\n",
       "      <td>인권/성평등</td>\n",
       "      <td>경기도 김포 도시철도지연건</td>\n",
       "      <td>김포시에 사는 가정주부 입니다..\\n11월 경전철 완공을 기다렸는데 갑자기 연기라고...</td>\n",
       "    </tr>\n",
       "    <tr>\n",
       "      <th>183459</th>\n",
       "      <td>반려동물</td>\n",
       "      <td>인권/성평등</td>\n",
       "      <td>반려동물 의료 혜택</td>\n",
       "      <td>시츄 두마리를 키우고 있는 견주 입니다.\\n강아지 들은 우리 가족에겐 더 없는 사랑...</td>\n",
       "    </tr>\n",
       "    <tr>\n",
       "      <th>183471</th>\n",
       "      <td>반려동물</td>\n",
       "      <td>문화/예술/체육/언론</td>\n",
       "      <td>유기견 관련 법을 강화해주세요</td>\n",
       "      <td>요즘 반려동물의 충동구매와 개인적인 사정으로 인해 유기견의 수가 증가하고 있습니다....</td>\n",
       "    </tr>\n",
       "    <tr>\n",
       "      <th>183493</th>\n",
       "      <td>육아/교육</td>\n",
       "      <td>정치개혁</td>\n",
       "      <td>어린이집 평가인증 제발 없애주세요.</td>\n",
       "      <td>어린이집 정기적  구청감사  부모모닝터링   급식관리지원센터 순회방문관리등  각 기...</td>\n",
       "    </tr>\n",
       "    <tr>\n",
       "      <th>183510</th>\n",
       "      <td>교통/건축/국토</td>\n",
       "      <td>문화/예술/체육/언론</td>\n",
       "      <td>7호선 확정고시 원안대로 조기착공 바랍니다.</td>\n",
       "      <td>10년이 넘는 세월동안\\n무더위와 혹한 속에서도\\n피땀어린 눈물로 7호선 유치에\\n...</td>\n",
       "    </tr>\n",
       "    <tr>\n",
       "      <th>183540</th>\n",
       "      <td>안전/환경</td>\n",
       "      <td>정치개혁</td>\n",
       "      <td>반대한다! 고양시민은 정수장 앞 골프장 절대 불허!</td>\n",
       "      <td>반대한다! 고양시민은 정수장 앞 골프장 절대 불허!\\n- 한강유역환경청은 고양시민 ...</td>\n",
       "    </tr>\n",
       "    <tr>\n",
       "      <th>183556</th>\n",
       "      <td>안전/환경</td>\n",
       "      <td>정치개혁</td>\n",
       "      <td>대도시 아파트, 학교 관통 지하고속도로사업(민자사업), 과연 안전한가?</td>\n",
       "      <td>안녕하세요. 평범한 국민의 한 사람입니다.\\n몇 일전 모 방송국에서 “집 아래로 고...</td>\n",
       "    </tr>\n",
       "    <tr>\n",
       "      <th>183589</th>\n",
       "      <td>문화/예술/체육/언론</td>\n",
       "      <td>정치개혁</td>\n",
       "      <td>국내 영화 상품에도 장애인들의 편의를 위해 자막이 있으면 좋겠습니다.</td>\n",
       "      <td>안녕하세요.\\n저는 아산에 살고 있는 27살 남자구요.\\n부족한 글 솜씨지만 얼마 ...</td>\n",
       "    </tr>\n",
       "    <tr>\n",
       "      <th>183614</th>\n",
       "      <td>정치개혁</td>\n",
       "      <td>경제민주화</td>\n",
       "      <td>국민이 소, 돼지인가요! 추미애 당대표는 국민 앞에 사과하고, 범죄 피의자인 구본영...</td>\n",
       "      <td>현 구본영 천안시장은 지난 4월 초 ‘수뢰 후 부정처사’ 및 ‘직권남용 권리행사 방...</td>\n",
       "    </tr>\n",
       "    <tr>\n",
       "      <th>183638</th>\n",
       "      <td>보건복지</td>\n",
       "      <td>문화/예술/체육/언론</td>\n",
       "      <td>제도적 사회복지서비스의 질적향상을 위하여...</td>\n",
       "      <td>저는 평택시에서 근무하는 사회복지 전담공무원입니다.\\n지난 3월21일에, 약 일주일...</td>\n",
       "    </tr>\n",
       "    <tr>\n",
       "      <th>183644</th>\n",
       "      <td>안전/환경</td>\n",
       "      <td>육아/교육</td>\n",
       "      <td>그물에 수달보호격자 설치 제도화</td>\n",
       "      <td>안녕하세요, 저희는 수달 보호 프로젝트를 진행 중인 서울여자대학교 학생들입니다. 저...</td>\n",
       "    </tr>\n",
       "    <tr>\n",
       "      <th>183676</th>\n",
       "      <td>인권/성평등</td>\n",
       "      <td>경제민주화</td>\n",
       "      <td>경기도 소재 고등학교 여학생 기숙가 몰카의 조사와 몰카범 및 2차 가해자들의 강력 ...</td>\n",
       "      <td>안녕하세요 저는 고등학교 기숙사생입니다. 어제 경기도 소재 한 고등학교에서 여학생 ...</td>\n",
       "    </tr>\n",
       "    <tr>\n",
       "      <th>183698</th>\n",
       "      <td>보건복지</td>\n",
       "      <td>문화/예술/체육/언론</td>\n",
       "      <td>(다들 꼭 봐주세요)실화탐험대 방송보고 대마오일 꼭 부탁 드립니다.</td>\n",
       "      <td>어제 \"실화탐사대\"라는 TV프로를 봤습니다.\\n뇌전증을 앓고 있는 7살 먹은 자녀가...</td>\n",
       "    </tr>\n",
       "    <tr>\n",
       "      <th>183719</th>\n",
       "      <td>행정</td>\n",
       "      <td>반려동물</td>\n",
       "      <td>세월호 사고로 운항 중단된 인천-제주 간 여객선 항로 사업자 선정 심사 불공정에 대...</td>\n",
       "      <td>세월호 사고로 운항 중단된 인천-제주 간 여객선 항로 사업자 선정 심사 불공정에 대...</td>\n",
       "    </tr>\n",
       "    <tr>\n",
       "      <th>183829</th>\n",
       "      <td>반려동물</td>\n",
       "      <td>인권/성평등</td>\n",
       "      <td>애완동물</td>\n",
       "      <td>안녕하세요 저는 대한민국에 거주하는 여성입니다.\\n얼마전 안좋은 일이 하나 있었는데...</td>\n",
       "    </tr>\n",
       "    <tr>\n",
       "      <th>183849</th>\n",
       "      <td>행정</td>\n",
       "      <td>인권/성평등</td>\n",
       "      <td>사찰 입장료</td>\n",
       "      <td>사찰 입장료 폐지해야 됨니다\\n세상에 깡폐 집단도 아니고\\n봉이 김선달 인가\\n중생...</td>\n",
       "    </tr>\n",
       "    <tr>\n",
       "      <th>...</th>\n",
       "      <td>...</td>\n",
       "      <td>...</td>\n",
       "      <td>...</td>\n",
       "      <td>...</td>\n",
       "    </tr>\n",
       "    <tr>\n",
       "      <th>222691</th>\n",
       "      <td>문화/예술/체육/언론</td>\n",
       "      <td>정치개혁</td>\n",
       "      <td>조현우 손흥민 군면제 해주세요~~!!</td>\n",
       "      <td>조현우 손흥민 군면제 해주세요\\n그들은 할수있다라는 희망을 줬고\\n군대에 다녀오기에...</td>\n",
       "    </tr>\n",
       "    <tr>\n",
       "      <th>222714</th>\n",
       "      <td>문화/예술/체육/언론</td>\n",
       "      <td>정치개혁</td>\n",
       "      <td>월드컵 손흥민 군면제 적극추천</td>\n",
       "      <td>-금번 월트컵으로 국민들의 사기를 북돋은 손흥민을 군면제 추천합니다  국위선양이 우...</td>\n",
       "    </tr>\n",
       "    <tr>\n",
       "      <th>222773</th>\n",
       "      <td>외교/통일/국방</td>\n",
       "      <td>정치개혁</td>\n",
       "      <td>손흥민 선수 군복무 면제</td>\n",
       "      <td>이번 월드컵에서 영웅이라고 해도 손색없는 손흥민 선수에게 군복무 면제를 요청합니다....</td>\n",
       "    </tr>\n",
       "    <tr>\n",
       "      <th>222785</th>\n",
       "      <td>정치개혁</td>\n",
       "      <td>문화/예술/체육/언론</td>\n",
       "      <td>난민반대/대국민 결사체추진/반난민법제정추진/적폐언론폐간추진/난민법즉각폐기/무사증폐기...</td>\n",
       "      <td>\"사람이 아닌 국민이 대접받는 위대한 대한민국 건설을 위해!!!!!\"\\n문재인대통령...</td>\n",
       "    </tr>\n",
       "    <tr>\n",
       "      <th>222787</th>\n",
       "      <td>문화/예술/체육/언론</td>\n",
       "      <td>경제민주화</td>\n",
       "      <td>손흥민, 조현우 특별 병역면제 추진합시다</td>\n",
       "      <td>인간적으로 손흥민하고 조현우는 특별히 병역면제 해줍시다.\\n피파랭킹 57위가 피파랭...</td>\n",
       "    </tr>\n",
       "    <tr>\n",
       "      <th>222800</th>\n",
       "      <td>정치개혁</td>\n",
       "      <td>반려동물</td>\n",
       "      <td>제2의난민법(필독)/ \"포괄적 차별금지법\" 국민이 목숨걸고 온몸으로 막아야합니다</td>\n",
       "      <td>“7월 국무회의 상정 통과시킨 후 대통령령 공포 2022년 집행하려 한다”\\n정부가...</td>\n",
       "    </tr>\n",
       "    <tr>\n",
       "      <th>222803</th>\n",
       "      <td>일자리</td>\n",
       "      <td>정치개혁</td>\n",
       "      <td>신텍, 공기업 남부발전 공사대금 미지급으로 회사 존립위기</td>\n",
       "      <td>현재 코스닥 상장사 신텍이 상장폐지 기로에 있습니다.\\n그이유는 공기업 남부발전 공...</td>\n",
       "    </tr>\n",
       "    <tr>\n",
       "      <th>222804</th>\n",
       "      <td>외교/통일/국방</td>\n",
       "      <td>문화/예술/체육/언론</td>\n",
       "      <td>누명을 쓰고 미얀마에 구속되어 있는 이상범을 구해주세요</td>\n",
       "      <td>평범한 한 국민이 이역만리 미얀마에서 금지약물범이라는 무시무시한 누명을 쓰고 11년...</td>\n",
       "    </tr>\n",
       "    <tr>\n",
       "      <th>222813</th>\n",
       "      <td>경제민주화</td>\n",
       "      <td>정치개혁</td>\n",
       "      <td>포스코 최정우 후보 선임을 철회하라!</td>\n",
       "      <td>지난 6월 23일 포스코는 최정우 후보를 차기 회장으로 이사회에서 선출하였다.\\n포...</td>\n",
       "    </tr>\n",
       "    <tr>\n",
       "      <th>222845</th>\n",
       "      <td>인권/성평등</td>\n",
       "      <td>반려동물</td>\n",
       "      <td>난민 문제에 대하여 수용을 하겠다는 입장이라면 질문에 답을 해주길 바란다 그리고 책...</td>\n",
       "      <td>1.예맨 이슬람사상을 받아들이자고 말하는사람들은 과연 북한탈북민과 북한의 인권에 대...</td>\n",
       "    </tr>\n",
       "    <tr>\n",
       "      <th>222867</th>\n",
       "      <td>반려동물</td>\n",
       "      <td>성장동력</td>\n",
       "      <td>동물 학대자의  소유권을 박탈, 동물보호단체에 소유권 이전시켜 주세요.</td>\n",
       "      <td>방금 전 3개월령의 프렌치 불독이 혈관도 잡히지 않고 골반뼈가 드러날 정도로 마른 ...</td>\n",
       "    </tr>\n",
       "    <tr>\n",
       "      <th>222925</th>\n",
       "      <td>보건복지</td>\n",
       "      <td>문화/예술/체육/언론</td>\n",
       "      <td>국립암센타에 한의진료과를 설치해 주세요</td>\n",
       "      <td>국립암센타에 한의진료과를 설치해 주세요\\n이 문제는 보건복지부도, 국회도 해결하지 ...</td>\n",
       "    </tr>\n",
       "    <tr>\n",
       "      <th>222933</th>\n",
       "      <td>인권/성평등</td>\n",
       "      <td>정치개혁</td>\n",
       "      <td>손흥민 선수 조현우 순수 군 입대 반대합니다.</td>\n",
       "      <td>대한민국 국가의 위상을 드높이고 앞으로 발전가능성이 무궁무진한 두 선수는 축구협회발...</td>\n",
       "    </tr>\n",
       "    <tr>\n",
       "      <th>222941</th>\n",
       "      <td>외교/통일/국방</td>\n",
       "      <td>문화/예술/체육/언론</td>\n",
       "      <td>예멘 난민 중  무장반군 포함됐을수도 있데요..심각합니다</td>\n",
       "      <td>인터넷 기사보다가 심장이 덜덜떠리는 기사를 봤습니다.\\n글을 쓰면서도 손이떨려쓰기가...</td>\n",
       "    </tr>\n",
       "    <tr>\n",
       "      <th>222946</th>\n",
       "      <td>문화/예술/체육/언론</td>\n",
       "      <td>정치개혁</td>\n",
       "      <td>대한축구협회의 해체를 청원합니다</td>\n",
       "      <td>대한민국 축구발전을 위하여 암적 존재인 축구협회의 해체를 청원합니다\\n국가는 촛불시...</td>\n",
       "    </tr>\n",
       "    <tr>\n",
       "      <th>222972</th>\n",
       "      <td>문화/예술/체육/언론</td>\n",
       "      <td>정치개혁</td>\n",
       "      <td>축구협회 개혁 및 적폐청산을 위한 인적물갈이 청원</td>\n",
       "      <td>월드컵이 한국에게는 끝났습니다. 쏟아지던 비난과 개혁을 하라는 외침이 마지막 경기인...</td>\n",
       "    </tr>\n",
       "    <tr>\n",
       "      <th>223011</th>\n",
       "      <td>경제민주화</td>\n",
       "      <td>정치개혁</td>\n",
       "      <td>대출금리 조작으로 국민들을 속인 은행을 공개하고 징계해주십시오</td>\n",
       "      <td>은행들은 이익 챙기기에만 몰두하여 작년 한해 37조를 벌었다고 합니다. 알고 보니 ...</td>\n",
       "    </tr>\n",
       "    <tr>\n",
       "      <th>223099</th>\n",
       "      <td>저출산/고령화대책</td>\n",
       "      <td>육아/교육</td>\n",
       "      <td>저출생 문제 해결을 위한 대한민국 국민의  청원</td>\n",
       "      <td>(이 청원은 여성들이 정식으로 정자를 구입 할 수 있는 방법을 제정해 달라는 청원이...</td>\n",
       "    </tr>\n",
       "    <tr>\n",
       "      <th>223115</th>\n",
       "      <td>일자리</td>\n",
       "      <td>정치개혁</td>\n",
       "      <td>일자리 창출과 규제혁파를 통하 혁신성장</td>\n",
       "      <td>존경하는 대통령님\\n한반도 평화구축을 통해 우리 국민에게 커다란 평화와 번영의 꿈을...</td>\n",
       "    </tr>\n",
       "    <tr>\n",
       "      <th>223159</th>\n",
       "      <td>미래</td>\n",
       "      <td>경제민주화</td>\n",
       "      <td>[사우디 거주 교민] 난민 위장 불체자들의 실체를 알려드립니다.</td>\n",
       "      <td>중동에 살면서, 중동인들과 그들의 종교에 대해서 알게 되면서, 예멘 내전은 잘 들여...</td>\n",
       "    </tr>\n",
       "    <tr>\n",
       "      <th>223197</th>\n",
       "      <td>문화/예술/체육/언론</td>\n",
       "      <td>반려동물</td>\n",
       "      <td>축구협회 특검수사 청원합니다</td>\n",
       "      <td>월드컵 축구국가대표 감독 신태용 경질과 축구협회 특검 수사를 청원합니다.\\n제가 이...</td>\n",
       "    </tr>\n",
       "    <tr>\n",
       "      <th>223215</th>\n",
       "      <td>인권/성평등</td>\n",
       "      <td>문화/예술/체육/언론</td>\n",
       "      <td>문재인 대통령님, 동성혼 합법화를 청원합니다.</td>\n",
       "      <td>헌법 제10조\\n모든 국민은 인간으로서의 존엄과 가치를 가지며, 행복을 추구할 권리...</td>\n",
       "    </tr>\n",
       "    <tr>\n",
       "      <th>223282</th>\n",
       "      <td>육아/교육</td>\n",
       "      <td>인권/성평등</td>\n",
       "      <td>보육교사 휴게시간 지침에.       관련 근로기준법 개정</td>\n",
       "      <td>근로기준법 개정에 따라 정부가 다음달 1일부터 시행하기로 한 ‘보육교사 휴게시간 지...</td>\n",
       "    </tr>\n",
       "    <tr>\n",
       "      <th>223299</th>\n",
       "      <td>안전/환경</td>\n",
       "      <td>육아/교육</td>\n",
       "      <td>응급환자의 119구급대원 폭행에 대한 '구호를 하지않을 권리' 입법청원</td>\n",
       "      <td>최근 119구급대원을 폭행하는 사건이 많이 발생하고 있습니다.\\n급기야 환자에게 폭...</td>\n",
       "    </tr>\n",
       "    <tr>\n",
       "      <th>223303</th>\n",
       "      <td>인권/성평등</td>\n",
       "      <td>정치개혁</td>\n",
       "      <td>차별 금지법을 반대합니다.</td>\n",
       "      <td>누구를 위한 법안인가요?\\n이 나라가 누구를 위한 나라인가요?\\n외국인들이 우리나라...</td>\n",
       "    </tr>\n",
       "    <tr>\n",
       "      <th>223344</th>\n",
       "      <td>반려동물</td>\n",
       "      <td>정치개혁</td>\n",
       "      <td>개 고양이도살금지</td>\n",
       "      <td>동물  보호법 강화 및  식용금지 촉구</td>\n",
       "    </tr>\n",
       "    <tr>\n",
       "      <th>223363</th>\n",
       "      <td>문화/예술/체육/언론</td>\n",
       "      <td>교통/건축/국토</td>\n",
       "      <td>국제 스포츠 대회에서 큰 활약을 한 해외진출 선수들의 병역의무에 대해 대체할수 있는...</td>\n",
       "      <td>어제의 월드컵의 멋진 경기로 대한민국 국민들은 흥분의 도가니에 빠졌습니다. 특히 손...</td>\n",
       "    </tr>\n",
       "    <tr>\n",
       "      <th>223374</th>\n",
       "      <td>보건복지</td>\n",
       "      <td>육아/교육</td>\n",
       "      <td>경찰실습생 순직처리가 되도록 도와주세요</td>\n",
       "      <td>20대 경찰 실습생이 실습이 몇일뒤에 끝나 경찰관으로 임명되는데 그 몇일을 앞두고 ...</td>\n",
       "    </tr>\n",
       "    <tr>\n",
       "      <th>223382</th>\n",
       "      <td>인권/성평등</td>\n",
       "      <td>문화/예술/체육/언론</td>\n",
       "      <td>여성가족부 해체 바랍니다</td>\n",
       "      <td>대한민국, 연일 래디컬페미니스트(급진페미니즘을 추종하는 반사회적인 무리)들 주도하에...</td>\n",
       "    </tr>\n",
       "    <tr>\n",
       "      <th>223442</th>\n",
       "      <td>외교/통일/국방</td>\n",
       "      <td>인권/성평등</td>\n",
       "      <td>난민 받지말라고 빌잖아요</td>\n",
       "      <td>진짜 어디다가 말을 해야 들어줍니까?\\n청원에다 아무리 전국민이 호소해도 기사 꼴랑...</td>\n",
       "    </tr>\n",
       "  </tbody>\n",
       "</table>\n",
       "<p>1654 rows × 4 columns</p>\n",
       "</div>"
      ],
      "text/plain": [
       "           category category_pred  \\\n",
       "183203        안전/환경        인권/성평등   \n",
       "183225       인권/성평등          정치개혁   \n",
       "183236     교통/건축/국토         육아/교육   \n",
       "183242        안전/환경          정치개혁   \n",
       "183263        육아/교육         안전/환경   \n",
       "183286         보건복지          정치개혁   \n",
       "183290         보건복지   문화/예술/체육/언론   \n",
       "183329       인권/성평등         안전/환경   \n",
       "183360         성장동력         경제민주화   \n",
       "183365         반려동물          정치개혁   \n",
       "183387     외교/통일/국방         육아/교육   \n",
       "183405       인권/성평등      교통/건축/국토   \n",
       "183428          일자리          정치개혁   \n",
       "183430           행정      교통/건축/국토   \n",
       "183446     교통/건축/국토        인권/성평등   \n",
       "183459         반려동물        인권/성평등   \n",
       "183471         반려동물   문화/예술/체육/언론   \n",
       "183493        육아/교육          정치개혁   \n",
       "183510     교통/건축/국토   문화/예술/체육/언론   \n",
       "183540        안전/환경          정치개혁   \n",
       "183556        안전/환경          정치개혁   \n",
       "183589  문화/예술/체육/언론          정치개혁   \n",
       "183614         정치개혁         경제민주화   \n",
       "183638         보건복지   문화/예술/체육/언론   \n",
       "183644        안전/환경         육아/교육   \n",
       "183676       인권/성평등         경제민주화   \n",
       "183698         보건복지   문화/예술/체육/언론   \n",
       "183719           행정          반려동물   \n",
       "183829         반려동물        인권/성평등   \n",
       "183849           행정        인권/성평등   \n",
       "...             ...           ...   \n",
       "222691  문화/예술/체육/언론          정치개혁   \n",
       "222714  문화/예술/체육/언론          정치개혁   \n",
       "222773     외교/통일/국방          정치개혁   \n",
       "222785         정치개혁   문화/예술/체육/언론   \n",
       "222787  문화/예술/체육/언론         경제민주화   \n",
       "222800         정치개혁          반려동물   \n",
       "222803          일자리          정치개혁   \n",
       "222804     외교/통일/국방   문화/예술/체육/언론   \n",
       "222813        경제민주화          정치개혁   \n",
       "222845       인권/성평등          반려동물   \n",
       "222867         반려동물          성장동력   \n",
       "222925         보건복지   문화/예술/체육/언론   \n",
       "222933       인권/성평등          정치개혁   \n",
       "222941     외교/통일/국방   문화/예술/체육/언론   \n",
       "222946  문화/예술/체육/언론          정치개혁   \n",
       "222972  문화/예술/체육/언론          정치개혁   \n",
       "223011        경제민주화          정치개혁   \n",
       "223099    저출산/고령화대책         육아/교육   \n",
       "223115          일자리          정치개혁   \n",
       "223159           미래         경제민주화   \n",
       "223197  문화/예술/체육/언론          반려동물   \n",
       "223215       인권/성평등   문화/예술/체육/언론   \n",
       "223282        육아/교육        인권/성평등   \n",
       "223299        안전/환경         육아/교육   \n",
       "223303       인권/성평등          정치개혁   \n",
       "223344         반려동물          정치개혁   \n",
       "223363  문화/예술/체육/언론      교통/건축/국토   \n",
       "223374         보건복지         육아/교육   \n",
       "223382       인권/성평등   문화/예술/체육/언론   \n",
       "223442     외교/통일/국방        인권/성평등   \n",
       "\n",
       "                                                    title  \\\n",
       "183203                           대도심 지하터널(도로/철도)의 화려함과 그늘   \n",
       "183225                                 혜경궁 김씨 진실을 밝혀주세요..   \n",
       "183236  국민들의 주거환경을 위협하는 LH 이제는 정말 쇄신해야 합니다. LH 공공 아파트 ...   \n",
       "183242   강동구 둔촌주공아파트 재건축 관련하여 동북중고등학교 학생들이 위험에 노출되어 있습니다.   \n",
       "183263                       보여주기식 어린이집 평가인증제 제발 없애주세요!!!   \n",
       "183286                           대마오일 약으로 처방받아 쓸수 있게 해주세요   \n",
       "183290                     대마오일 사용하게 해주세요\" 뇌전증 환자, 마지막 희망   \n",
       "183329             북한식당 여종업원 기획 탈북 진상규명 및 관련 국정원 직원 처벌 청원   \n",
       "183360      서토덕(탈핵운동가)이 원자력연구원 상임감사를 한다구요? 그럼 원전수출 가능할까요?   \n",
       "183365                 불법 개농장( 강아지 번식장) 철거를 청원합니다(꼭 봐주십쇼)   \n",
       "183387                            대한독립운동가 안중근 의사 유골 발굴 청원   \n",
       "183405                           주유소 갑질행위에 대하여 동생이 죽었습니다.   \n",
       "183428  주52시간 제한근무에 건설업,제조업,서비스업등의 일당제와 시간제 근로자는 예외시켜주세요.   \n",
       "183430                                    교습소 강사채용허락부탁드려요   \n",
       "183446                                     경기도 김포 도시철도지연건   \n",
       "183459                                         반려동물 의료 혜택   \n",
       "183471                                   유기견 관련 법을 강화해주세요   \n",
       "183493                                어린이집 평가인증 제발 없애주세요.   \n",
       "183510                           7호선 확정고시 원안대로 조기착공 바랍니다.   \n",
       "183540                       반대한다! 고양시민은 정수장 앞 골프장 절대 불허!   \n",
       "183556            대도시 아파트, 학교 관통 지하고속도로사업(민자사업), 과연 안전한가?   \n",
       "183589             국내 영화 상품에도 장애인들의 편의를 위해 자막이 있으면 좋겠습니다.   \n",
       "183614  국민이 소, 돼지인가요! 추미애 당대표는 국민 앞에 사과하고, 범죄 피의자인 구본영...   \n",
       "183638                          제도적 사회복지서비스의 질적향상을 위하여...   \n",
       "183644                                  그물에 수달보호격자 설치 제도화   \n",
       "183676  경기도 소재 고등학교 여학생 기숙가 몰카의 조사와 몰카범 및 2차 가해자들의 강력 ...   \n",
       "183698              (다들 꼭 봐주세요)실화탐험대 방송보고 대마오일 꼭 부탁 드립니다.   \n",
       "183719  세월호 사고로 운항 중단된 인천-제주 간 여객선 항로 사업자 선정 심사 불공정에 대...   \n",
       "183829                                               애완동물   \n",
       "183849                                             사찰 입장료   \n",
       "...                                                   ...   \n",
       "222691                               조현우 손흥민 군면제 해주세요~~!!   \n",
       "222714                                   월드컵 손흥민 군면제 적극추천   \n",
       "222773                                      손흥민 선수 군복무 면제   \n",
       "222785  난민반대/대국민 결사체추진/반난민법제정추진/적폐언론폐간추진/난민법즉각폐기/무사증폐기...   \n",
       "222787                             손흥민, 조현우 특별 병역면제 추진합시다   \n",
       "222800       제2의난민법(필독)/ \"포괄적 차별금지법\" 국민이 목숨걸고 온몸으로 막아야합니다   \n",
       "222803                    신텍, 공기업 남부발전 공사대금 미지급으로 회사 존립위기   \n",
       "222804                     누명을 쓰고 미얀마에 구속되어 있는 이상범을 구해주세요   \n",
       "222813                               포스코 최정우 후보 선임을 철회하라!   \n",
       "222845  난민 문제에 대하여 수용을 하겠다는 입장이라면 질문에 답을 해주길 바란다 그리고 책...   \n",
       "222867            동물 학대자의  소유권을 박탈, 동물보호단체에 소유권 이전시켜 주세요.   \n",
       "222925                              국립암센타에 한의진료과를 설치해 주세요   \n",
       "222933                          손흥민 선수 조현우 순수 군 입대 반대합니다.   \n",
       "222941                    예멘 난민 중  무장반군 포함됐을수도 있데요..심각합니다   \n",
       "222946                                  대한축구협회의 해체를 청원합니다   \n",
       "222972                        축구협회 개혁 및 적폐청산을 위한 인적물갈이 청원   \n",
       "223011                 대출금리 조작으로 국민들을 속인 은행을 공개하고 징계해주십시오   \n",
       "223099                         저출생 문제 해결을 위한 대한민국 국민의  청원   \n",
       "223115                              일자리 창출과 규제혁파를 통하 혁신성장   \n",
       "223159                [사우디 거주 교민] 난민 위장 불체자들의 실체를 알려드립니다.   \n",
       "223197                                    축구협회 특검수사 청원합니다   \n",
       "223215                          문재인 대통령님, 동성혼 합법화를 청원합니다.   \n",
       "223282                   보육교사 휴게시간 지침에.       관련 근로기준법 개정   \n",
       "223299            응급환자의 119구급대원 폭행에 대한 '구호를 하지않을 권리' 입법청원   \n",
       "223303                                     차별 금지법을 반대합니다.   \n",
       "223344                                          개 고양이도살금지   \n",
       "223363  국제 스포츠 대회에서 큰 활약을 한 해외진출 선수들의 병역의무에 대해 대체할수 있는...   \n",
       "223374                              경찰실습생 순직처리가 되도록 도와주세요   \n",
       "223382                                      여성가족부 해체 바랍니다   \n",
       "223442                                      난민 받지말라고 빌잖아요   \n",
       "\n",
       "                                                  content  \n",
       "183203  전국적으로 대도심의 지하 40~100미터 지하도로와 광역철도를 공사 진행 및 공사계...  \n",
       "183225  저는 평범한 시민이자, 민주당 지지자입니다.\\n그동안 김대중 대통령님,노무현 대통령...  \n",
       "183236  LH는 국민의 주거생활 향상 및 국토의 효율적 이용을 도모해 국민 경제 발전에 이바...  \n",
       "183242  강동구 둔촌주공아파트 재건축이 본격화 되면서 지하철9호선 공사와 맞물려 학생들의 안...  \n",
       "183263  어린이집 평가인증제 제발 없애주세요!!!\\n보육교사들은 자신의 자식보다 자신의 가족...  \n",
       "183286  의료용으로는 사용해도 된다고 생각합니다\\n아이를 키우는 입장에서 저희 아이가 아파서...  \n",
       "183290  대마 밀수 혐의의 한 의사의 스토리였다.\\n엄마는 \"2012년에 태어났는데 보통 3...  \n",
       "183329  방금 전 <이규연의 스포트라이트>에서 방영한 내용에 대해 청원합니다.\\n2016년 ...  \n",
       "183360  대통령까지 나서 원전을 수출하려고 노력하고 있습니다.\\n언제부터인가 각종 정부기관 ...  \n",
       "183365  러분 동물학대가 뭔지 아시나요?동물학대란?동물과 인간의 지속적인 행복 및 규정준수의...  \n",
       "183387  안녕하십니까? 저는 서울의 한 고등학교에 다니는 학생입니다. 제가 이 청원을 생각하...  \n",
       "183405  금산김씨(문중)지주와 광신(BKE.부경에너지)석유의 갑질횡포로\\n일어난 동생의 억울...  \n",
       "183428  주52시간 제한근무에 건설업,제조업,서비스업등의 일당제와 시간제 근로자는 예외시켜주...  \n",
       "183430  교습소운영중에 있습니다\\n교습소는 규모가 작습니다.\\n그래서 아무리 수용인원을 늘릴...  \n",
       "183446  김포시에 사는 가정주부 입니다..\\n11월 경전철 완공을 기다렸는데 갑자기 연기라고...  \n",
       "183459  시츄 두마리를 키우고 있는 견주 입니다.\\n강아지 들은 우리 가족에겐 더 없는 사랑...  \n",
       "183471  요즘 반려동물의 충동구매와 개인적인 사정으로 인해 유기견의 수가 증가하고 있습니다....  \n",
       "183493  어린이집 정기적  구청감사  부모모닝터링   급식관리지원센터 순회방문관리등  각 기...  \n",
       "183510  10년이 넘는 세월동안\\n무더위와 혹한 속에서도\\n피땀어린 눈물로 7호선 유치에\\n...  \n",
       "183540  반대한다! 고양시민은 정수장 앞 골프장 절대 불허!\\n- 한강유역환경청은 고양시민 ...  \n",
       "183556  안녕하세요. 평범한 국민의 한 사람입니다.\\n몇 일전 모 방송국에서 “집 아래로 고...  \n",
       "183589  안녕하세요.\\n저는 아산에 살고 있는 27살 남자구요.\\n부족한 글 솜씨지만 얼마 ...  \n",
       "183614  현 구본영 천안시장은 지난 4월 초 ‘수뢰 후 부정처사’ 및 ‘직권남용 권리행사 방...  \n",
       "183638  저는 평택시에서 근무하는 사회복지 전담공무원입니다.\\n지난 3월21일에, 약 일주일...  \n",
       "183644  안녕하세요, 저희는 수달 보호 프로젝트를 진행 중인 서울여자대학교 학생들입니다. 저...  \n",
       "183676  안녕하세요 저는 고등학교 기숙사생입니다. 어제 경기도 소재 한 고등학교에서 여학생 ...  \n",
       "183698  어제 \"실화탐사대\"라는 TV프로를 봤습니다.\\n뇌전증을 앓고 있는 7살 먹은 자녀가...  \n",
       "183719  세월호 사고로 운항 중단된 인천-제주 간 여객선 항로 사업자 선정 심사 불공정에 대...  \n",
       "183829  안녕하세요 저는 대한민국에 거주하는 여성입니다.\\n얼마전 안좋은 일이 하나 있었는데...  \n",
       "183849  사찰 입장료 폐지해야 됨니다\\n세상에 깡폐 집단도 아니고\\n봉이 김선달 인가\\n중생...  \n",
       "...                                                   ...  \n",
       "222691  조현우 손흥민 군면제 해주세요\\n그들은 할수있다라는 희망을 줬고\\n군대에 다녀오기에...  \n",
       "222714  -금번 월트컵으로 국민들의 사기를 북돋은 손흥민을 군면제 추천합니다  국위선양이 우...  \n",
       "222773  이번 월드컵에서 영웅이라고 해도 손색없는 손흥민 선수에게 군복무 면제를 요청합니다....  \n",
       "222785  \"사람이 아닌 국민이 대접받는 위대한 대한민국 건설을 위해!!!!!\"\\n문재인대통령...  \n",
       "222787  인간적으로 손흥민하고 조현우는 특별히 병역면제 해줍시다.\\n피파랭킹 57위가 피파랭...  \n",
       "222800  “7월 국무회의 상정 통과시킨 후 대통령령 공포 2022년 집행하려 한다”\\n정부가...  \n",
       "222803  현재 코스닥 상장사 신텍이 상장폐지 기로에 있습니다.\\n그이유는 공기업 남부발전 공...  \n",
       "222804  평범한 한 국민이 이역만리 미얀마에서 금지약물범이라는 무시무시한 누명을 쓰고 11년...  \n",
       "222813  지난 6월 23일 포스코는 최정우 후보를 차기 회장으로 이사회에서 선출하였다.\\n포...  \n",
       "222845  1.예맨 이슬람사상을 받아들이자고 말하는사람들은 과연 북한탈북민과 북한의 인권에 대...  \n",
       "222867  방금 전 3개월령의 프렌치 불독이 혈관도 잡히지 않고 골반뼈가 드러날 정도로 마른 ...  \n",
       "222925  국립암센타에 한의진료과를 설치해 주세요\\n이 문제는 보건복지부도, 국회도 해결하지 ...  \n",
       "222933  대한민국 국가의 위상을 드높이고 앞으로 발전가능성이 무궁무진한 두 선수는 축구협회발...  \n",
       "222941  인터넷 기사보다가 심장이 덜덜떠리는 기사를 봤습니다.\\n글을 쓰면서도 손이떨려쓰기가...  \n",
       "222946  대한민국 축구발전을 위하여 암적 존재인 축구협회의 해체를 청원합니다\\n국가는 촛불시...  \n",
       "222972  월드컵이 한국에게는 끝났습니다. 쏟아지던 비난과 개혁을 하라는 외침이 마지막 경기인...  \n",
       "223011  은행들은 이익 챙기기에만 몰두하여 작년 한해 37조를 벌었다고 합니다. 알고 보니 ...  \n",
       "223099  (이 청원은 여성들이 정식으로 정자를 구입 할 수 있는 방법을 제정해 달라는 청원이...  \n",
       "223115  존경하는 대통령님\\n한반도 평화구축을 통해 우리 국민에게 커다란 평화와 번영의 꿈을...  \n",
       "223159  중동에 살면서, 중동인들과 그들의 종교에 대해서 알게 되면서, 예멘 내전은 잘 들여...  \n",
       "223197  월드컵 축구국가대표 감독 신태용 경질과 축구협회 특검 수사를 청원합니다.\\n제가 이...  \n",
       "223215  헌법 제10조\\n모든 국민은 인간으로서의 존엄과 가치를 가지며, 행복을 추구할 권리...  \n",
       "223282  근로기준법 개정에 따라 정부가 다음달 1일부터 시행하기로 한 ‘보육교사 휴게시간 지...  \n",
       "223299  최근 119구급대원을 폭행하는 사건이 많이 발생하고 있습니다.\\n급기야 환자에게 폭...  \n",
       "223303  누구를 위한 법안인가요?\\n이 나라가 누구를 위한 나라인가요?\\n외국인들이 우리나라...  \n",
       "223344                              동물  보호법 강화 및  식용금지 촉구  \n",
       "223363  어제의 월드컵의 멋진 경기로 대한민국 국민들은 흥분의 도가니에 빠졌습니다. 특히 손...  \n",
       "223374  20대 경찰 실습생이 실습이 몇일뒤에 끝나 경찰관으로 임명되는데 그 몇일을 앞두고 ...  \n",
       "223382  대한민국, 연일 래디컬페미니스트(급진페미니즘을 추종하는 반사회적인 무리)들 주도하에...  \n",
       "223442  진짜 어디다가 말을 해야 들어줍니까?\\n청원에다 아무리 전국민이 호소해도 기사 꼴랑...  \n",
       "\n",
       "[1654 rows x 4 columns]"
      ]
     },
     "execution_count": 895,
     "metadata": {},
     "output_type": "execute_result"
    }
   ],
   "source": [
    "predict_incorrect[['category', 'category_pred', 'title', 'content']]"
   ]
  },
  {
   "cell_type": "markdown",
   "metadata": {
    "colab_type": "text",
    "id": "qtBaHB1Bt01c"
   },
   "source": [
    "## 원래 데이터 중 기타로 분류되었으나 분류기가 다르게 예측한 청원을 봅니다."
   ]
  },
  {
   "cell_type": "code",
   "execution_count": 896,
   "metadata": {
    "colab": {
     "autoexec": {
      "startup": false,
      "wait_interval": 0
     }
    },
    "colab_type": "code",
    "id": "vE8eaLzkt01c",
    "outputId": "26279d41-830e-43ea-dda8-e01a6c3855c4"
   },
   "outputs": [
    {
     "data": {
      "text/plain": [
       "Series([], Name: category_pred, dtype: int64)"
      ]
     },
     "execution_count": 896,
     "metadata": {},
     "output_type": "execute_result"
    }
   ],
   "source": [
    "predict_incorrect_etc = predict_incorrect.loc[predict_incorrect['category'] == '기타'].copy()\n",
    "predict_incorrect_etc[['category', 'category_pred', 'title', 'content']].head(10)\n",
    "predict_incorrect_etc[['category', 'category_pred', 'title', 'content']]['category_pred'].value_counts()"
   ]
  },
  {
   "cell_type": "code",
   "execution_count": null,
   "metadata": {
    "colab": {
     "autoexec": {
      "startup": false,
      "wait_interval": 0
     }
    },
    "colab_type": "code",
    "id": "0WE6CJGjt01f"
   },
   "outputs": [],
   "source": []
  },
  {
   "cell_type": "code",
   "execution_count": null,
   "metadata": {},
   "outputs": [],
   "source": []
  }
 ],
 "metadata": {
  "colab": {
   "default_view": {},
   "name": "petition_classification.ipynb",
   "provenance": [],
   "version": "0.3.2",
   "views": {}
  },
  "kernelspec": {
   "display_name": "Python 3",
   "language": "python",
   "name": "python3"
  },
  "language_info": {
   "codemirror_mode": {
    "name": "ipython",
    "version": 3
   },
   "file_extension": ".py",
   "mimetype": "text/x-python",
   "name": "python",
   "nbconvert_exporter": "python",
   "pygments_lexer": "ipython3",
   "version": "3.6.5"
  }
 },
 "nbformat": 4,
 "nbformat_minor": 1
}
