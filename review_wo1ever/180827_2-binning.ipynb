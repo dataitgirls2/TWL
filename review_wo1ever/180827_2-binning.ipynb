{
 "cells": [
  {
   "cell_type": "markdown",
   "metadata": {},
   "source": [
    "# 데이터 전처리 - binning\n",
    "* [Data binning - Wikipedia](https://en.wikipedia.org/wiki/Data_binning)\n",
    "* 수치형 데이터를 카테고리 형태로 바꾸는 것\n",
    "* 사소한 관측 오류의 영향을 줄이기 위해 사용되는 데이터 전처리 기술\n",
    "* 속성 값들을 구간(bin)별로 나누고 구간별 평균 또는 구간 중앙값으로 바꿔 바이너리화(이산화)하는 것\n",
    "* 지정된 빈(bin)의 개수에 기반한 하향식(Top-Down) 분할 기법\n",
    "* 통계적 데이터 비닝 은 더 많거나 적은 연속 값을 더 작은 수의 \"bin\"으로 그룹화하는 방법이다. 예를 들어, 사용자 그룹에 대한 데이터가있는 경우, 더 적은 수의 연령 간격으로 연령을 정렬 할 수 있다.\n",
    "* 반대로 카테고리 데이터를 바이너리 수치형 데이터로 바꾸는 것을 인코딩이라고 한다.\n",
    "\n",
    "\n",
    "## 버케팅(bucketing)\n",
    "하나의 특성(일반적으로 연속)을 버킷(bucket) 또는 빈(bin)이라고 하는 **여러 이진 특성으로 변환하는 작업**으로서, 일반적으로 값 범위를 기준으로 합니다. 예를 들어 온도를 하나의 부동 소수점 연속 특성으로 표현하는 대신 온도 범위를 불연속 빈으로 나눌 수 있습니다. 민감도가 1/10도인 온도 데이터가 있다면 0.0~15.0도 범위의 모든 온도를 1번 빈에, 15.1~30.0도 범위를 2번 빈에, 30.1~50.0도 범위를 3번 빈에 넣을 수 있습니다.(출처 : [Machine Learning Glossary - Google Developers](https://developers.google.com/machine-learning/glossary/#bucketing))\n",
    "\n"
   ]
  },
  {
   "cell_type": "code",
   "execution_count": 1,
   "metadata": {},
   "outputs": [
    {
     "name": "stdout",
     "output_type": "stream",
     "text": [
      "2.7.15 |Anaconda, Inc.| (default, May  1 2018, 18:37:09) [MSC v.1500 64 bit (AMD64)]\n",
      "0.23.0\n",
      "1.14.3\n",
      "0.4.1\n"
     ]
    }
   ],
   "source": [
    "import pandas as pd\n",
    "import numpy as np\n",
    "import missingno as msno # 누락 된 데이터를 시각화 해주기 위해\n",
    "\n",
    "import sys\n",
    "print(sys.version)\n",
    "print(pd.__version__)\n",
    "print(np.__version__)\n",
    "print(msno.__version__)"
   ]
  },
  {
   "cell_type": "code",
   "execution_count": 2,
   "metadata": {},
   "outputs": [
    {
     "name": "stdout",
     "output_type": "stream",
     "text": [
      "(891, 12)\n",
      "(418, 11)\n"
     ]
    }
   ],
   "source": [
    "# 판다스를 통해 데이터를 로드해 온다.\n",
    "# 여기에서는 캐글의 타이타닉 데이터를 사용한다. \n",
    "# 데이터 다운로드 : https://www.kaggle.com/c/titanic/data \n",
    "train = pd.read_csv('data/train.csv')\n",
    "test = pd.read_csv('data/test.csv')\n",
    "\n",
    "print(train.shape)\n",
    "print(test.shape)"
   ]
  },
  {
   "cell_type": "markdown",
   "metadata": {},
   "source": [
    "## 값의 기준을 정해주고 채워주기"
   ]
  },
  {
   "cell_type": "code",
   "execution_count": 3,
   "metadata": {},
   "outputs": [],
   "source": [
    "# 티켓 요금에 따라 Low, Medium, High로 분류\n",
    "train[\"Fare_Low\"] = train[\"Fare\"] < 10\n",
    "train[\"Fare_Medium\"] = (train[\"Fare\"] >= 10) & (train[\"Fare\"] < 50 )\n",
    "train[\"Fare_High\"] = train[\"Fare\"] >= 50"
   ]
  },
  {
   "cell_type": "markdown",
   "metadata": {},
   "source": [
    "## pandas의 cut, qcut을 이용\n",
    "* [pandas.qcut — pandas 0.22.0 documentation](https://pandas.pydata.org/pandas-docs/stable/generated/pandas.qcut.html)\n",
    "* bin의 size를 정해주거나, "
   ]
  },
  {
   "cell_type": "code",
   "execution_count": 4,
   "metadata": {},
   "outputs": [],
   "source": [
    "# binning 전에 결측치를 채워준다.\n",
    "# 중간값으로 누락된 요금을 채워준다.\n",
    "train['Fare'].fillna(train['Fare'].median(), inplace = True)\n",
    "# 중간값으로 누락된 나이 데이터를 채워준다.\n",
    "train['Age'].fillna(train['Age'].median(), inplace = True)"
   ]
  },
  {
   "cell_type": "code",
   "execution_count": 5,
   "metadata": {},
   "outputs": [],
   "source": [
    "# Continuous variable bins; qcut vs cut: https://stackoverflow.com/questions/30211923/what-is-the-difference-between-pandas-qcut-and-pandas-cut\n",
    "# Fare Bins/Buckets using qcut or frequency bins: https://pandas.pydata.org/pandas-docs/stable/generated/pandas.qcut.html\n",
    "# 몇 개 단위의 Bin으로 묶어줄지 지정해 주면 알아서 데이터를 분리해 줌\n",
    "# qcut은 동일한 갯수로 bin에 들어가도록 담아줌\n",
    "train['FareBin'] = pd.qcut(train['Fare'], 4)\n",
    "# 4 : 같은 개수의 묶음으로 알아서 나누어 줌\n",
    "\n",
    "# Age Bins/Buckets using cut or value bins: https://pandas.pydata.org/pandas-docs/stable/generated/pandas.cut.html\n",
    "# cut은 동일한 간격으로 나눠줌\n",
    "train['AgeBin'] = pd.cut(train['Age'].astype(int), 5)"
   ]
  },
  {
   "cell_type": "code",
   "execution_count": 6,
   "metadata": {},
   "outputs": [
    {
     "data": {
      "text/html": [
       "<div>\n",
       "<style scoped>\n",
       "    .dataframe tbody tr th:only-of-type {\n",
       "        vertical-align: middle;\n",
       "    }\n",
       "\n",
       "    .dataframe tbody tr th {\n",
       "        vertical-align: top;\n",
       "    }\n",
       "\n",
       "    .dataframe thead th {\n",
       "        text-align: right;\n",
       "    }\n",
       "</style>\n",
       "<table border=\"1\" class=\"dataframe\">\n",
       "  <thead>\n",
       "    <tr style=\"text-align: right;\">\n",
       "      <th></th>\n",
       "      <th>Fare</th>\n",
       "      <th>FareBin</th>\n",
       "      <th>Age</th>\n",
       "      <th>AgeBin</th>\n",
       "    </tr>\n",
       "  </thead>\n",
       "  <tbody>\n",
       "    <tr>\n",
       "      <th>0</th>\n",
       "      <td>7.2500</td>\n",
       "      <td>(-0.001, 7.91]</td>\n",
       "      <td>22.0</td>\n",
       "      <td>(16.0, 32.0]</td>\n",
       "    </tr>\n",
       "    <tr>\n",
       "      <th>1</th>\n",
       "      <td>71.2833</td>\n",
       "      <td>(31.0, 512.329]</td>\n",
       "      <td>38.0</td>\n",
       "      <td>(32.0, 48.0]</td>\n",
       "    </tr>\n",
       "    <tr>\n",
       "      <th>2</th>\n",
       "      <td>7.9250</td>\n",
       "      <td>(7.91, 14.454]</td>\n",
       "      <td>26.0</td>\n",
       "      <td>(16.0, 32.0]</td>\n",
       "    </tr>\n",
       "    <tr>\n",
       "      <th>3</th>\n",
       "      <td>53.1000</td>\n",
       "      <td>(31.0, 512.329]</td>\n",
       "      <td>35.0</td>\n",
       "      <td>(32.0, 48.0]</td>\n",
       "    </tr>\n",
       "    <tr>\n",
       "      <th>4</th>\n",
       "      <td>8.0500</td>\n",
       "      <td>(7.91, 14.454]</td>\n",
       "      <td>35.0</td>\n",
       "      <td>(32.0, 48.0]</td>\n",
       "    </tr>\n",
       "  </tbody>\n",
       "</table>\n",
       "</div>"
      ],
      "text/plain": [
       "      Fare          FareBin   Age        AgeBin\n",
       "0   7.2500   (-0.001, 7.91]  22.0  (16.0, 32.0]\n",
       "1  71.2833  (31.0, 512.329]  38.0  (32.0, 48.0]\n",
       "2   7.9250   (7.91, 14.454]  26.0  (16.0, 32.0]\n",
       "3  53.1000  (31.0, 512.329]  35.0  (32.0, 48.0]\n",
       "4   8.0500   (7.91, 14.454]  35.0  (32.0, 48.0]"
      ]
     },
     "execution_count": 6,
     "metadata": {},
     "output_type": "execute_result"
    }
   ],
   "source": [
    "train[['Fare', 'FareBin', 'Age', 'AgeBin']].head()"
   ]
  },
  {
   "cell_type": "code",
   "execution_count": 7,
   "metadata": {},
   "outputs": [
    {
     "data": {
      "text/plain": [
       "(7.91, 14.454]     224\n",
       "(-0.001, 7.91]     223\n",
       "(31.0, 512.329]    222\n",
       "(14.454, 31.0]     222\n",
       "Name: FareBin, dtype: int64"
      ]
     },
     "execution_count": 7,
     "metadata": {},
     "output_type": "execute_result"
    }
   ],
   "source": [
    "train['FareBin'].value_counts()"
   ]
  },
  {
   "cell_type": "code",
   "execution_count": 8,
   "metadata": {},
   "outputs": [
    {
     "data": {
      "text/plain": [
       "(16.0, 32.0]     525\n",
       "(32.0, 48.0]     186\n",
       "(-0.08, 16.0]    100\n",
       "(48.0, 64.0]      69\n",
       "(64.0, 80.0]      11\n",
       "Name: AgeBin, dtype: int64"
      ]
     },
     "execution_count": 8,
     "metadata": {},
     "output_type": "execute_result"
    }
   ],
   "source": [
    "train['AgeBin'].value_counts()"
   ]
  },
  {
   "cell_type": "code",
   "execution_count": 9,
   "metadata": {},
   "outputs": [
    {
     "name": "stdout",
     "output_type": "stream",
     "text": [
      "1     537\n",
      "2     161\n",
      "3     102\n",
      "4      29\n",
      "6      22\n",
      "5      15\n",
      "7      12\n",
      "11      7\n",
      "8       6\n",
      "Name: FamilySize, dtype: int64\n"
     ]
    }
   ],
   "source": [
    "train['FamilySize'] = train['SibSp'] + train['Parch']+1\n",
    "test['FamilySize'] = test['SibSp'] + test['Parch']+1\n",
    "print(train['FamilySize'].value_counts())"
   ]
  },
  {
   "cell_type": "code",
   "execution_count": 10,
   "metadata": {},
   "outputs": [
    {
     "name": "stdout",
     "output_type": "stream",
     "text": [
      "['small' 'singleton' 'large']\n",
      "singleton    537\n",
      "small        292\n",
      "large         62\n",
      "Name: FsizeD, dtype: int64\n"
     ]
    }
   ],
   "source": [
    "train.loc[train['FamilySize'] == 1, 'FsizeD'] = 'singleton'\n",
    "train.loc[(train['FamilySize'] > 1)  &  (train['FamilySize'] < 5) , 'FsizeD'] = 'small'\n",
    "train.loc[train['FamilySize'] >4, 'FsizeD'] = 'large'\n",
    "\n",
    "test.loc[test['FamilySize'] == 1, 'FsizeD'] = 'singleton'\n",
    "test.loc[(test['FamilySize'] >1) & (test['FamilySize'] <5) , 'FsizeD'] = 'small'\n",
    "test.loc[test['FamilySize'] >4, 'FsizeD'] = 'large'\n",
    "print(train['FsizeD'].unique())\n",
    "print(train['FsizeD'].value_counts())"
   ]
  },
  {
   "cell_type": "code",
   "execution_count": 11,
   "metadata": {},
   "outputs": [
    {
     "data": {
      "text/plain": [
       "1     537\n",
       "2     161\n",
       "3     102\n",
       "4      29\n",
       "6      22\n",
       "5      15\n",
       "7      12\n",
       "11      7\n",
       "8       6\n",
       "Name: FamilySize, dtype: int64"
      ]
     },
     "execution_count": 11,
     "metadata": {},
     "output_type": "execute_result"
    }
   ],
   "source": [
    "train['FamilySize'].value_counts()"
   ]
  },
  {
   "cell_type": "code",
   "execution_count": 12,
   "metadata": {},
   "outputs": [
    {
     "data": {
      "text/html": [
       "<div>\n",
       "<style scoped>\n",
       "    .dataframe tbody tr th:only-of-type {\n",
       "        vertical-align: middle;\n",
       "    }\n",
       "\n",
       "    .dataframe tbody tr th {\n",
       "        vertical-align: top;\n",
       "    }\n",
       "\n",
       "    .dataframe thead th {\n",
       "        text-align: right;\n",
       "    }\n",
       "</style>\n",
       "<table border=\"1\" class=\"dataframe\">\n",
       "  <thead>\n",
       "    <tr style=\"text-align: right;\">\n",
       "      <th></th>\n",
       "      <th>FamilySize</th>\n",
       "      <th>FamilyBin</th>\n",
       "    </tr>\n",
       "  </thead>\n",
       "  <tbody>\n",
       "    <tr>\n",
       "      <th>0</th>\n",
       "      <td>2</td>\n",
       "      <td>M</td>\n",
       "    </tr>\n",
       "    <tr>\n",
       "      <th>1</th>\n",
       "      <td>2</td>\n",
       "      <td>M</td>\n",
       "    </tr>\n",
       "    <tr>\n",
       "      <th>2</th>\n",
       "      <td>1</td>\n",
       "      <td>S</td>\n",
       "    </tr>\n",
       "    <tr>\n",
       "      <th>3</th>\n",
       "      <td>2</td>\n",
       "      <td>M</td>\n",
       "    </tr>\n",
       "    <tr>\n",
       "      <th>4</th>\n",
       "      <td>1</td>\n",
       "      <td>S</td>\n",
       "    </tr>\n",
       "  </tbody>\n",
       "</table>\n",
       "</div>"
      ],
      "text/plain": [
       "   FamilySize FamilyBin\n",
       "0           2         M\n",
       "1           2         M\n",
       "2           1         S\n",
       "3           2         M\n",
       "4           1         S"
      ]
     },
     "execution_count": 12,
     "metadata": {},
     "output_type": "execute_result"
    }
   ],
   "source": [
    "train['FamilyBin'] = pd.cut(train['FamilySize'], [0, 1, 4, 11], labels=['S', 'M', 'L'])\n",
    "train[['FamilySize', 'FamilyBin']].head()\n",
    "# 1, 2~4, 5~11 까지를 묶어줌."
   ]
  },
  {
   "cell_type": "code",
   "execution_count": 13,
   "metadata": {},
   "outputs": [
    {
     "data": {
      "text/plain": [
       "S    537\n",
       "M    292\n",
       "L     62\n",
       "Name: FamilyBin, dtype: int64"
      ]
     },
     "execution_count": 13,
     "metadata": {},
     "output_type": "execute_result"
    }
   ],
   "source": [
    "train['FamilyBin'].value_counts()"
   ]
  },
  {
   "cell_type": "code",
   "execution_count": null,
   "metadata": {},
   "outputs": [],
   "source": []
  }
 ],
 "metadata": {
  "kernelspec": {
   "display_name": "Python 3",
   "language": "python",
   "name": "python3"
  },
  "language_info": {
   "codemirror_mode": {
    "name": "ipython",
    "version": 3
   },
   "file_extension": ".py",
   "mimetype": "text/x-python",
   "name": "python",
   "nbconvert_exporter": "python",
   "pygments_lexer": "ipython3",
   "version": "3.6.5"
  }
 },
 "nbformat": 4,
 "nbformat_minor": 2
}
